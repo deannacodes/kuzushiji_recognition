{
 "cells": [
  {
   "cell_type": "code",
   "execution_count": 6,
   "metadata": {},
   "outputs": [],
   "source": [
    "from __future__ import absolute_import, division, print_function, unicode_literals\n",
    "from keras.models import Sequential\n",
    "from keras.layers import Dense, Dropout, Activation, Flatten\n",
    "from keras.utils import np_utils\n",
    "import functools\n",
    "import tensorflow as tf\n",
    "import numpy as np\n",
    "import pandas as pd\n",
    "from datetime import datetime\n",
    "import math"
   ]
  },
  {
   "cell_type": "code",
   "execution_count": 7,
   "metadata": {},
   "outputs": [
    {
     "name": "stdout",
     "output_type": "stream",
     "text": [
      "(683464, 901)\n"
     ]
    }
   ],
   "source": [
    "df_characters = pd.read_csv(\"all_chars.csv\",error_bad_lines=False)\n",
    "print(df_characters.shape)"
   ]
  },
  {
   "cell_type": "code",
   "execution_count": 8,
   "metadata": {},
   "outputs": [],
   "source": [
    "df_unicode_to_char = pd.read_csv(\"https://raw.githubusercontent.com/deannacodes/kuzushiji_recognition/master/unicode_translation.csv\",error_bad_lines=False)\n",
    "dict_unicode_to_char = df_unicode_to_char.set_index('Unicode').T.to_dict('list')"
   ]
  },
  {
   "cell_type": "code",
   "execution_count": 9,
   "metadata": {},
   "outputs": [],
   "source": [
    "X = df_characters.drop(columns=[\"character\"])\n",
    "y = df_characters[\"character\"]"
   ]
  },
  {
   "cell_type": "code",
   "execution_count": 10,
   "metadata": {},
   "outputs": [],
   "source": [
    "import math\n",
    "\n",
    "unicode_to_int = {}\n",
    "unicode_to_char = {}\n",
    "count = 0\n",
    "for unicode in df_unicode_to_char[\"Unicode\"]:\n",
    "    unicode_to_int[unicode] = count\n",
    "    if unicode in dict_unicode_to_char:\n",
    "        unicode_to_char[count] = dict_unicode_to_char[unicode][0]\n",
    "    count += 1\n",
    "    \n",
    "y = y.map(unicode_to_int)  \n",
    "y = y.to_numpy()\n",
    "# Some values in the dataframe were showing as nan, so we have to get rid of them manually.\n",
    "drops = []\n",
    "for i in range(0,len(y)):\n",
    "    if math.isnan(y[i]):\n",
    "        drops.append(i)\n",
    "\n",
    "y = np.delete(y,drops,0)\n",
    "X = X.drop(drops)\n",
    "df_characters = df_characters.drop(drops)\n",
    "X = X.to_numpy().astype('int')"
   ]
  },
  {
   "cell_type": "code",
   "execution_count": 6,
   "metadata": {},
   "outputs": [
    {
     "name": "stdout",
     "output_type": "stream",
     "text": [
      "predicted:  は\n"
     ]
    },
    {
     "data": {
      "image/png": "[encoded data removed]",
      "text/plain": [
       "<Figure size 72x72 with 1 Axes>"
      ]
     },
     "metadata": {
      "needs_background": "light"
     },
     "output_type": "display_data"
    },
    {
     "name": "stdout",
     "output_type": "stream",
     "text": [
      "predicted:  ら\n"
     ]
    },
    {
     "data": {
      "image/png": "[encoded data removed]",
      "text/plain": [
       "<Figure size 72x72 with 1 Axes>"
      ]
     },
     "metadata": {
      "needs_background": "light"
     },
     "output_type": "display_data"
    },
    {
     "name": "stdout",
     "output_type": "stream",
     "text": [
      "predicted:  天\n"
     ]
    },
    {
     "data": {
      "image/png": "[encoded data removed]",
      "text/plain": [
       "<Figure size 72x72 with 1 Axes>"
      ]
     },
     "metadata": {
      "needs_background": "light"
     },
     "output_type": "display_data"
    },
    {
     "name": "stdout",
     "output_type": "stream",
     "text": [
      "predicted:  ゝ\n"
     ]
    },
    {
     "data": {
      "image/png": "[encoded data removed]",
      "text/plain": [
       "<Figure size 72x72 with 1 Axes>"
      ]
     },
     "metadata": {
      "needs_background": "light"
     },
     "output_type": "display_data"
    },
    {
     "name": "stdout",
     "output_type": "stream",
     "text": [
      "predicted:  根\n"
     ]
    },
    {
     "data": {
      "image/png": "[encoded data removed]",
      "text/plain": [
       "<Figure size 72x72 with 1 Axes>"
      ]
     },
     "metadata": {
      "needs_background": "light"
     },
     "output_type": "display_data"
    },
    {
     "name": "stdout",
     "output_type": "stream",
     "text": [
      "predicted:  と\n"
     ]
    },
    {
     "data": {
      "image/png": "[encoded data removed]",
      "text/plain": [
       "<Figure size 72x72 with 1 Axes>"
      ]
     },
     "metadata": {
      "needs_background": "light"
     },
     "output_type": "display_data"
    },
    {
     "name": "stdout",
     "output_type": "stream",
     "text": [
      "predicted:  也\n"
     ]
    },
    {
     "data": {
      "image/png": "[encoded data removed]",
      "text/plain": [
       "<Figure size 72x72 with 1 Axes>"
      ]
     },
     "metadata": {
      "needs_background": "light"
     },
     "output_type": "display_data"
    },
    {
     "name": "stdout",
     "output_type": "stream",
     "text": [
      "predicted:  付\n"
     ]
    },
    {
     "data": {
      "image/png": "[encoded data removed]",
      "text/plain": [
       "<Figure size 72x72 with 1 Axes>"
      ]
     },
     "metadata": {
      "needs_background": "light"
     },
     "output_type": "display_data"
    },
    {
     "name": "stdout",
     "output_type": "stream",
     "text": [
      "predicted:  ど\n"
     ]
    },
    {
     "data": {
      "image/png": "[encoded data removed]",
      "text/plain": [
       "<Figure size 72x72 with 1 Axes>"
      ]
     },
     "metadata": {
      "needs_background": "light"
     },
     "output_type": "display_data"
    },
    {
     "name": "stdout",
     "output_type": "stream",
     "text": [
      "predicted:  棟\n"
     ]
    },
    {
     "data": {
      "image/png": "[encoded data removed]",
      "text/plain": [
       "<Figure size 72x72 with 1 Axes>"
      ]
     },
     "metadata": {
      "needs_background": "light"
     },
     "output_type": "display_data"
    }
   ],
   "source": [
    "import matplotlib.pyplot as plt\n",
    "\n",
    "%matplotlib inline\n",
    "\n",
    "r = [n*100 for n in range(10)]\n",
    "for i in r:\n",
    "    image = X[i].reshape(30,30)\n",
    "    plt.figure(figsize=(1,1))\n",
    "    plt.imshow(image, cmap=plt.cm.gray, interpolation='nearest')\n",
    "    print(\"predicted: \", unicode_to_char[y[i]])\n",
    "    plt.show()\n"
   ]
  },
  {
   "cell_type": "code",
   "execution_count": 11,
   "metadata": {},
   "outputs": [],
   "source": [
    "from sklearn.model_selection import train_test_split\n",
    "\n",
    "X = X.astype('float32')\n",
    "X /= 255\n",
    "y = np_utils.to_categorical(y, len(unicode_to_int))\n",
    "\n",
    "X_train, X_test, y_train, y_test = train_test_split(X, y, test_size=0.1, random_state=3)"
   ]
  },
  {
   "cell_type": "code",
   "execution_count": 18,
   "metadata": {},
   "outputs": [
    {
     "name": "stdout",
     "output_type": "stream",
     "text": [
      "Input Width: 900\n",
      "Data Size: 615097\n",
      "Output Size: 4781\n"
     ]
    }
   ],
   "source": [
    "model = Sequential()\n",
    "input_size = 900\n",
    "hidden_neurons = 630\n",
    "out_size = len(unicode_to_int)\n",
    "\n",
    "print(\"Input Width:\", input_size)\n",
    "print(\"Data Size:\", len(X_train))\n",
    "print(\"Output Size:\", out_size)"
   ]
  },
  {
   "cell_type": "code",
   "execution_count": 8,
   "metadata": {},
   "outputs": [],
   "source": [
    "model.add(Dense(hidden_neurons, input_dim = input_size))\n",
    "model.add(Activation('sigmoid')) \n",
    "model.add(Dense(out_size, input_dim = hidden_neurons))\n",
    "model.add(Activation('softmax'))"
   ]
  },
  {
   "cell_type": "code",
   "execution_count": null,
   "metadata": {},
   "outputs": [
    {
     "name": "stdout",
     "output_type": "stream",
     "text": [
      "Train on 412114 samples, validate on 202983 samples\n",
      "Epoch 1/30\n",
      "412114/412114 [==============================] - 974s 2ms/step - loss: 2.5257 - accuracy: 0.5470 - val_loss: 1.9008 - val_accuracy: 0.6397\n",
      "Epoch 2/30\n",
      "412114/412114 [==============================] - 985s 2ms/step - loss: 1.6169 - accuracy: 0.6715 - val_loss: 1.6444 - val_accuracy: 0.6815\n",
      "Epoch 3/30\n",
      "412114/412114 [==============================] - 936s 2ms/step - loss: 1.3770 - accuracy: 0.7050 - val_loss: 1.6184 - val_accuracy: 0.6848\n",
      "Epoch 4/30\n",
      "412114/412114 [==============================] - 940s 2ms/step - loss: 1.2493 - accuracy: 0.7254 - val_loss: 1.6022 - val_accuracy: 0.6987\n",
      "Epoch 5/30\n",
      "412114/412114 [==============================] - 952s 2ms/step - loss: 1.1544 - accuracy: 0.7418 - val_loss: 1.6097 - val_accuracy: 0.7015\n",
      "Epoch 6/30\n",
      "412114/412114 [==============================] - 959s 2ms/step - loss: 1.0906 - accuracy: 0.7529 - val_loss: 1.5713 - val_accuracy: 0.7185\n",
      "Epoch 7/30\n",
      "412114/412114 [==============================] - 889s 2ms/step - loss: 1.0318 - accuracy: 0.7643 - val_loss: 1.5972 - val_accuracy: 0.7151\n",
      "Epoch 8/30\n",
      "412114/412114 [==============================] - 895s 2ms/step - loss: 0.9898 - accuracy: 0.7720 - val_loss: 1.6359 - val_accuracy: 0.7166\n",
      "Epoch 9/30\n",
      "412114/412114 [==============================] - 938s 2ms/step - loss: 0.9557 - accuracy: 0.7785 - val_loss: 1.6458 - val_accuracy: 0.7212\n",
      "Epoch 10/30\n",
      "412114/412114 [==============================] - 916s 2ms/step - loss: 0.9243 - accuracy: 0.7842 - val_loss: 1.6456 - val_accuracy: 0.7267\n",
      "Epoch 11/30\n",
      "412114/412114 [==============================] - 930s 2ms/step - loss: 0.8925 - accuracy: 0.7907 - val_loss: 1.7084 - val_accuracy: 0.7221\n",
      "Epoch 12/30\n",
      "412114/412114 [==============================] - 887s 2ms/step - loss: 0.8649 - accuracy: 0.7957 - val_loss: 1.6925 - val_accuracy: 0.7282\n",
      "Epoch 13/30\n",
      "412114/412114 [==============================] - 945s 2ms/step - loss: 0.8399 - accuracy: 0.8010 - val_loss: 1.6992 - val_accuracy: 0.7311\n",
      "Epoch 14/30\n",
      "412114/412114 [==============================] - 979s 2ms/step - loss: 0.8186 - accuracy: 0.8052 - val_loss: 1.7475 - val_accuracy: 0.7264\n",
      "Epoch 15/30\n",
      "412114/412114 [==============================] - 966s 2ms/step - loss: 0.7998 - accuracy: 0.8095 - val_loss: 1.7655 - val_accuracy: 0.7317\n",
      "Epoch 16/30\n",
      "412114/412114 [==============================] - 948s 2ms/step - loss: 0.7780 - accuracy: 0.8126 - val_loss: 1.7820 - val_accuracy: 0.7346\n",
      "Epoch 17/30\n",
      "412114/412114 [==============================] - 965s 2ms/step - loss: 0.7583 - accuracy: 0.8168 - val_loss: 1.8559 - val_accuracy: 0.7309\n",
      "Epoch 18/30\n",
      "412114/412114 [==============================] - 984s 2ms/step - loss: 0.7420 - accuracy: 0.8206 - val_loss: 1.8188 - val_accuracy: 0.7383\n",
      "Epoch 19/30\n",
      "412114/412114 [==============================] - 960s 2ms/step - loss: 0.7283 - accuracy: 0.8234 - val_loss: 1.8521 - val_accuracy: 0.7303\n",
      "Epoch 20/30\n",
      "412114/412114 [==============================] - 940s 2ms/step - loss: 0.7074 - accuracy: 0.8276 - val_loss: 1.8787 - val_accuracy: 0.7294\n",
      "Epoch 21/30\n",
      "412114/412114 [==============================] - 943s 2ms/step - loss: 0.6948 - accuracy: 0.8298 - val_loss: 1.9171 - val_accuracy: 0.7313\n",
      "Epoch 22/30\n",
      "412114/412114 [==============================] - 935s 2ms/step - loss: 0.6862 - accuracy: 0.8318 - val_loss: 1.9113 - val_accuracy: 0.7338\n",
      "Epoch 23/30\n",
      "412114/412114 [==============================] - 949s 2ms/step - loss: 0.6711 - accuracy: 0.8347 - val_loss: 1.9397 - val_accuracy: 0.7352\n",
      "Epoch 24/30\n",
      "412114/412114 [==============================] - 943s 2ms/step - loss: 0.6552 - accuracy: 0.8388 - val_loss: 1.9633 - val_accuracy: 0.7407\n",
      "Epoch 25/30\n",
      "412114/412114 [==============================] - 1063s 3ms/step - loss: 0.6464 - accuracy: 0.8402 - val_loss: 2.0038 - val_accuracy: 0.7340\n",
      "Epoch 26/30\n",
      "412114/412114 [==============================] - 1025s 2ms/step - loss: 0.6387 - accuracy: 0.8413 - val_loss: 2.0284 - val_accuracy: 0.7346\n",
      "Epoch 27/30\n",
      "412114/412114 [==============================] - 1028s 2ms/step - loss: 0.6256 - accuracy: 0.8439 - val_loss: 2.0665 - val_accuracy: 0.7286\n",
      "Epoch 28/30\n",
      "412114/412114 [==============================] - 961s 2ms/step - loss: 0.6165 - accuracy: 0.8462 - val_loss: 2.0847 - val_accuracy: 0.7361\n",
      "Epoch 29/30\n",
      "412114/412114 [==============================] - 942s 2ms/step - loss: 0.6083 - accuracy: 0.8480 - val_loss: 2.1219 - val_accuracy: 0.7382\n",
      "Epoch 30/30\n",
      "395168/412114 [===========================>..] - ETA: 40s - loss: 0.5981 - accuracy: 0.8501"
     ]
    }
   ],
   "source": [
    "model.compile(loss='categorical_crossentropy',\n",
    "              metrics=['accuracy'],\n",
    "              optimizer='adam')\n",
    "\n",
    "fitted_model = model.fit(X_train, y_train, validation_split=0.33, batch_size=32, epochs=30, verbose=1)"
   ]
  },
  {
   "cell_type": "code",
   "execution_count": 4,
   "metadata": {},
   "outputs": [],
   "source": [
    "import joblib   \n",
    "\n",
    "#joblib.dump(model, 'kuzushiji_model.pkl')   \n",
    "\n",
    "model_from_file = joblib.load('kuzushiji_model.pkl')  "
   ]
  },
  {
   "cell_type": "code",
   "execution_count": 12,
   "metadata": {},
   "outputs": [
    {
     "name": "stdout",
     "output_type": "stream",
     "text": [
      "68345/68345 [==============================] - 18s 267us/step\n",
      "[2.0971414547237255, 0.7371717095375061]\n"
     ]
    }
   ],
   "source": [
    "y_predict = model_from_file.predict(X_test, verbose=0)\n",
    "score = model_from_file.evaluate(X_test, y_test, verbose=1)\n",
    "print(score)"
   ]
  },
  {
   "cell_type": "code",
   "execution_count": 15,
   "metadata": {},
   "outputs": [
    {
     "name": "stdout",
     "output_type": "stream",
     "text": [
      "(1, 110, 3670)\n",
      "predicted:  め actual:  衝\n"
     ]
    },
    {
     "data": {
      "image/png": "[encoded data removed]",
      "text/plain": [
       "<Figure size 72x72 with 1 Axes>"
      ]
     },
     "metadata": {
      "needs_background": "light"
     },
     "output_type": "display_data"
    },
    {
     "name": "stdout",
     "output_type": "stream",
     "text": [
      "(4, 4348, 107)\n",
      "predicted:  雲 actual:  ま\n"
     ]
    },
    {
     "data": {
      "image/png": "[encoded data removed]",
      "text/plain": [
       "<Figure size 72x72 with 1 Axes>"
      ]
     },
     "metadata": {
      "needs_background": "light"
     },
     "output_type": "display_data"
    },
    {
     "name": "stdout",
     "output_type": "stream",
     "text": [
      "(6, 642, 168)\n",
      "predicted:  十 actual:  ナ\n"
     ]
    },
    {
     "data": {
      "image/png": "[encoded data removed]",
      "text/plain": [
       "<Figure size 72x72 with 1 Axes>"
      ]
     },
     "metadata": {
      "needs_background": "light"
     },
     "output_type": "display_data"
    },
    {
     "name": "stdout",
     "output_type": "stream",
     "text": [
      "(7, 169, 203)\n",
      "predicted:  ニ actual:  ヱ\n"
     ]
    },
    {
     "data": {
      "image/png": "[encoded data removed]",
      "text/plain": [
       "<Figure size 72x72 with 1 Axes>"
      ]
     },
     "metadata": {
      "needs_background": "light"
     },
     "output_type": "display_data"
    },
    {
     "name": "stdout",
     "output_type": "stream",
     "text": [
      "(11, 87, 107)\n",
      "predicted:  な actual:  ま\n"
     ]
    },
    {
     "data": {
      "image/png": "[encoded data removed]",
      "text/plain": [
       "<Figure size 72x72 with 1 Axes>"
      ]
     },
     "metadata": {
      "needs_background": "light"
     },
     "output_type": "display_data"
    },
    {
     "name": "stdout",
     "output_type": "stream",
     "text": [
      "(16, 2190, 1556)\n",
      "predicted:  民 actual:  戊\n"
     ]
    },
    {
     "data": {
      "image/png": "[encoded data removed]",
      "text/plain": [
       "<Figure size 72x72 with 1 Axes>"
      ]
     },
     "metadata": {
      "needs_background": "light"
     },
     "output_type": "display_data"
    },
    {
     "name": "stdout",
     "output_type": "stream",
     "text": [
      "(17, 1871, 107)\n",
      "predicted:  書 actual:  ま\n"
     ]
    },
    {
     "data": {
      "image/png": "[encoded data removed]",
      "text/plain": [
       "<Figure size 72x72 with 1 Axes>"
      ]
     },
     "metadata": {
      "needs_background": "light"
     },
     "output_type": "display_data"
    },
    {
     "name": "stdout",
     "output_type": "stream",
     "text": [
      "(18, 119, 56)\n",
      "predicted:  り actual:  か\n"
     ]
    },
    {
     "data": {
      "image/png": "[encoded data removed]",
      "text/plain": [
       "<Figure size 72x72 with 1 Axes>"
      ]
     },
     "metadata": {
      "needs_background": "light"
     },
     "output_type": "display_data"
    },
    {
     "name": "stdout",
     "output_type": "stream",
     "text": [
      "(19, 1250, 574)\n",
      "predicted:  川 actual:  則\n"
     ]
    },
    {
     "data": {
      "image/png": "[encoded data removed]",
      "text/plain": [
       "<Figure size 72x72 with 1 Axes>"
      ]
     },
     "metadata": {
      "needs_background": "light"
     },
     "output_type": "display_data"
    },
    {
     "name": "stdout",
     "output_type": "stream",
     "text": [
      "(20, 84, 83)\n",
      "predicted:  で actual:  て\n"
     ]
    },
    {
     "data": {
      "image/png": "[encoded data removed]",
      "text/plain": [
       "<Figure size 72x72 with 1 Axes>"
      ]
     },
     "metadata": {
      "needs_background": "light"
     },
     "output_type": "display_data"
    },
    {
     "name": "stdout",
     "output_type": "stream",
     "text": [
      "(22, 118, 2677)\n",
      "predicted:  ら actual:  白\n"
     ]
    },
    {
     "data": {
      "image/png": "[encoded data removed]",
      "text/plain": [
       "<Figure size 72x72 with 1 Axes>"
      ]
     },
     "metadata": {
      "needs_background": "light"
     },
     "output_type": "display_data"
    },
    {
     "name": "stdout",
     "output_type": "stream",
     "text": [
      "(30, 4310, 2264)\n",
      "predicted:  階 actual:  浮\n"
     ]
    },
    {
     "data": {
      "image/png": "[encoded data removed]",
      "text/plain": [
       "<Figure size 72x72 with 1 Axes>"
      ]
     },
     "metadata": {
      "needs_background": "light"
     },
     "output_type": "display_data"
    },
    {
     "name": "stdout",
     "output_type": "stream",
     "text": [
      "(37, 903, 4458)\n",
      "predicted:  城 actual:  餅\n"
     ]
    },
    {
     "data": {
      "image/png": "[encoded data removed]",
      "text/plain": [
       "<Figure size 72x72 with 1 Axes>"
      ]
     },
     "metadata": {
      "needs_background": "light"
     },
     "output_type": "display_data"
    },
    {
     "name": "stdout",
     "output_type": "stream",
     "text": [
      "(40, 3772, 4084)\n",
      "predicted:  証 actual:  道\n"
     ]
    },
    {
     "data": {
      "image/png": "[encoded data removed]",
      "text/plain": [
       "<Figure size 72x72 with 1 Axes>"
      ]
     },
     "metadata": {
      "needs_background": "light"
     },
     "output_type": "display_data"
    },
    {
     "name": "stdout",
     "output_type": "stream",
     "text": [
      "(45, 54, 252)\n",
      "predicted:  え actual:  上\n"
     ]
    },
    {
     "data": {
      "image/png": "[encoded data removed]",
      "text/plain": [
       "<Figure size 72x72 with 1 Axes>"
      ]
     },
     "metadata": {
      "needs_background": "light"
     },
     "output_type": "display_data"
    },
    {
     "name": "stdout",
     "output_type": "stream",
     "text": [
      "(51, 3175, 2261)\n",
      "predicted:  者 actual:  浦\n"
     ]
    },
    {
     "data": {
      "image/png": "[encoded data removed]",
      "text/plain": [
       "<Figure size 72x72 with 1 Axes>"
      ]
     },
     "metadata": {
      "needs_background": "light"
     },
     "output_type": "display_data"
    },
    {
     "name": "stdout",
     "output_type": "stream",
     "text": [
      "(53, 57, 65)\n",
      "predicted:  が actual:  ご\n"
     ]
    },
    {
     "data": {
      "image/png": "[encoded data removed]",
      "text/plain": [
       "<Figure size 72x72 with 1 Axes>"
      ]
     },
     "metadata": {
      "needs_background": "light"
     },
     "output_type": "display_data"
    },
    {
     "name": "stdout",
     "output_type": "stream",
     "text": [
      "(54, 76, 118)\n",
      "predicted:  た actual:  ら\n"
     ]
    },
    {
     "data": {
      "image/png": "[encoded data removed]",
      "text/plain": [
       "<Figure size 72x72 with 1 Axes>"
      ]
     },
     "metadata": {
      "needs_background": "light"
     },
     "output_type": "display_data"
    },
    {
     "name": "stdout",
     "output_type": "stream",
     "text": [
      "(55, 2351, 2286)\n",
      "predicted:  漢 actual:  深\n"
     ]
    },
    {
     "data": {
      "image/png": "[encoded data removed]",
      "text/plain": [
       "<Figure size 72x72 with 1 Axes>"
      ]
     },
     "metadata": {
      "needs_background": "light"
     },
     "output_type": "display_data"
    },
    {
     "name": "stdout",
     "output_type": "stream",
     "text": [
      "(56, 119, 92)\n",
      "predicted:  り actual:  は\n"
     ]
    },
    {
     "data": {
      "image/png": "[encoded data removed]",
      "text/plain": [
       "<Figure size 72x72 with 1 Axes>"
      ]
     },
     "metadata": {
      "needs_background": "light"
     },
     "output_type": "display_data"
    },
    {
     "name": "stdout",
     "output_type": "stream",
     "text": [
      "(59, 4039, 4052)\n",
      "predicted:  返 actual:  送\n"
     ]
    },
    {
     "data": {
      "image/png": "[encoded data removed]",
      "text/plain": [
       "<Figure size 72x72 with 1 Axes>"
      ]
     },
     "metadata": {
      "needs_background": "light"
     },
     "output_type": "display_data"
    }
   ],
   "source": [
    "import matplotlib.pyplot as plt\n",
    "%matplotlib inline\n",
    "\n",
    "mistakes = []\n",
    "for i in range(len(y_predict)):\n",
    "    max_p = 0\n",
    "    max_a = 0\n",
    "    for j in range(len(unicode_to_int)):\n",
    "        if y_predict[i][max_p] < y_predict[i][j]:\n",
    "            max_p = j\n",
    "        if y_test[i][max_a] < y_test[i][j]:\n",
    "            max_a = j\n",
    "    if max_p != max_a:\n",
    "        mistakes.append((i,max_p,max_a))\n",
    "    if len(mistakes) > 20:\n",
    "        break;\n",
    "\n",
    "for m in mistakes:\n",
    "    (mistake, predicted, actual) = m\n",
    "    print(m)\n",
    "    print(\"predicted: \", unicode_to_char[predicted], \"actual: \", unicode_to_char[actual])\n",
    "    image = X_test[mistake].reshape(30,30)\n",
    "    plt.figure(figsize=(1,1))\n",
    "    plt.imshow(image, cmap=plt.cm.gray, interpolation='nearest')\n",
    "    plt.show()    \n",
    "    j += 1\n"
   ]
  }
 ],
 "metadata": {
  "kernelspec": {
   "display_name": "Python 3.7.3 64-bit ('base': conda)",
   "language": "python",
   "name": "python37364bitbaseconda673d00175af442a7ba22d2e344a90850"
  },
  "language_info": {
   "codemirror_mode": {
    "name": "ipython",
    "version": 3
   },
   "file_extension": ".py",
   "mimetype": "text/x-python",
   "name": "python",
   "nbconvert_exporter": "python",
   "pygments_lexer": "ipython3",
   "version": "3.7.3"
  }
 },
 "nbformat": 4,
 "nbformat_minor": 2
}
