{
  "nbformat": 4,
  "nbformat_minor": 0,
  "metadata": {
    "colab": {
      "name": "katakana_nn.ipynb",
      "provenance": [],
      "collapsed_sections": [],
      "mount_file_id": "1f1Yex2M2gc860v-OdipVKxBCIAv079tu",
      "authorship_tag": "ABX9TyM45ecyaA6ts4JBj2lFLagx",
      "include_colab_link": true
    },
    "kernelspec": {
      "name": "python3",
      "display_name": "Python 3"
    }
  },
  "cells": [
    {
      "cell_type": "markdown",
      "metadata": {
        "id": "view-in-github",
        "colab_type": "text"
      },
      "source": [
        "<a href=\"https://colab.research.google.com/github/deannacodes/kuzushiji_recognition/blob/master/katakana_nn.ipynb\" target=\"_parent\"><img src=\"https://colab.research.google.com/assets/colab-badge.svg\" alt=\"Open In Colab\"/></a>"
      ]
    },
    {
      "cell_type": "code",
      "metadata": {
        "id": "DdrHwbY_-SYj",
        "colab_type": "code",
        "colab": {}
      },
      "source": [
        "from keras.models import Sequential\n",
        "from keras.layers import Dense, Dropout, Activation, Flatten\n",
        "from keras.utils import np_utils\n",
        "\n",
        "import tensorflow as tf\n",
        "import numpy as np\n",
        "import pandas as pd\n",
        "from datetime import datetime"
      ],
      "execution_count": 0,
      "outputs": []
    },
    {
      "cell_type": "code",
      "metadata": {
        "id": "bjDTAT0CDADr",
        "colab_type": "code",
        "outputId": "8cfbebb0-c8a7-4ac3-d8af-1088ecbea0b4",
        "colab": {
          "base_uri": "https://localhost:8080/",
          "height": 36
        }
      },
      "source": [
        "df_unicode_to_char = pd.read_csv(\"https://raw.githubusercontent.com/deannacodes/kuzushiji_recognition/master/unicode_translation.csv\",error_bad_lines=False)\n",
        "df_unicode_to_char = df_unicode_to_char.set_index('Unicode').T.to_dict('list')\n",
        "\n",
        "df_katakana = pd.read_csv(\"https://raw.githubusercontent.com/deannacodes/kuzushiji_recognition/master/all_katakana.csv\",error_bad_lines=False)\n",
        "print(df_katakana.shape)"
      ],
      "execution_count": 28,
      "outputs": [
        {
          "output_type": "stream",
          "text": [
            "(18031, 901)\n"
          ],
          "name": "stdout"
        }
      ]
    },
    {
      "cell_type": "code",
      "metadata": {
        "id": "hqPJO6wTdVPv",
        "colab_type": "code",
        "colab": {}
      },
      "source": [
        "X = df_katakana.drop(columns=[\"character\"])\n",
        "y = df_katakana[\"character\"]"
      ],
      "execution_count": 0,
      "outputs": []
    },
    {
      "cell_type": "code",
      "metadata": {
        "id": "C6x3h0ta_mZX",
        "colab_type": "code",
        "outputId": "8daeae17-b4ea-448e-82b9-476d4ff9c697",
        "colab": {
          "base_uri": "https://localhost:8080/",
          "height": 1000
        }
      },
      "source": [
        "import matplotlib.image as mpimg\n",
        "import matplotlib.pyplot as plt\n",
        "\n",
        "%matplotlib inline\n",
        "\n",
        "for i in range(10):\n",
        "  image = np.array(X.iloc[[i]]).reshape(30,30)\n",
        "  plt.figure(figsize=(1,1))\n",
        "  plt.imshow(image, cmap=plt.cm.gray, interpolation='nearest')\n",
        "  plt.xlabel(y[i])\n"
      ],
      "execution_count": 30,
      "outputs": [
        {
          "output_type": "display_data",
          "data": {
            "image/png": "[encoded data removed]",
            "text/plain": [
              "<Figure size 72x72 with 1 Axes>"
            ]
          },
          "metadata": {
            "tags": []
          }
        },
        {
          "output_type": "display_data",
          "data": {
            "image/png": "[encoded data removed]",
            "text/plain": [
              "<Figure size 72x72 with 1 Axes>"
            ]
          },
          "metadata": {
            "tags": []
          }
        },
        {
          "output_type": "display_data",
          "data": {
            "image/png": "[encoded data removed]",
            "text/plain": [
              "<Figure size 72x72 with 1 Axes>"
            ]
          },
          "metadata": {
            "tags": []
          }
        },
        {
          "output_type": "display_data",
          "data": {
            "image/png": "[encoded data removed]",
            "text/plain": [
              "<Figure size 72x72 with 1 Axes>"
            ]
          },
          "metadata": {
            "tags": []
          }
        },
        {
          "output_type": "display_data",
          "data": {
            "image/png": "[encoded data removed]",
            "text/plain": [
              "<Figure size 72x72 with 1 Axes>"
            ]
          },
          "metadata": {
            "tags": []
          }
        },
        {
          "output_type": "display_data",
          "data": {
            "image/png": "[encoded data removed]",
            "text/plain": [
              "<Figure size 72x72 with 1 Axes>"
            ]
          },
          "metadata": {
            "tags": []
          }
        },
        {
          "output_type": "display_data",
          "data": {
            "image/png": "[encoded data removed]",
            "text/plain": [
              "<Figure size 72x72 with 1 Axes>"
            ]
          },
          "metadata": {
            "tags": []
          }
        },
        {
          "output_type": "display_data",
          "data": {
            "image/png": "[encoded data removed]",
            "text/plain": [
              "<Figure size 72x72 with 1 Axes>"
            ]
          },
          "metadata": {
            "tags": []
          }
        },
        {
          "output_type": "display_data",
          "data": {
            "image/png": "[encoded data removed]",
            "text/plain": [
              "<Figure size 72x72 with 1 Axes>"
            ]
          },
          "metadata": {
            "tags": []
          }
        },
        {
          "output_type": "display_data",
          "data": {
            "image/png": "[encoded data removed]",
            "text/plain": [
              "<Figure size 72x72 with 1 Axes>"
            ]
          },
          "metadata": {
            "tags": []
          }
        }
      ]
    },
    {
      "cell_type": "code",
      "metadata": {
        "id": "EnhddjddE4tj",
        "colab_type": "code",
        "outputId": "852e778f-3cb3-4914-9b98-a4f5def3a736",
        "colab": {
          "base_uri": "https://localhost:8080/",
          "height": 316
        }
      },
      "source": [
        "X = X.astype('float32')\n",
        "X /= 255\n",
        "\n",
        "unicode_to_int = {}\n",
        "i = 0\n",
        "for unicode in df_katakana[\"character\"]:\n",
        "  if unicode not in unicode_to_int:\n",
        "    unicode_to_int[unicode] = i\n",
        "    i += 1\n",
        "y = y.map(unicode_to_int)\n",
        "y = np_utils.to_categorical(y, len(unicode_to_int))\n",
        "print(X.head())\n",
        "print(y[:2])"
      ],
      "execution_count": 31,
      "outputs": [
        {
          "output_type": "stream",
          "text": [
            "     0    1    2    3    4    5  ...       894       895  896  897  898  899\n",
            "0  1.0  1.0  1.0  1.0  1.0  1.0  ...  0.058824  0.576471  1.0  1.0  1.0  1.0\n",
            "1  1.0  1.0  1.0  1.0  1.0  1.0  ...  1.000000  1.000000  1.0  1.0  1.0  1.0\n",
            "2  1.0  1.0  1.0  1.0  1.0  1.0  ...  1.000000  1.000000  1.0  1.0  1.0  1.0\n",
            "3  1.0  1.0  1.0  1.0  1.0  1.0  ...  1.000000  1.000000  1.0  1.0  1.0  1.0\n",
            "4  1.0  1.0  1.0  1.0  1.0  1.0  ...  1.000000  1.000000  1.0  1.0  1.0  1.0\n",
            "\n",
            "[5 rows x 900 columns]\n",
            "[[1. 0. 0. 0. 0. 0. 0. 0. 0. 0. 0. 0. 0. 0. 0. 0. 0. 0. 0. 0. 0. 0. 0. 0.\n",
            "  0. 0. 0. 0. 0. 0. 0. 0. 0. 0. 0. 0. 0. 0. 0. 0. 0. 0. 0. 0. 0. 0. 0. 0.\n",
            "  0. 0. 0. 0. 0. 0. 0. 0. 0. 0. 0. 0. 0. 0. 0. 0. 0. 0. 0. 0. 0. 0. 0. 0.\n",
            "  0. 0. 0. 0. 0. 0. 0. 0.]\n",
            " [1. 0. 0. 0. 0. 0. 0. 0. 0. 0. 0. 0. 0. 0. 0. 0. 0. 0. 0. 0. 0. 0. 0. 0.\n",
            "  0. 0. 0. 0. 0. 0. 0. 0. 0. 0. 0. 0. 0. 0. 0. 0. 0. 0. 0. 0. 0. 0. 0. 0.\n",
            "  0. 0. 0. 0. 0. 0. 0. 0. 0. 0. 0. 0. 0. 0. 0. 0. 0. 0. 0. 0. 0. 0. 0. 0.\n",
            "  0. 0. 0. 0. 0. 0. 0. 0.]]\n"
          ],
          "name": "stdout"
        }
      ]
    },
    {
      "cell_type": "code",
      "metadata": {
        "id": "K1jmbSm3LnDI",
        "colab_type": "code",
        "colab": {}
      },
      "source": [
        "from sklearn.model_selection import train_test_split\n",
        "\n",
        "X_train, X_test, y_train, y_test = train_test_split(X, y, test_size=0.2, random_state=5)"
      ],
      "execution_count": 0,
      "outputs": []
    },
    {
      "cell_type": "code",
      "metadata": {
        "id": "biaeDeRGLw3F",
        "colab_type": "code",
        "colab": {}
      },
      "source": [
        "model = Sequential()\n",
        "input_size = 900\n",
        "hidden_neurons_1 = 600\n",
        "hidden_neurons_2 = 500\n",
        "out_size = len(unicode_to_int)\n",
        "\n",
        "model.add(Dense(hidden_neurons_1, input_dim = input_size))\n",
        "model.add(Activation('sigmoid')) \n",
        "model.add(Dense(hidden_neurons_2, input_dim = hidden_neurons_1))\n",
        "model.add(Activation('sigmoid'))\n",
        "model.add(Dense(out_size, input_dim = hidden_neurons_2))\n",
        "model.add(Activation('softmax'))"
      ],
      "execution_count": 0,
      "outputs": []
    },
    {
      "cell_type": "code",
      "metadata": {
        "id": "Y17eOR7xL4xF",
        "colab_type": "code",
        "colab": {}
      },
      "source": [
        "model.compile(loss='categorical_crossentropy',\n",
        "              metrics=['accuracy'],\n",
        "              optimizer='adam')"
      ],
      "execution_count": 0,
      "outputs": []
    },
    {
      "cell_type": "code",
      "metadata": {
        "id": "ZEHW-_fnL7tH",
        "colab_type": "code",
        "colab": {
          "base_uri": "https://localhost:8080/",
          "height": 1000
        },
        "outputId": "39469e02-33cb-4481-ef4c-6a0ccde60600"
      },
      "source": [
        "fitted_model = model.fit(X_train, y_train, validation_split=0.33, batch_size=64, epochs=30, verbose=1)"
      ],
      "execution_count": 35,
      "outputs": [
        {
          "output_type": "stream",
          "text": [
            "Train on 9664 samples, validate on 4760 samples\n",
            "Epoch 1/30\n",
            "9664/9664 [==============================] - 5s 546us/step - loss: 1.8748 - acc: 0.5657 - val_loss: 1.0893 - val_acc: 0.7483\n",
            "Epoch 2/30\n",
            "9664/9664 [==============================] - 3s 283us/step - loss: 0.8619 - acc: 0.7919 - val_loss: 0.7872 - val_acc: 0.8025\n",
            "Epoch 3/30\n",
            "9664/9664 [==============================] - 3s 262us/step - loss: 0.6554 - acc: 0.8366 - val_loss: 0.6782 - val_acc: 0.8324\n",
            "Epoch 4/30\n",
            "9664/9664 [==============================] - 3s 277us/step - loss: 0.5509 - acc: 0.8587 - val_loss: 0.6053 - val_acc: 0.8466\n",
            "Epoch 5/30\n",
            "9664/9664 [==============================] - 2s 258us/step - loss: 0.4829 - acc: 0.8773 - val_loss: 0.5581 - val_acc: 0.8599\n",
            "Epoch 6/30\n",
            "9664/9664 [==============================] - 3s 259us/step - loss: 0.4222 - acc: 0.8922 - val_loss: 0.5438 - val_acc: 0.8626\n",
            "Epoch 7/30\n",
            "9664/9664 [==============================] - 3s 274us/step - loss: 0.3721 - acc: 0.9036 - val_loss: 0.5405 - val_acc: 0.8658\n",
            "Epoch 8/30\n",
            "9664/9664 [==============================] - 3s 274us/step - loss: 0.3384 - acc: 0.9116 - val_loss: 0.5115 - val_acc: 0.8748\n",
            "Epoch 9/30\n",
            "9664/9664 [==============================] - 3s 274us/step - loss: 0.3039 - acc: 0.9184 - val_loss: 0.4658 - val_acc: 0.8832\n",
            "Epoch 10/30\n",
            "9664/9664 [==============================] - 3s 294us/step - loss: 0.2696 - acc: 0.9325 - val_loss: 0.4630 - val_acc: 0.8851\n",
            "Epoch 11/30\n",
            "9664/9664 [==============================] - 3s 280us/step - loss: 0.2466 - acc: 0.9349 - val_loss: 0.4447 - val_acc: 0.8905\n",
            "Epoch 12/30\n",
            "9664/9664 [==============================] - 3s 302us/step - loss: 0.2183 - acc: 0.9435 - val_loss: 0.4265 - val_acc: 0.8985\n",
            "Epoch 13/30\n",
            "9664/9664 [==============================] - 3s 284us/step - loss: 0.1939 - acc: 0.9496 - val_loss: 0.4168 - val_acc: 0.9032\n",
            "Epoch 14/30\n",
            "9664/9664 [==============================] - 3s 281us/step - loss: 0.1729 - acc: 0.9550 - val_loss: 0.4322 - val_acc: 0.8983\n",
            "Epoch 15/30\n",
            "9664/9664 [==============================] - 3s 286us/step - loss: 0.1507 - acc: 0.9622 - val_loss: 0.4066 - val_acc: 0.9004\n",
            "Epoch 16/30\n",
            "9664/9664 [==============================] - 3s 285us/step - loss: 0.1347 - acc: 0.9655 - val_loss: 0.4078 - val_acc: 0.9021\n",
            "Epoch 17/30\n",
            "9664/9664 [==============================] - 3s 279us/step - loss: 0.1235 - acc: 0.9671 - val_loss: 0.4042 - val_acc: 0.9044\n",
            "Epoch 18/30\n",
            "9664/9664 [==============================] - 3s 264us/step - loss: 0.1055 - acc: 0.9724 - val_loss: 0.3942 - val_acc: 0.9061\n",
            "Epoch 19/30\n",
            "9664/9664 [==============================] - 3s 267us/step - loss: 0.0879 - acc: 0.9795 - val_loss: 0.4016 - val_acc: 0.9078\n",
            "Epoch 20/30\n",
            "9664/9664 [==============================] - 3s 263us/step - loss: 0.0767 - acc: 0.9828 - val_loss: 0.3930 - val_acc: 0.9095\n",
            "Epoch 21/30\n",
            "9664/9664 [==============================] - 3s 271us/step - loss: 0.0655 - acc: 0.9854 - val_loss: 0.4137 - val_acc: 0.9029\n",
            "Epoch 22/30\n",
            "9664/9664 [==============================] - 3s 280us/step - loss: 0.0573 - acc: 0.9876 - val_loss: 0.3988 - val_acc: 0.9092\n",
            "Epoch 23/30\n",
            "9664/9664 [==============================] - 3s 284us/step - loss: 0.0446 - acc: 0.9925 - val_loss: 0.4256 - val_acc: 0.9038\n",
            "Epoch 24/30\n",
            "9664/9664 [==============================] - 3s 280us/step - loss: 0.0388 - acc: 0.9925 - val_loss: 0.4020 - val_acc: 0.9071\n",
            "Epoch 25/30\n",
            "9664/9664 [==============================] - 3s 262us/step - loss: 0.0307 - acc: 0.9957 - val_loss: 0.4033 - val_acc: 0.9109\n",
            "Epoch 26/30\n",
            "9664/9664 [==============================] - 3s 275us/step - loss: 0.0264 - acc: 0.9970 - val_loss: 0.4164 - val_acc: 0.9084\n",
            "Epoch 27/30\n",
            "9664/9664 [==============================] - 3s 277us/step - loss: 0.0255 - acc: 0.9954 - val_loss: 0.4101 - val_acc: 0.9097\n",
            "Epoch 28/30\n",
            "9664/9664 [==============================] - 3s 266us/step - loss: 0.0231 - acc: 0.9968 - val_loss: 0.4096 - val_acc: 0.9107\n",
            "Epoch 29/30\n",
            "9664/9664 [==============================] - 3s 276us/step - loss: 0.0195 - acc: 0.9974 - val_loss: 0.4040 - val_acc: 0.9132\n",
            "Epoch 30/30\n",
            "9664/9664 [==============================] - 3s 283us/step - loss: 0.0135 - acc: 0.9987 - val_loss: 0.4026 - val_acc: 0.9120\n"
          ],
          "name": "stdout"
        }
      ]
    },
    {
      "cell_type": "code",
      "metadata": {
        "id": "-voQFYGqMI9r",
        "colab_type": "code",
        "outputId": "9c65eb91-2f89-41f7-b884-ddce13d90ee0",
        "colab": {
          "base_uri": "https://localhost:8080/",
          "height": 54
        }
      },
      "source": [
        "y_predict = model.predict(X_test, verbose=0)\n",
        "score = model.evaluate(X_test, y_test, verbose=1)\n",
        "print(score)"
      ],
      "execution_count": 36,
      "outputs": [
        {
          "output_type": "stream",
          "text": [
            "3607/3607 [==============================] - 0s 88us/step\n",
            "[0.3790156312136066, 0.9226504020622175]\n"
          ],
          "name": "stdout"
        }
      ]
    },
    {
      "cell_type": "code",
      "metadata": {
        "id": "lYryhL-aOOLX",
        "colab_type": "code",
        "outputId": "35a6c515-68e0-4222-a17b-3910c522f59c",
        "colab": {
          "base_uri": "https://localhost:8080/",
          "height": 1000
        }
      },
      "source": [
        "mistakes = []\n",
        "for i in range(len(y_predict)):\n",
        "  max_p = 0\n",
        "  max_a = 0\n",
        "  for j in range(len(unicode_to_int)):\n",
        "    if y_predict[i][max_p] < y_predict[i][j]:\n",
        "      max_p = j\n",
        "    if y_test[i][max_a] < y_test[i][j]:\n",
        "      max_a = j\n",
        "  if max_p != max_a:\n",
        "    mistakes.append(i)\n",
        "  if len(mistakes) > 20:\n",
        "    break;\n",
        "\n",
        "X_test2 = X_test.astype('int')\n",
        "X_test2 *= 255\n",
        "for mistake in mistakes:\n",
        "    image = np.array(X_test.iloc[[mistake]]).reshape(30,30)\n",
        "    plt.figure(figsize=(1,1))\n",
        "    plt.imshow(image, cmap=plt.cm.gray, interpolation='nearest')\n",
        "    j += 1\n"
      ],
      "execution_count": 37,
      "outputs": [
        {
          "output_type": "stream",
          "text": [
            "/usr/local/lib/python3.6/dist-packages/ipykernel_launcher.py:19: RuntimeWarning: More than 20 figures have been opened. Figures created through the pyplot interface (`matplotlib.pyplot.figure`) are retained until explicitly closed and may consume too much memory. (To control this warning, see the rcParam `figure.max_open_warning`).\n"
          ],
          "name": "stderr"
        },
        {
          "output_type": "display_data",
          "data": {
            "image/png": "[encoded data removed]",
            "text/plain": [
              "<Figure size 72x72 with 1 Axes>"
            ]
          },
          "metadata": {
            "tags": []
          }
        },
        {
          "output_type": "display_data",
          "data": {
            "image/png": "[encoded data removed]",
            "text/plain": [
              "<Figure size 72x72 with 1 Axes>"
            ]
          },
          "metadata": {
            "tags": []
          }
        },
        {
          "output_type": "display_data",
          "data": {
            "image/png": "[encoded data removed]",
            "text/plain": [
              "<Figure size 72x72 with 1 Axes>"
            ]
          },
          "metadata": {
            "tags": []
          }
        },
        {
          "output_type": "display_data",
          "data": {
            "image/png": "[encoded data removed]",
            "text/plain": [
              "<Figure size 72x72 with 1 Axes>"
            ]
          },
          "metadata": {
            "tags": []
          }
        },
        {
          "output_type": "display_data",
          "data": {
            "image/png": "[encoded data removed]",
            "text/plain": [
              "<Figure size 72x72 with 1 Axes>"
            ]
          },
          "metadata": {
            "tags": []
          }
        },
        {
          "output_type": "display_data",
          "data": {
            "image/png": "[encoded data removed]",
            "text/plain": [
              "<Figure size 72x72 with 1 Axes>"
            ]
          },
          "metadata": {
            "tags": []
          }
        },
        {
          "output_type": "display_data",
          "data": {
            "image/png": "[encoded data removed]",
            "text/plain": [
              "<Figure size 72x72 with 1 Axes>"
            ]
          },
          "metadata": {
            "tags": []
          }
        },
        {
          "output_type": "display_data",
          "data": {
            "image/png": "[encoded data removed]",
            "text/plain": [
              "<Figure size 72x72 with 1 Axes>"
            ]
          },
          "metadata": {
            "tags": []
          }
        },
        {
          "output_type": "display_data",
          "data": {
            "image/png": "[encoded data removed]",
            "text/plain": [
              "<Figure size 72x72 with 1 Axes>"
            ]
          },
          "metadata": {
            "tags": []
          }
        },
        {
          "output_type": "display_data",
          "data": {
            "image/png": "[encoded data removed]",
            "text/plain": [
              "<Figure size 72x72 with 1 Axes>"
            ]
          },
          "metadata": {
            "tags": []
          }
        },
        {
          "output_type": "display_data",
          "data": {
            "image/png": "[encoded data removed]",
            "text/plain": [
              "<Figure size 72x72 with 1 Axes>"
            ]
          },
          "metadata": {
            "tags": []
          }
        },
        {
          "output_type": "display_data",
          "data": {
            "image/png": "[encoded data removed]",
            "text/plain": [
              "<Figure size 72x72 with 1 Axes>"
            ]
          },
          "metadata": {
            "tags": []
          }
        },
        {
          "output_type": "display_data",
          "data": {
            "image/png": "[encoded data removed]",
            "text/plain": [
              "<Figure size 72x72 with 1 Axes>"
            ]
          },
          "metadata": {
            "tags": []
          }
        },
        {
          "output_type": "display_data",
          "data": {
            "image/png": "[encoded data removed]",
            "text/plain": [
              "<Figure size 72x72 with 1 Axes>"
            ]
          },
          "metadata": {
            "tags": []
          }
        },
        {
          "output_type": "display_data",
          "data": {
            "image/png": "[encoded data removed]",
            "text/plain": [
              "<Figure size 72x72 with 1 Axes>"
            ]
          },
          "metadata": {
            "tags": []
          }
        },
        {
          "output_type": "display_data",
          "data": {
            "image/png": "[encoded data removed]",
            "text/plain": [
              "<Figure size 72x72 with 1 Axes>"
            ]
          },
          "metadata": {
            "tags": []
          }
        },
        {
          "output_type": "display_data",
          "data": {
            "image/png": "[encoded data removed]",
            "text/plain": [
              "<Figure size 72x72 with 1 Axes>"
            ]
          },
          "metadata": {
            "tags": []
          }
        },
        {
          "output_type": "display_data",
          "data": {
            "image/png": "[encoded data removed]",
            "text/plain": [
              "<Figure size 72x72 with 1 Axes>"
            ]
          },
          "metadata": {
            "tags": []
          }
        },
        {
          "output_type": "display_data",
          "data": {
            "image/png": "[encoded data removed]",
            "text/plain": [
              "<Figure size 72x72 with 1 Axes>"
            ]
          },
          "metadata": {
            "tags": []
          }
        },
        {
          "output_type": "display_data",
          "data": {
            "image/png": "[encoded data removed]",
            "text/plain": [
              "<Figure size 72x72 with 1 Axes>"
            ]
          },
          "metadata": {
            "tags": []
          }
        },
        {
          "output_type": "display_data",
          "data": {
            "image/png": "[encoded data removed]",
            "text/plain": [
              "<Figure size 72x72 with 1 Axes>"
            ]
          },
          "metadata": {
            "tags": []
          }
        }
      ]
    },
    {
      "cell_type": "code",
      "metadata": {
        "id": "0wp9Zy-4G8J-",
        "colab_type": "code",
        "colab": {
          "base_uri": "https://localhost:8080/",
          "height": 1000
        },
        "outputId": "e95a28f1-6e0b-4f87-e64f-db939b9107ff"
      },
      "source": [
        "input_size = 900\n",
        "hidden_neuron_tests = [i*10 for i in range(8,90)]\n",
        "out_size = len(unicode_to_int)\n",
        "accuracies = []\n",
        "\n",
        "for neurons in hidden_neuron_tests:\n",
        "  model = Sequential()\n",
        "  model.add(Dense(neurons, input_dim = input_size))\n",
        "  model.add(Activation('sigmoid')) \n",
        "  model.add(Dense(out_size, input_dim = neurons))\n",
        "  model.add(Activation('softmax'))\n",
        "  model.compile(loss='categorical_crossentropy',\n",
        "                metrics=['accuracy'],\n",
        "                optimizer='adam')\n",
        "  fitted_model = model.fit(X_train, y_train, validation_split=0.33, batch_size=64, epochs=30, verbose=0)\n",
        "  y_predict = model.predict(X_test, verbose=0)\n",
        "  score = model.evaluate(X_test, y_test, verbose=0)\n",
        "  accuracies.append((neurons,score))\n",
        "  print((neurons, score))"
      ],
      "execution_count": 0,
      "outputs": [
        {
          "output_type": "stream",
          "text": [
            "(80, [0.447415491518037, 0.8866093704863734])\n",
            "(90, [0.441611493942577, 0.889658996214125])\n",
            "(100, [0.43945299831327717, 0.8915996671317851])\n",
            "(110, [0.4264728511705073, 0.8965899637771968])\n",
            "(120, [0.4086787879202615, 0.9013030217200857])\n",
            "(130, [0.4266073188277404, 0.8971444414962121])\n",
            "(140, [0.4071159547002222, 0.9037981702906622])\n",
            "(150, [0.40479235376285855, 0.8993623511163951])\n",
            "(160, [0.3949739689646185, 0.906293318613368])\n",
            "(170, [0.40285963620675513, 0.9065705573819898])\n",
            "(180, [0.39301289869604067, 0.9046298863982308])\n",
            "(190, [0.40825915317192346, 0.901857499439101])\n",
            "(200, [0.410870581642227, 0.899916828455342])\n",
            "(210, [0.39046147958968597, 0.9096201829775437])\n",
            "(220, [0.38907034067622437, 0.9071250347870355])\n",
            "(230, [0.4022449624399614, 0.9032436926377457])\n",
            "(240, [0.3837987620735684, 0.9126698088374929])\n",
            "(250, [0.4009921313166651, 0.9051843638693754])\n",
            "(260, [0.3972375846517228, 0.9062933186794669])\n",
            "(270, [0.3917872347402414, 0.9112836152587798])\n",
            "(280, [0.3857516086279999, 0.9110063765562569])\n",
            "(290, [0.383387770108199, 0.910729137853734])\n",
            "(300, [0.38189083538145974, 0.9118380926638255])\n",
            "(310, [0.38504792684609124, 0.906293318613368])\n",
            "(320, [0.38958960359269046, 0.9068477960184138])\n",
            "(330, [0.3883170338385251, 0.9076795121920813])\n",
            "(340, [0.38744736605976837, 0.9135015248789627])\n",
            "(350, [0.38126818977847865, 0.9112836152587798])\n",
            "(360, [0.38318436660775196, 0.9101746605147871])\n",
            "(370, [0.38532300672274666, 0.9121153311184776])\n",
            "(380, [0.37925485244146306, 0.9135015249450615])\n",
            "(390, [0.3827794263088244, 0.91045189921731])\n",
            "(400, [0.39473815177215377, 0.9068477960184138])\n",
            "(410, [0.3843860680297831, 0.9121153313663484])\n",
            "(420, [0.38217937487552195, 0.9112836153248786])\n",
            "(430, [0.40347552980317747, 0.9076795121920813])\n",
            "(440, [0.4010737540816415, 0.9074022734895584])\n",
            "(450, [0.3796584905557167, 0.9140560022840085])\n",
            "(460, [0.3849124038359086, 0.912947047473917])\n",
            "(470, [0.3901064625722006, 0.9118380927299243])\n",
            "(480, [0.38025133304518943, 0.9123925700688712])\n",
            "(490, [0.3777243743002795, 0.9123925701349701])\n",
            "(500, [0.3801893573001312, 0.9151649570941])\n",
            "(510, [0.3852320183280237, 0.9137787635814856])\n",
            "(520, [0.3916225516344987, 0.9104518991512112])\n",
            "(530, [0.38641128344097264, 0.9148877183915771])\n",
            "(540, [0.38319507387905927, 0.9151649570941])\n",
            "(550, [0.37711578622638003, 0.9154421957966229])\n",
            "(560, [0.3914236791053901, 0.9162739119702903])\n",
            "(570, [0.3970659508276653, 0.9126698087052952])\n",
            "(580, [0.39856257732923517, 0.9137787635814856])\n",
            "(590, [0.3851588427491686, 0.9159966732016686])\n",
            "(600, [0.3792362035969172, 0.9184918215243745])\n",
            "(610, [0.38614615118520923, 0.9157194344330468])\n",
            "(620, [0.3902018589634032, 0.9137787635814856])\n",
            "(630, [0.38642413837570283, 0.9187690602268973])\n",
            "(640, [0.3770218505879122, 0.9179373441193287])\n",
            "(650, [0.38899727234689685, 0.9110063766223557])\n",
            "(660, [0.38229192272014556, 0.9162739118380926])\n",
            "(670, [0.3915048927721437, 0.9165511506728132])\n",
            "(680, [0.3854600416389502, 0.9184918215243745])\n",
            "(690, [0.3927402634856309, 0.9148877183915771])\n",
            "(700, [0.39681767997010975, 0.9110063765562569])\n",
            "(710, [0.42968899332191396, 0.9082339894649293])\n",
            "(720, [0.3954669664610546, 0.9159966731355698])\n",
            "(730, [0.4048875021986562, 0.9126698087713941])\n",
            "(740, [0.38922643271309204, 0.9140560022179096])\n",
            "(750, [0.3774735707772102, 0.9182145828218515])\n"
          ],
          "name": "stdout"
        }
      ]
    },
    {
      "cell_type": "code",
      "metadata": {
        "id": "glpDJPYpOGJ2",
        "colab_type": "code",
        "colab": {}
      },
      "source": [
        "accuracies.sort(lambda x : x[1][1])\n",
        "print(accuracies[0])"
      ],
      "execution_count": 0,
      "outputs": []
    }
  ]
}