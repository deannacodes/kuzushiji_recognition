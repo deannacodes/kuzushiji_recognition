{
 "cells": [
  {
   "cell_type": "code",
   "execution_count": 1,
   "metadata": {
    "colab": {},
    "colab_type": "code",
    "id": "DdrHwbY_-SYj"
   },
   "outputs": [
    {
     "name": "stderr",
     "output_type": "stream",
     "text": [
      "Using TensorFlow backend.\n"
     ]
    }
   ],
   "source": [
    "from keras.models import Sequential\n",
    "from keras.layers import Dense, Dropout, Activation, Flatten\n",
    "from keras.utils import np_utils\n",
    "\n",
    "import tensorflow as tf\n",
    "import numpy as np\n",
    "import pandas as pd\n",
    "from datetime import datetime"
   ]
  },
  {
   "cell_type": "code",
   "execution_count": 2,
   "metadata": {
    "colab": {
     "base_uri": "https://localhost:8080/",
     "height": 36
    },
    "colab_type": "code",
    "id": "bjDTAT0CDADr",
    "outputId": "8cfbebb0-c8a7-4ac3-d8af-1088ecbea0b4"
   },
   "outputs": [
    {
     "name": "stdout",
     "output_type": "stream",
     "text": [
      "(18031, 901)\n"
     ]
    }
   ],
   "source": [
    "df_unicode_to_char = pd.read_csv(\"https://raw.githubusercontent.com/deannacodes/kuzushiji_recognition/master/unicode_translation.csv\",error_bad_lines=False)\n",
    "df_unicode_to_char = df_unicode_to_char.set_index('Unicode').T.to_dict('list')\n",
    "\n",
    "df_katakana = pd.read_csv(\"https://raw.githubusercontent.com/deannacodes/kuzushiji_recognition/master/all_katakana.csv\",error_bad_lines=False)\n",
    "print(df_katakana.shape)"
   ]
  },
  {
   "cell_type": "code",
   "execution_count": 3,
   "metadata": {
    "colab": {},
    "colab_type": "code",
    "id": "hqPJO6wTdVPv"
   },
   "outputs": [],
   "source": [
    "X = df_katakana.drop(columns=[\"character\"])\n",
    "y = df_katakana[\"character\"]"
   ]
  },
  {
   "cell_type": "code",
   "execution_count": 4,
   "metadata": {
    "colab": {
     "base_uri": "https://localhost:8080/",
     "height": 1000
    },
    "colab_type": "code",
    "id": "C6x3h0ta_mZX",
    "outputId": "8daeae17-b4ea-448e-82b9-476d4ff9c697"
   },
   "outputs": [
    {
     "name": "stdout",
     "output_type": "stream",
     "text": [
      "value:  ['ケ']\n"
     ]
    },
    {
     "data": {
      "image/png": "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\n",
      "text/plain": [
       "<Figure size 72x72 with 1 Axes>"
      ]
     },
     "metadata": {
      "needs_background": "light"
     },
     "output_type": "display_data"
    },
    {
     "name": "stdout",
     "output_type": "stream",
     "text": [
      "value:  ['ケ']\n"
     ]
    },
    {
     "data": {
      "image/png": "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\n",
      "text/plain": [
       "<Figure size 72x72 with 1 Axes>"
      ]
     },
     "metadata": {
      "needs_background": "light"
     },
     "output_type": "display_data"
    },
    {
     "name": "stdout",
     "output_type": "stream",
     "text": [
      "value:  ['ケ']\n"
     ]
    },
    {
     "data": {
      "image/png": "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\n",
      "text/plain": [
       "<Figure size 72x72 with 1 Axes>"
      ]
     },
     "metadata": {
      "needs_background": "light"
     },
     "output_type": "display_data"
    },
    {
     "name": "stdout",
     "output_type": "stream",
     "text": [
      "value:  ['ケ']\n"
     ]
    },
    {
     "data": {
      "image/png": "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\n",
      "text/plain": [
       "<Figure size 72x72 with 1 Axes>"
      ]
     },
     "metadata": {
      "needs_background": "light"
     },
     "output_type": "display_data"
    },
    {
     "name": "stdout",
     "output_type": "stream",
     "text": [
      "value:  ['ノ']\n"
     ]
    },
    {
     "data": {
      "image/png": "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\n",
      "text/plain": [
       "<Figure size 72x72 with 1 Axes>"
      ]
     },
     "metadata": {
      "needs_background": "light"
     },
     "output_type": "display_data"
    },
    {
     "name": "stdout",
     "output_type": "stream",
     "text": [
      "value:  ['ス']\n"
     ]
    },
    {
     "data": {
      "image/png": "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\n",
      "text/plain": [
       "<Figure size 72x72 with 1 Axes>"
      ]
     },
     "metadata": {
      "needs_background": "light"
     },
     "output_type": "display_data"
    },
    {
     "name": "stdout",
     "output_type": "stream",
     "text": [
      "value:  ['カ']\n"
     ]
    },
    {
     "data": {
      "image/png": "iVBORw0KGgoAAAANSUhEUgAAAFgAAABYCAYAAABxlTA0AAAABHNCSVQICAgIfAhkiAAAAAlwSFlzAAALEgAACxIB0t1+/AAAADh0RVh0U29mdHdhcmUAbWF0cGxvdGxpYiB2ZXJzaW9uMy4xLjAsIGh0dHA6Ly9tYXRwbG90bGliLm9yZy+17YcXAAAIFUlEQVR4nO2ce2hU2R3HPz+j9YEtxgdqrDE+GhX9I8VolaoopWAqujaJy0aoT1hRF1oQqVTEChpWtCL+46N2ySKilGxEkdW6SH0idTVGWx3bhBJqknVT0VKNGon++sedM49kHnfuzJ1Hej8wzMx9/M5vfvnmnHvO+Z0jqoqHe/TJtAO9HS/ALuMF2GW8ALuMF2CX8QLsMkkFWEQWicjfRaRJRLamyqnehDh9DhaRPOAfwE+BFuBroEpVH6bOvdynbxL3zgKaVPWfACJyCvgAiBrg4cOHa1FRkaPCOjo6aG1tBeDFixdh5yZOnAjAkCFDHNlOlubmZp4+fSqRziUT4DHA45DvLcCPul8kIh8DHwMUFhZy+/ZtR4XdvHmT7du3A3Dp0iUA8vLyANi3bx8Ay5Ytc2Q7WUpLS6OeSybAkf5iPeobVT0KHPU7knB99OTJEwDKy8sDnw3v3r0DYMWKFQDU1dUBsGjRokSLicjz588BeP/+PQDDhg1L2EYyjVwLMDbk+/eBtiTs9UqSUfDXwA9EZDzQCnwErEiJVyEMHjw47D0Sr1+/BmDDhg2AVWVUVFQkXfb8+fMBePbsGQDFxcVUV1cDMGfOHFs2HAdYVbtE5BPgT0Ae8JmqPnBqLxomsGfPnmXlypUAUevx5uZmAM6dO+cowC0tLQBcvnwZgKamJgDevHkDQFtbG5WVlQA8eGD91HgNazIKRlW/BL5MxkZvJ6kAp5OpU6eyefNmAKqqqmJe+/Lly7j2TANZU1PDvXv3ADhx4gQQrBIi0dZmNTNLliwB4Nq1azHL8brKLpMzCgZ6PKZFo7a2lj179gBw5coVAI4dOwYEn6FPnjwJwPnz5x35cv36dVvXeQp2mYwo+NGjRwBcvHiRu3fvAjB79mwAJk+eDASVdv/+fcB6ikiErVvDx57GjBnj3OEk8BTsMhlR8MyZM4Hw1r6mpiYTrriOp2CXyYiCR40aBQR7SunE1PVTpkwJHJs1axYA48aNA2Dx4sWpK1BV0/aaMWOGhrJq1SrFGoFL6auyslIbGxu1sbFRnVBRUaEVFRW2ylJV9f+uiL/ZqyJcJqMdjerqasaPHw/AgQMHgOBsxdix1khoaLd1wIABALS3t0e0V1hYCMDx48cD1yZCZ2cnEBzIicXq1att2fQU7DIZVXBBQQE7duwAggM4Rp1z584FwhtC00ExAy3d6dvX+jlO1AtBBZtyYrFmzRpbNj0Fu0zWDPYUFxeHvRsmTZoU+NzR0QEEFWoGwlOFnQGcCRMmAMHZjnh4CnaZrFGwHR4/trIEoil33rx5juy+ffsWgFu3bsW91m7da/AU7DI5peALFy7EPL9r1y5Hdh8+tJKRdu7cGfO60tJStmzZkpDtnApwtBmNadOmATB06NCU2u1Ofn4+/fv3T8i2V0W4TM4ouLOzs0cXVsTK3jLd6tAudLwkQ5MD0dXVFbfhMjlw8aqQSHgKdpmcUfCZM2d6dGEPHToEwKBBgwACA0cACxYsAGDgwIFAcBbl6tWrQPCR7NWrV3HLNmPHdtOlQvEU7DJZr2Azb7dt27bAMaOo9evXh11bX18PWEOfJr/M4DT/AWD58uWO742rYBEZKyJ/FhGfiDwQkV/6jw8Vka9EpNH/nu/Yi16MHQV3AZtVtV5EvgvcEZGvgNXAJVX91L8AZivw61Q72NDQAIQPW0ZLZd27dy9gtfpHjhwB7OWpRWP69OkArFu3zrGNuApW1W9Utd7/+QXgw1o+8AHwuf+yz4HM5O9nO4lMWgJFwL+A7wH/6XbueaKTnnYoKyvTsrKysInGuro6rauri3mfz+dTn8+nBQUFWlBQ4GjytL29Xdvb2+P6GGvS03YjJyKDgS+AX6nqf81Dvo37whbBJMqNGzcCn80aiYULF8a9zzSEtbW1QHAq3qy7iIUpp1+/fok5GwFbj2ki0g8ruCdUtc5/+FsRGe0/PxqIOBOpqkdVtVRVS0eMGJG0w7lGXAWLJdU/AD5V3R9y6iywCvjU/34mlY75fD4gOE8GwTUYiayHM50DY2/p0qVA5LHfPn0svR0+fDjhcqJhp4r4MfAL4K8i0uA/9huswP5RRNZh1cvOHxZ7MXEDrKrXibwmDuAnqXUnyP791j9LqIJLSkoc2xs5ciRg5UyAlToLcOfOHfLzrUf48vJyIDijnQq8rrLLZF1X+fTp00Aw5d9QVlaWkrVv0Wav3cJTsMtknYLNSkqDSXU9ePBgJtxJGk/BLpM1Ct64cSMQnOE17N69GwjP8MklMh5gE1gzO2HYtGkTAGvXrk27T6nEqyJcJqMKbmpq6rG6yAzkmLHdXMdTsMtkVMGnTp0KbKZhMPvfmNngXMdTsMs43jfNUWEi/wY6gKdpKzQ1DCe2z+NUNeJgd1oDDCAit1U1+j5YWUgyPntVhMt4AXaZTAT4aAbKTBbHPqe9Dv5/w6siXMYLsMukLcC5sJlzjETH34pIq4g0+F8/s20zHXVwrmzm7E+gGa0hiY5YOXcfAi9VdV+iNtOl4MBmzqr6FjCbOWcVGj3R0THpCnCkzZwzs8+WTUSkCPgh8Bf/oU9E5L6IfJZILnS6AmxrM+dsoXuiI3AImAiUAN8Av7NrK10BzpnNnCMlOqrqt6r6TlXfA7/HqvJska4ABzZzFpHvYG3mnNhWfmkgWqKjySL183Pgb3ZtpmXAXdO0mXMKiJboWCUiJVjVWjOwPvLtPfG6yi7j9eRcxguwy3gBdhkvwC7jBdhlvAC7jBdgl/kfhFZC3rLc950AAAAASUVORK5CYII=\n",
      "text/plain": [
       "<Figure size 72x72 with 1 Axes>"
      ]
     },
     "metadata": {
      "needs_background": "light"
     },
     "output_type": "display_data"
    },
    {
     "name": "stdout",
     "output_type": "stream",
     "text": [
      "value:  ['テ']\n"
     ]
    },
    {
     "data": {
      "image/png": "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\n",
      "text/plain": [
       "<Figure size 72x72 with 1 Axes>"
      ]
     },
     "metadata": {
      "needs_background": "light"
     },
     "output_type": "display_data"
    },
    {
     "name": "stdout",
     "output_type": "stream",
     "text": [
      "value:  ['イ']\n"
     ]
    },
    {
     "data": {
      "image/png": "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\n",
      "text/plain": [
       "<Figure size 72x72 with 1 Axes>"
      ]
     },
     "metadata": {
      "needs_background": "light"
     },
     "output_type": "display_data"
    },
    {
     "name": "stdout",
     "output_type": "stream",
     "text": [
      "value:  ['ラ']\n"
     ]
    },
    {
     "data": {
      "image/png": "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\n",
      "text/plain": [
       "<Figure size 72x72 with 1 Axes>"
      ]
     },
     "metadata": {
      "needs_background": "light"
     },
     "output_type": "display_data"
    }
   ],
   "source": [
    "import matplotlib.image as mpimg\n",
    "import matplotlib.pyplot as plt\n",
    "\n",
    "%matplotlib inline\n",
    "\n",
    "for i in range(10):\n",
    "    image = np.array(X.iloc[[i]]).reshape(30,30)\n",
    "    plt.figure(figsize=(1,1))\n",
    "    plt.imshow(image, cmap=plt.cm.gray, interpolation='nearest')\n",
    "    print(\"value: \", df_unicode_to_char[y[i]])\n",
    "    plt.show()\n"
   ]
  },
  {
   "cell_type": "code",
<<<<<<< HEAD
   "execution_count": 5,
=======
   "execution_count": 22,
>>>>>>> parent of 6bb372d... hiragana and kanji
   "metadata": {
    "colab": {
     "base_uri": "https://localhost:8080/",
     "height": 316
    },
    "colab_type": "code",
    "id": "EnhddjddE4tj",
    "outputId": "852e778f-3cb3-4914-9b98-a4f5def3a736"
   },
   "outputs": [
    {
     "name": "stdout",
     "output_type": "stream",
     "text": [
      "     0    1    2    3    4    5    6    7    8         9  ...  890  891  892  \\\n",
      "0  1.0  1.0  1.0  1.0  1.0  1.0  1.0  1.0  1.0  1.000000  ...  0.0  0.0  0.0   \n",
      "1  1.0  1.0  1.0  1.0  1.0  1.0  1.0  1.0  1.0  1.000000  ...  1.0  1.0  1.0   \n",
      "2  1.0  1.0  1.0  1.0  1.0  1.0  1.0  1.0  1.0  0.811765  ...  1.0  1.0  1.0   \n",
      "3  1.0  1.0  1.0  1.0  1.0  1.0  1.0  1.0  1.0  1.000000  ...  1.0  1.0  1.0   \n",
      "4  1.0  1.0  1.0  1.0  1.0  1.0  1.0  1.0  1.0  1.000000  ...  1.0  1.0  1.0   \n",
      "\n",
      "   893       894       895  896  897  898  899  \n",
      "0  0.0  0.058824  0.576471  1.0  1.0  1.0  1.0  \n",
      "1  1.0  1.000000  1.000000  1.0  1.0  1.0  1.0  \n",
      "2  1.0  1.000000  1.000000  1.0  1.0  1.0  1.0  \n",
      "3  1.0  1.000000  1.000000  1.0  1.0  1.0  1.0  \n",
      "4  1.0  1.000000  1.000000  1.0  1.0  1.0  1.0  \n",
      "\n",
      "[5 rows x 900 columns]\n",
      "[[1. 0. 0. 0. 0. 0. 0. 0. 0. 0. 0. 0. 0. 0. 0. 0. 0. 0. 0. 0. 0. 0. 0. 0.\n",
      "  0. 0. 0. 0. 0. 0. 0. 0. 0. 0. 0. 0. 0. 0. 0. 0. 0. 0. 0. 0. 0. 0. 0. 0.\n",
      "  0. 0. 0. 0. 0. 0. 0. 0. 0. 0. 0. 0. 0. 0. 0. 0. 0. 0. 0. 0. 0. 0. 0. 0.\n",
      "  0. 0. 0. 0. 0. 0. 0. 0.]\n",
      " [1. 0. 0. 0. 0. 0. 0. 0. 0. 0. 0. 0. 0. 0. 0. 0. 0. 0. 0. 0. 0. 0. 0. 0.\n",
      "  0. 0. 0. 0. 0. 0. 0. 0. 0. 0. 0. 0. 0. 0. 0. 0. 0. 0. 0. 0. 0. 0. 0. 0.\n",
      "  0. 0. 0. 0. 0. 0. 0. 0. 0. 0. 0. 0. 0. 0. 0. 0. 0. 0. 0. 0. 0. 0. 0. 0.\n",
      "  0. 0. 0. 0. 0. 0. 0. 0.]]\n"
     ]
    }
   ],
   "source": [
    "X = X.astype('float32')\n",
    "X /= 255\n",
    "\n",
    "unicode_to_int = {}\n",
    "i = 0\n",
    "for unicode in df_katakana[\"character\"]:\n",
    "    if unicode not in unicode_to_int:\n",
    "        unicode_to_int[unicode] = i\n",
    "        df_unicode_to_char[i] = df_unicode_to_char[unicode]\n",
    "        i += 1\n",
    "y = y.map(unicode_to_int)\n",
    "y = np_utils.to_categorical(y, len(unicode_to_int))\n",
    "print(X.head())\n",
    "print(y[:2])"
   ]
  },
  {
   "cell_type": "code",
   "execution_count": 6,
   "metadata": {
    "colab": {},
    "colab_type": "code",
    "id": "K1jmbSm3LnDI"
   },
   "outputs": [],
   "source": [
    "from sklearn.model_selection import train_test_split\n",
    "\n",
    "X_train, X_test, y_train, y_test = train_test_split(X, y, test_size=0.3, random_state=5)"
   ]
  },
  {
   "cell_type": "markdown",
   "metadata": {},
   "source": [
    "\n",
    "\n",
    "## Find best amount of layers and neurons\n",
    "\n",
    "We'll try two for loops. I have done multiples of 10 and 50 for one and two layer options as well. While this isn't super thorough, I opted to save time on training."
   ]
  },
  {
   "cell_type": "code",
   "execution_count": 7,
   "metadata": {
    "colab": {
     "base_uri": "https://localhost:8080/",
     "height": 1000
    },
    "colab_type": "code",
    "id": "0wp9Zy-4G8J-",
    "outputId": "e95a28f1-6e0b-4f87-e64f-db939b9107ff"
   },
   "outputs": [],
   "source": [
    "# input_size = 900\n",
    "# hidden_neuron_tests = [i*10 for i in range(8,90)]\n",
    "# out_size = len(unicode_to_int)\n",
    "# accuracies = []\n",
    "\n",
    "# for neurons in hidden_neuron_tests:\n",
    "#     model = Sequential()\n",
    "#     model.add(Dense(neurons, input_dim = input_size))\n",
    "#     model.add(Activation('sigmoid')) \n",
    "#     model.add(Dense(out_size, input_dim = neurons))\n",
    "#     model.add(Activation('softmax'))\n",
    "#     model.compile(loss='categorical_crossentropy',\n",
    "#                     metrics=['accuracy'],\n",
    "#                     optimizer='adam')\n",
    "#     fitted_model = model.fit(X_train, y_train, validation_split=0.33, batch_size=64, epochs=30, verbose=0)\n",
    "#     y_predict = model.predict(X_test, verbose=0)\n",
    "#     score = model.evaluate(X_test, y_test, verbose=0)\n",
    "#     accuracies.append((neurons,score))\n",
    "#     print((neurons, score))"
   ]
  },
  {
   "cell_type": "code",
   "execution_count": 8,
   "metadata": {
    "colab": {
     "base_uri": "https://localhost:8080/",
     "height": 1000
    },
    "colab_type": "code",
    "id": "k4p-tbjkhZG7",
    "outputId": "68ebf6a1-9fa8-413b-aea4-53f2eda06f2c"
   },
   "outputs": [],
   "source": [
    "# input_size = 900\n",
    "# hidden_neuron_tests = [i*50 for i in range(2,18)]\n",
    "# hidden_neuron_tests2 = [i*50 for i in range(2,18)]\n",
    "# out_size = len(unicode_to_int)\n",
    "# accuracies2 = []\n",
    "\n",
    "# for neurons in hidden_neuron_tests:\n",
    "#   for neurons2 in hidden_neuron_tests2:\n",
    "#     model = Sequential()\n",
    "#     model.add(Dense(neurons, input_dim = input_size))\n",
    "#     model.add(Activation('sigmoid')) \n",
    "#     model.add(Dense(neurons2, input_dim = neurons))\n",
    "#     model.add(Activation('sigmoid')) \n",
    "#     model.add(Dense(out_size, input_dim = neurons2))\n",
    "#     model.add(Activation('softmax'))\n",
    "#     model.compile(loss='categorical_crossentropy',\n",
    "#                   metrics=['accuracy'],\n",
    "#                   optimizer='adam')\n",
    "#     fitted_model = model.fit(X_train, y_train, validation_split=0.33, batch_size=64, epochs=20, verbose=0)\n",
    "#     y_predict = model.predict(X_test, verbose=0)\n",
    "#     score = model.evaluate(X_test, y_test, verbose=0)\n",
    "#     accuracies2.append((neurons,score))\n",
    "#     print([neurons, neurons2, score])"
   ]
  },
  {
   "cell_type": "markdown",
   "metadata": {},
   "source": [
    "#### We can see that we actually get the same accuracy with one layer as we do with two. So let's keep it one for now, and use the highest results: 890 or 680 neurons."
   ]
  },
  {
   "cell_type": "code",
   "execution_count": 9,
   "metadata": {
    "colab": {},
    "colab_type": "code",
    "id": "biaeDeRGLw3F"
   },
   "outputs": [],
   "source": [
    "model = Sequential()\n",
    "input_size = 900\n",
    "hidden_neurons = 630\n",
    "out_size = len(unicode_to_int)\n",
    "\n",
    "model.add(Dense(hidden_neurons, input_dim = input_size))\n",
    "model.add(Activation('sigmoid'))\n",
    "model.add(Dense(out_size, input_dim = hidden_neurons))\n",
    "model.add(Activation('softmax'))"
   ]
  },
  {
   "cell_type": "code",
   "execution_count": 10,
   "metadata": {
    "colab": {},
    "colab_type": "code",
    "id": "Y17eOR7xL4xF"
   },
   "outputs": [
    {
     "name": "stdout",
     "output_type": "stream",
     "text": [
      "Train on 8456 samples, validate on 4165 samples\n",
      "Epoch 1/30\n",
      "8456/8456 [==============================] - 2s 222us/step - loss: 1.6147 - accuracy: 0.6397 - val_loss: 1.0281 - val_accuracy: 0.7645\n",
      "Epoch 2/30\n",
      "8456/8456 [==============================] - 2s 211us/step - loss: 0.8168 - accuracy: 0.8051 - val_loss: 0.7869 - val_accuracy: 0.8158\n",
      "Epoch 3/30\n",
      "8456/8456 [==============================] - 2s 242us/step - loss: 0.6407 - accuracy: 0.8427 - val_loss: 0.6677 - val_accuracy: 0.8427\n",
      "Epoch 4/30\n",
      "8456/8456 [==============================] - 2s 244us/step - loss: 0.5503 - accuracy: 0.8632 - val_loss: 0.6945 - val_accuracy: 0.8295\n",
      "Epoch 5/30\n",
      "8456/8456 [==============================] - 2s 228us/step - loss: 0.4896 - accuracy: 0.8778 - val_loss: 0.6147 - val_accuracy: 0.8485\n",
      "Epoch 6/30\n",
      "8456/8456 [==============================] - 2s 248us/step - loss: 0.4388 - accuracy: 0.8885 - val_loss: 0.5954 - val_accuracy: 0.8586\n",
      "Epoch 7/30\n",
      "8456/8456 [==============================] - 2s 220us/step - loss: 0.4001 - accuracy: 0.8989 - val_loss: 0.5499 - val_accuracy: 0.8672\n",
      "Epoch 8/30\n",
      "8456/8456 [==============================] - 2s 215us/step - loss: 0.3652 - accuracy: 0.9063 - val_loss: 0.5559 - val_accuracy: 0.8684\n",
      "Epoch 9/30\n",
      "8456/8456 [==============================] - 2s 207us/step - loss: 0.3362 - accuracy: 0.9126 - val_loss: 0.5300 - val_accuracy: 0.8655\n",
      "Epoch 10/30\n",
      "8456/8456 [==============================] - 2s 216us/step - loss: 0.3047 - accuracy: 0.9222 - val_loss: 0.5274 - val_accuracy: 0.8677\n",
      "Epoch 11/30\n",
      "8456/8456 [==============================] - 2s 220us/step - loss: 0.2824 - accuracy: 0.9276 - val_loss: 0.5077 - val_accuracy: 0.8759\n",
      "Epoch 12/30\n",
      "8456/8456 [==============================] - 2s 212us/step - loss: 0.2584 - accuracy: 0.9360 - val_loss: 0.5102 - val_accuracy: 0.8764\n",
      "Epoch 13/30\n",
      "8456/8456 [==============================] - 2s 215us/step - loss: 0.2341 - accuracy: 0.9399 - val_loss: 0.4963 - val_accuracy: 0.8773\n",
      "Epoch 14/30\n",
      "8456/8456 [==============================] - 2s 214us/step - loss: 0.2099 - accuracy: 0.9506 - val_loss: 0.4729 - val_accuracy: 0.8845\n",
      "Epoch 15/30\n",
      "8456/8456 [==============================] - 2s 207us/step - loss: 0.1914 - accuracy: 0.9516 - val_loss: 0.4898 - val_accuracy: 0.8831\n",
      "Epoch 16/30\n",
      "8456/8456 [==============================] - 2s 213us/step - loss: 0.1786 - accuracy: 0.9567 - val_loss: 0.4611 - val_accuracy: 0.8922\n",
      "Epoch 17/30\n",
      "8456/8456 [==============================] - 2s 209us/step - loss: 0.1602 - accuracy: 0.9637 - val_loss: 0.4698 - val_accuracy: 0.8896\n",
      "Epoch 18/30\n",
      "8456/8456 [==============================] - 2s 231us/step - loss: 0.1470 - accuracy: 0.9662 - val_loss: 0.4672 - val_accuracy: 0.8879\n",
      "Epoch 19/30\n",
      "8456/8456 [==============================] - 2s 239us/step - loss: 0.1337 - accuracy: 0.9688 - val_loss: 0.4606 - val_accuracy: 0.8946\n",
      "Epoch 20/30\n",
      "8456/8456 [==============================] - 2s 244us/step - loss: 0.1155 - accuracy: 0.9753 - val_loss: 0.4699 - val_accuracy: 0.8884\n",
      "Epoch 21/30\n",
      "8456/8456 [==============================] - 2s 255us/step - loss: 0.1069 - accuracy: 0.9775 - val_loss: 0.4516 - val_accuracy: 0.8946\n",
      "Epoch 22/30\n",
      "8456/8456 [==============================] - 2s 228us/step - loss: 0.0934 - accuracy: 0.9824 - val_loss: 0.4527 - val_accuracy: 0.8975\n",
      "Epoch 23/30\n",
      "8456/8456 [==============================] - 2s 231us/step - loss: 0.0832 - accuracy: 0.9834 - val_loss: 0.4541 - val_accuracy: 0.8944\n",
      "Epoch 24/30\n",
      "8456/8456 [==============================] - 2s 258us/step - loss: 0.0749 - accuracy: 0.9856 - val_loss: 0.4568 - val_accuracy: 0.8944\n",
      "Epoch 25/30\n",
      "8456/8456 [==============================] - 2s 252us/step - loss: 0.0653 - accuracy: 0.9888 - val_loss: 0.4519 - val_accuracy: 0.8932\n",
      "Epoch 26/30\n",
      "8456/8456 [==============================] - 2s 242us/step - loss: 0.0652 - accuracy: 0.9890 - val_loss: 0.4408 - val_accuracy: 0.9023\n",
      "Epoch 27/30\n",
      "8456/8456 [==============================] - 2s 223us/step - loss: 0.0532 - accuracy: 0.9917 - val_loss: 0.4702 - val_accuracy: 0.8920\n",
      "Epoch 28/30\n",
      "8456/8456 [==============================] - 2s 209us/step - loss: 0.0608 - accuracy: 0.9892 - val_loss: 0.4628 - val_accuracy: 0.8929\n",
      "Epoch 29/30\n",
      "8456/8456 [==============================] - 2s 217us/step - loss: 0.0388 - accuracy: 0.9961 - val_loss: 0.4487 - val_accuracy: 0.8992\n",
      "Epoch 30/30\n",
      "8456/8456 [==============================] - 2s 214us/step - loss: 0.0353 - accuracy: 0.9961 - val_loss: 0.4522 - val_accuracy: 0.8999\n"
     ]
    }
   ],
   "source": [
    "model.compile(loss='categorical_crossentropy',\n",
    "              metrics=['accuracy'],\n",
    "              optimizer='adam')\n",
    "\n",
    "fitted_model = model.fit(X_train, y_train, validation_split=0.33, batch_size=64, epochs=30, verbose=1)"
   ]
  },
  {
   "cell_type": "code",
   "execution_count": 11,
   "metadata": {
    "colab": {
     "base_uri": "https://localhost:8080/",
     "height": 54
    },
    "colab_type": "code",
    "id": "-voQFYGqMI9r",
    "outputId": "9c65eb91-2f89-41f7-b884-ddce13d90ee0"
   },
   "outputs": [
    {
     "name": "stdout",
     "output_type": "stream",
     "text": [
      "5410/5410 [==============================] - 0s 64us/step\n",
      "[0.4148434694174509, 0.9064695239067078]\n"
     ]
    }
   ],
   "source": [
    "y_predict = model.predict(X_test, verbose=0)\n",
    "score = model.evaluate(X_test, y_test, verbose=1)\n",
    "print(score)"
   ]
  },
  {
   "cell_type": "code",
   "execution_count": 12,
   "metadata": {
    "colab": {
     "base_uri": "https://localhost:8080/",
     "height": 250
    },
    "colab_type": "code",
    "id": "lYryhL-aOOLX",
    "outputId": "7bc3ea09-df30-436d-c25b-f3827c1fb7ea"
   },
   "outputs": [
    {
     "name": "stdout",
     "output_type": "stream",
     "text": [
      "predicted:  ['ス'] actual:  ['ヌ']\n"
     ]
    },
    {
     "data": {
      "image/png": "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\n",
      "text/plain": [
       "<Figure size 72x72 with 1 Axes>"
      ]
     },
     "metadata": {
      "needs_background": "light"
     },
     "output_type": "display_data"
    },
    {
     "name": "stdout",
     "output_type": "stream",
     "text": [
      "predicted:  ['ツ'] actual:  ['ハ']\n"
     ]
    },
    {
     "data": {
      "image/png": "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\n",
      "text/plain": [
       "<Figure size 72x72 with 1 Axes>"
      ]
     },
     "metadata": {
      "needs_background": "light"
     },
     "output_type": "display_data"
    },
    {
     "name": "stdout",
     "output_type": "stream",
     "text": [
      "predicted:  ['ヱ'] actual:  ['サ']\n"
     ]
    },
    {
     "data": {
      "image/png": "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\n",
      "text/plain": [
       "<Figure size 72x72 with 1 Axes>"
      ]
     },
     "metadata": {
      "needs_background": "light"
     },
     "output_type": "display_data"
    },
    {
     "name": "stdout",
     "output_type": "stream",
     "text": [
      "predicted:  ['レ'] actual:  ['シ']\n"
     ]
    },
    {
     "data": {
      "image/png": "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\n",
      "text/plain": [
       "<Figure size 72x72 with 1 Axes>"
      ]
     },
     "metadata": {
      "needs_background": "light"
     },
     "output_type": "display_data"
    },
    {
     "name": "stdout",
     "output_type": "stream",
     "text": [
      "predicted:  ['ニ'] actual:  ['ヱ']\n"
     ]
    },
    {
     "data": {
      "image/png": "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\n",
      "text/plain": [
       "<Figure size 72x72 with 1 Axes>"
      ]
     },
     "metadata": {
      "needs_background": "light"
     },
     "output_type": "display_data"
    },
    {
     "name": "stdout",
     "output_type": "stream",
     "text": [
      "predicted:  ['ヲ'] actual:  ['タ']\n"
     ]
    },
    {
     "data": {
      "image/png": "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\n",
      "text/plain": [
       "<Figure size 72x72 with 1 Axes>"
      ]
     },
     "metadata": {
      "needs_background": "light"
     },
     "output_type": "display_data"
    },
    {
     "name": "stdout",
     "output_type": "stream",
     "text": [
      "predicted:  ['ツ'] actual:  ['ソ']\n"
     ]
    },
    {
     "data": {
      "image/png": "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\n",
      "text/plain": [
       "<Figure size 72x72 with 1 Axes>"
      ]
     },
     "metadata": {
      "needs_background": "light"
     },
     "output_type": "display_data"
    },
    {
     "name": "stdout",
     "output_type": "stream",
     "text": [
      "predicted:  ['サ'] actual:  ['ナ']\n"
     ]
    },
    {
     "data": {
      "image/png": "iVBORw0KGgoAAAANSUhEUgAAAFgAAABYCAYAAABxlTA0AAAABHNCSVQICAgIfAhkiAAAAAlwSFlzAAALEgAACxIB0t1+/AAAADh0RVh0U29mdHdhcmUAbWF0cGxvdGxpYiB2ZXJzaW9uMy4xLjAsIGh0dHA6Ly9tYXRwbG90bGliLm9yZy+17YcXAAAHRklEQVR4nO2cbWiU2RXHf6drNKIxVpPWsMb3ii/5sIXxBRQRiiiR0Kq4uB9KC2L6JaLSxC79ooIfVrRFEammGFyjKAuKXWFRgogiiuy4rFUbmyyixlZX80FsK6GOnn545s4kcWbyZJ65z7z0/iBM5nm5z+E/h/Pce+65V1QVhz1+kG8DSh0nsGWcwJZxAlvGCWwZJ7BlAgksIqtE5O8i8p2IfJoro0oJybYfLCIfAF3ACuAJ8DXwiar+LXfmFT8jAty7EPhOVR8AiMhp4OdAWoGrqqp02rRpAR5ZmDx8+JDe3l5JdS6IwB8CPf2+PwEWDb5IRBqBRoApU6YQjUYDPLIwiUQiac8FicGpfrH34o2qtqpqRFUj1dXVAR43PLq6uujq6kJEMv5VVlZatSOIwE+A2n7fJwP/DGZO6RFE4K+Bn4jIdBEZCWwAvsyNWeERi8Xo7u6mu7vbSvtZC6yqMaAJuAh0Al+o6r1cGRaUsrIyysrKqKyszBgGXr9+TXt7O+3t7VbsCPKSQ1W/Ar7KkS0lSSCBC5np06cDcO7cOQDu3LkDwO3btwE4evQoAOXl5dTX11uzww2VLVOyHmxYvnw5ALdu3QKSnmvo6+tj586dAKxevRqAM2fOALBu3boB116/fp3Tp08D0NjYCEBdXR3Pnz9P+3znwZYpeQ/2w8WLFwd8Gq5cuZL2ntbWVl9tOw+2TMl78IsXLwDo7e3Ny/OdB1umJD149+7diTf75cuXAbh7925ebAlV4J6eHrZu3cr+/fsDtXPq1CkA9uzZAyQHD0HZtGkT4A0+AMaNGwd4P5jh7NmzAKxduzZxzFa60uGDrKeMsmHEiBFaUVHBwYMHAVi6dCk7duwAvE58f7Zt2wYkh7z9aWpqAuDBgwc5tc+8CCdOnDis+yKRCNFoNOWMhvNgy4TqwSIy4GFz5szh/v37WbdXU1MDwJgxY9479+bNGwAePXrku70NGzYAsGvXLgBmz57t6z7nwXkk1F5EbW0tLS0tCQ/J1nu3b98OJBMuM2fOfO+aly9fAnDs2DEgGdMzsXnzZoCcztM5D7ZMqDE4EoloNBpNdPrr6+vp6elJee369esBmDRpEuClEleuXDnsZ7579w5Iph5NAj4Vphdx754387Vs2TJfz3AxOI/kZahcV1cHeH3fvr4+ADo6OgBYtMirXZk3bx6QHFVly9u3b4HMnmtYuHAhAFOnTgXg0KFDAMydOzfr5+c1FzF58uTE/7NmzcqjJR4rVqwA4ObNmwDs3bsXgLa2tqzbdCHCMiWZTcsWEwqOHDkCwLNnzwK36TzYMkXlwalShekwA42GhoYhrzUvt9GjRw84/urVKyD5AjYxejg4D7ZMUXnwUJ574sQJAJYsWZJIg167di3jPeXl5Rw4cACA+fPnA3Dy5EkAtmzZAmTnuYYhPVhEakXksoh0isg9EdkSPz5BRDpEpDv++cOsrShh/HhwDPitqn4jIhXALRHpAH4NXFLVz+ILYD4FfmfP1CSPHz8GYMKECQCMHTsWSMbMGzducOHChYxtjBo1CoCWlpbEsYqKCgAOHz4MBBtgGIb0YFV9qqrfxP//F16p6od46zE+j1/2OfCLwNaUIMOKwSIyDfgpcBP4sao+Be9HEJEf5dy6QZgRlukZmMnG5uZmINnLaGhoSNRDpMN4Z3NzM/v27QNg8eLFA87lAt8Ci8hY4AywVVVfiaRMHqW6b8AimCCYPIWZkjeFfCbPYKboL126NGRbZmZ75MiRCWFt4KubJiJleOKeVNWz8cPfi0hN/HwNkLLEMF+LYAqFIT1YPFc9CnSq6h/7nfoS+BXwWfzzL1YszMDGjRsHfK+qqgJIdNFScfXqVSAZXmwXYPsJEUuAXwJ3ROTb+LHf4wn7hYhsBB4D6+2YWNwMKbCqXiP1mjiAn+XWnGCYwulUrFmzBoAFCxYAwfPMfnFDZcsU1VB5KDo7O9OemzFjBhCe5xqcB1umpDy4P+PHjwfg/PnzgFcHlw+cB1umqD3YzEibtGIsFgOgurqa48ePA/nzXENRC2zyDYNX/LS2trJq1ap8mPQeLkRYpiQFNkUrhUBJClxIFHUMrq31Nlwp5B1knQdbJuwlBC+A/wD5WXaZPVVktnmqqqZMdocqMICIRFU1/cKyAiSIzS5EWMYJbJl8COxvo4XCImubQ4/B/2+4EGEZJ7BlQhO4GDZzzlDouFNE/iEi38b/fM/zhxKDi2Uz53gBTU3/Qke8mruPgX+r6r7hthmWByc2c1bV/wJmM+eCIkOhY9aEJXCqzZwDGW6bQYWOAE0i8lcRaRtOLXRYAvvazLlQGFzoCPwJmAl8BDwF/uC3rbAELprNnFMVOqrq96r6VlXfAX/GC3m+CEvgotjMOV2ho6kijbMG8L2FVSgJd1WNiYjZzPkDoK2QNnPuR7pCx09E5CO8sPYQ+I3fBt1Q2TJuJGcZJ7BlnMCWcQJbxglsGSewZZzAlvkfx/hd+k6KG3QAAAAASUVORK5CYII=\n",
      "text/plain": [
       "<Figure size 72x72 with 1 Axes>"
      ]
     },
     "metadata": {
      "needs_background": "light"
     },
     "output_type": "display_data"
    },
    {
     "name": "stdout",
     "output_type": "stream",
     "text": [
      "predicted:  ['ン'] actual:  ['ニ']\n"
     ]
    },
    {
     "data": {
      "image/png": "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\n",
      "text/plain": [
       "<Figure size 72x72 with 1 Axes>"
      ]
     },
     "metadata": {
      "needs_background": "light"
     },
     "output_type": "display_data"
    },
    {
     "name": "stdout",
     "output_type": "stream",
     "text": [
      "predicted:  ['コ'] actual:  ['ニ']\n"
     ]
    },
    {
     "data": {
      "image/png": "iVBORw0KGgoAAAANSUhEUgAAAFgAAABYCAYAAABxlTA0AAAABHNCSVQICAgIfAhkiAAAAAlwSFlzAAALEgAACxIB0t1+/AAAADh0RVh0U29mdHdhcmUAbWF0cGxvdGxpYiB2ZXJzaW9uMy4xLjAsIGh0dHA6Ly9tYXRwbG90bGliLm9yZy+17YcXAAAE8ElEQVR4nO2cQWgcVRjHf3+ruSQGlc0huI0R8WagkkV38CiCeKkKCfYgFYR4KWjwYPHksQdNjkLFQg+CbFCwh4IUEURIpGkpxhrUIqFZLdVARONlqX4edmZd153sZGff7M72/WDY3Xkz773977ffm/fNN09mhscdd/S7A8OOF9gxXmDHeIEd4wV2jBfYMakElvS0pO8kXZN0sledGibU7XWwpEPA98BTQBW4CBwzs2971738c2eKcx8DrpnZjwCSPgSOArECFwoFm56eTtHkYLK1tcXOzo7alaUR+H5gu+lzFXi89SBJC8ACwNTUFOvr6ymaHExKpVJsWRof3O4X+5+/MbPTZlYys9LExESK5vJJGoGrwOGmz0Xg53TdGT7SCHwReFjSg5JGgBeAc73p1vDQtQ82s1uSTgCfAoeAM2Z2tWc9GxLSDHKY2XngfI/6MpT4mZxjvMCOSeUiesnKykriY4vFIgBBEABQrVYBWF1dbZRHZQchOj86N2mfdnd3Y8u8BTtmYCx4fn4+8bGtFry9XZ9Qrq2tNcqztOD98BbsmK6jad1QKpUsLhYRWU1khXnDzNoGe7wFO2ZgfHDk7+bm5oD8WnIrAyNwNHC1DnZ5F9q7CMcMjAVHLC4uAvEWnTe8BTtm4Cw4IhrsosvIIAga/jgqiyMIgsY/IY7l5WXg38lFO1onMN3gLdgxAzPR6ES1Wm1YWycL7hWtQaRmWscGP9HoF2aW2TY7O2vDSPi92n5nb8GO8QI7xgvsGC+wY7zAjvECO8YL7BgvsGO8wI7pKLCkw5I+l7Qp6aqkV8P990m6IOmH8PVe993NH0nClbeA183ssqS7gUuSLgAvAZ+Z2anwAZiTwBv7VVSr1f4TtDkILgM8UX+i4E4czQGecrkM1O8l1mq12HM6WrCZ3TCzy+H7P4BN6o8PHAXOhoedBZ7tVNftyIHClZKmgS+AR4DrZnZPU9mume3rJsbGxmxmZqarAPYgWHA7yuUyGxsb7O3ttQ1XJo6EAWPAJeD58PNvLeW7MectAOvAeqFQsEqlYtSf5RiqLVU0TdJdwEfAB2b2cbj7pqTJsHwS+CXmB2w8BDM+Pp6kuaEiyVWEgPeBTTNbaio6BxwP3x8HPulU1+joKEEQUC6XG4PEsJPkKuIJ4EVgQ9KVcN+bwCmgIull4DqQzX2cnNFRYDP7kvbPxAE8eZDGRkZGKBaLjcudvGftJMHP5BzTl7yI1uyddrTeta1UKrFlrfUGQcDSUn246Pe/xFuwa5JeB/di83eVPT3HC+wYL7BjvMCO8QI7xgvsGC+wY7zAjsk0AVvSr8CfwE5mjfaGAvv3+QEza7viU6YCA0haN7P4dbAGkDR99i7CMV5gx/RD4NN9aDMtXfc5cx98u+FdhGO8wI7JTOA8LOa8T6LjW5J+knQl3J5JXGcWPjgvizmHCTST1pToSD3nbh7YM7O3D1pnVhbcWMzZzGpAtJjzQGHxiY5dk5XA7RZzTtVx14SJjo8CX4W7Tkj6WtKZg+RCZyVwosWcBwVJY9Rz8V4zs9+Bd4GHgCPADeCdpHVlJXBuFnNul+hoZjfN7C8z+xt4j7rLS0RWAudiMee4RMcoizTkOeCbpHVmktlj+VnMOS7R8ZikI9Td2hbwStIK/VTZMX4m5xgvsGO8wI7xAjvGC+wYL7BjvMCO+QdZDakDX5qQ8wAAAABJRU5ErkJggg==\n",
      "text/plain": [
       "<Figure size 72x72 with 1 Axes>"
      ]
     },
     "metadata": {
      "needs_background": "light"
     },
     "output_type": "display_data"
    },
    {
     "name": "stdout",
     "output_type": "stream",
     "text": [
      "predicted:  ['ア'] actual:  ['ヲ']\n"
     ]
    },
    {
     "data": {
      "image/png": "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\n",
      "text/plain": [
       "<Figure size 72x72 with 1 Axes>"
      ]
     },
     "metadata": {
      "needs_background": "light"
     },
     "output_type": "display_data"
    },
    {
     "name": "stdout",
     "output_type": "stream",
     "text": [
      "predicted:  ['ゼ'] actual:  ['ヽ']\n"
     ]
    },
    {
     "data": {
      "image/png": "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\n",
      "text/plain": [
       "<Figure size 72x72 with 1 Axes>"
      ]
     },
     "metadata": {
      "needs_background": "light"
     },
     "output_type": "display_data"
    },
    {
     "name": "stdout",
     "output_type": "stream",
     "text": [
      "predicted:  ['ヽ'] actual:  ['ノ']\n"
     ]
    },
    {
     "data": {
      "image/png": "iVBORw0KGgoAAAANSUhEUgAAAFgAAABYCAYAAABxlTA0AAAABHNCSVQICAgIfAhkiAAAAAlwSFlzAAALEgAACxIB0t1+/AAAADh0RVh0U29mdHdhcmUAbWF0cGxvdGxpYiB2ZXJzaW9uMy4xLjAsIGh0dHA6Ly9tYXRwbG90bGliLm9yZy+17YcXAAAFGklEQVR4nO2cUYhUZRTHf/+s8KEFi9FcW23XCEERDJcSexEiCF+shyKDKEhcBKEkJdkeXEHFh+pJCTYTfAgjWCEfhJBlfdiXcBMtddnadKl1l932qbYHwzo9zF13s5mdO3PvubN3/H5wmZ253z3fmf8cztxv9nxHZkbAjwfq7UCjEwR2JgjsTBDYmSCwM0FgZxIJLOklSUOShiXtT8upRkK13gdLWgT8CLwIjAIXge1mdj099/LPgwmufRYYNrMbAJK+BLYBZQUuFArW2tqaYMraGRsbA2B8fLzsmObmZgBWrFhRle2RkRGmpqZU6lwSgZ8Afp3zfBR47t5BknYCOwFWrVrFwMBAgilr5+DBgwB0dXWVHdPR0QHAgQMHqrLd3t5e9lwSgUt9Yv/LN2bWDXRHjmS+Lu/s7ATgzJkzFceePn0agNu3bwNw5MiRxPMn+ZIbBVbOed4CjCVzp/FIEsEXgacltQG3gNeBN1LxKgVOnDgBzEbu0NBQxWtmxsxcs3r1agB27NhRuyNmVvMBbKV4J/Ez8GGl8Rs3brSsoJiuUjkqEb2vku85SQRjZueAc0lsNDphJedMENiZILAzQWBngsDOBIGdCQI7EwR2JgjsTBDYmSCwM0FgZ4LAzgSBnQkCOxMEdiYI7EwQ2JkgsDOJ/ie30Lh+vVhUdOjQoTp7MkuuBe7t7QVgcnISgMHBQWC2gGQhEFKEM7mM4OnpaWC2zqy/v7+O3sxPiGBnchnBTU1N9XYhNiGCnclNBF+5coU9e/bU242qqRjBklZK6pM0KOmapHej1x+TdF7ST9Hjo/7u5o84EXwHeN/MLklqAr6TdB54G+g1s6PRBpj9wAdpOdbT0wPA6OgoAMPDw/T19aVlPjMqRrCZjZvZpejvP4BBitsHtgGnomGngJe9nMwzVeVgSa3AM8C3wONmNg7FD0HSsjQdO3bsGAAXLlxI02wsFi9eDMDy5csT24otsKRHgB7gPTP7XSq5qabUdf/ZBJMHNm3aBJBKSop1mybpIYrifmFmM7tJJiQ1R+ebgclS15pZt5m1m1n70qVLEzucNypGsIqh+jkwaGafzDl1FngLOBo9fp2GQ+vXrwfg5s2baZiril27dgGwb9++1GzGSRHPA28CP0i6HL3WSVHYryS9A/wCvJqaVw1ERYHNrJ/Se+IAXkjXHbh69WraJmOzbFnxe7qtrS01m2Gp7ExulsqerF27FoCWlpbUbYcIdiZEMHD8+HEAtmzZkrrtEMHO3PcRPDExwZIlS9zs33cCr1mzBoC9e/cCs7dmXoQU4UzDR/DmzZsBKBQKAKxbtw5I2KKgCkIEO9PwEXz48GHA5xYsDiGCnam5b1pNk0m/AX8CU5lNmg4F5vf5STMr+WN3pgIDSBows/J9sBYgSXwOKcKZILAz9RC4uw5zJqVmnzPPwfcbIUU4EwR2JjOB89DMeZ5Cxy5JtyRdjo6tsW1mkYPz0sw5KqBpnlvoSLHm7jVg2sw+qtZmVhF8t5mzmf0FzDRzXlDMU+hYM1kJXKqZcyLHvbmn0BFgt6TvJZ2sphY6K4FjNXNeKNxb6Ah8CjwFbADGgY/j2spK4Nw0cy5V6GhmE2b2t5n9A3xGMeXFIiuB7zZzlvQwxWbOZzOaOzblCh1nqkgjXgFi13dl8oO7md2RtBv4BlgEnDSza1nMXSXlCh23S9pAMa2NAB1xDYalsjNhJedMENiZILAzQWBngsDOBIGdCQI78y/VCmcZf0jHMAAAAABJRU5ErkJggg==\n",
      "text/plain": [
       "<Figure size 72x72 with 1 Axes>"
      ]
     },
     "metadata": {
      "needs_background": "light"
     },
     "output_type": "display_data"
    },
    {
     "name": "stdout",
     "output_type": "stream",
     "text": [
      "predicted:  ['ン'] actual:  ['ニ']\n"
     ]
    },
    {
     "data": {
      "image/png": "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\n",
      "text/plain": [
       "<Figure size 72x72 with 1 Axes>"
      ]
     },
     "metadata": {
      "needs_background": "light"
     },
     "output_type": "display_data"
    },
    {
     "name": "stdout",
     "output_type": "stream",
     "text": [
      "predicted:  ['サ'] actual:  ['ヲ']\n"
     ]
    },
    {
     "data": {
      "image/png": "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\n",
      "text/plain": [
       "<Figure size 72x72 with 1 Axes>"
      ]
     },
     "metadata": {
      "needs_background": "light"
     },
     "output_type": "display_data"
    },
    {
     "name": "stdout",
     "output_type": "stream",
     "text": [
      "predicted:  ['ウ'] actual:  ['キ']\n"
     ]
    },
    {
     "data": {
      "image/png": "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\n",
      "text/plain": [
       "<Figure size 72x72 with 1 Axes>"
      ]
     },
     "metadata": {
      "needs_background": "light"
     },
     "output_type": "display_data"
    },
    {
     "name": "stdout",
     "output_type": "stream",
     "text": [
      "predicted:  ['ミ'] actual:  ['ニ']\n"
     ]
    },
    {
     "data": {
      "image/png": "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\n",
      "text/plain": [
       "<Figure size 72x72 with 1 Axes>"
      ]
     },
     "metadata": {
      "needs_background": "light"
     },
     "output_type": "display_data"
    },
    {
     "name": "stdout",
     "output_type": "stream",
     "text": [
      "predicted:  ['ア'] actual:  ['サ']\n"
     ]
    },
    {
     "data": {
      "image/png": "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\n",
      "text/plain": [
       "<Figure size 72x72 with 1 Axes>"
      ]
     },
     "metadata": {
      "needs_background": "light"
     },
     "output_type": "display_data"
    },
    {
     "name": "stdout",
     "output_type": "stream",
     "text": [
      "predicted:  ['ヲ'] actual:  ['テ']\n"
     ]
    },
    {
     "data": {
      "image/png": "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\n",
      "text/plain": [
       "<Figure size 72x72 with 1 Axes>"
      ]
     },
     "metadata": {
      "needs_background": "light"
     },
     "output_type": "display_data"
    },
    {
     "name": "stdout",
     "output_type": "stream",
     "text": [
      "predicted:  ['イ'] actual:  ['ィ']\n"
     ]
    },
    {
     "data": {
      "image/png": "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\n",
      "text/plain": [
       "<Figure size 72x72 with 1 Axes>"
      ]
     },
     "metadata": {
      "needs_background": "light"
     },
     "output_type": "display_data"
    },
    {
     "name": "stdout",
     "output_type": "stream",
     "text": [
      "predicted:  ['ツ'] actual:  ['カ']\n"
     ]
    },
    {
     "data": {
      "image/png": "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\n",
      "text/plain": [
       "<Figure size 72x72 with 1 Axes>"
      ]
     },
     "metadata": {
      "needs_background": "light"
     },
     "output_type": "display_data"
    }
   ],
   "source": [
    "%matplotlib inline\n",
    "\n",
    "mistakes = []\n",
    "for i in range(len(y_predict)):\n",
    "    max_p = 0\n",
    "    max_a = 0\n",
    "    for j in range(len(unicode_to_int)):\n",
    "        if y_predict[i][max_p] < y_predict[i][j]:\n",
    "            max_p = j\n",
    "        if y_test[i][max_a] < y_test[i][j]:\n",
    "            max_a = j\n",
    "    if max_p != max_a:\n",
    "        mistakes.append((i,max_p,max_a))\n",
    "    if len(mistakes) > 20:\n",
    "        break;\n",
    "\n",
    "for m in mistakes:\n",
    "    (mistake, predicted, actual) = m\n",
    "    print(\"predicted: \", df_unicode_to_char[predicted], \"actual: \", df_unicode_to_char[actual])\n",
    "    image = np.array(X_test.iloc[[mistake]]).reshape(30,30)\n",
    "    plt.figure(figsize=(1,1))\n",
    "    plt.imshow(image, cmap=plt.cm.gray, interpolation='nearest')\n",
    "    plt.show()    \n",
    "    j += 1\n"
   ]
  },
  {
   "cell_type": "code",
   "execution_count": 13,
   "metadata": {},
   "outputs": [
    {
     "name": "stdout",
     "output_type": "stream",
     "text": [
      "0.9949248120300751\n"
     ]
    }
   ],
   "source": [
    "from sklearn import metrics\n",
    "\n",
    "y_predict_p = model.predict_proba(X_test)\n",
    "fpr, tpr, thresholds = metrics.roc_curve(y_test.argmax(1), y_predict_p[:,1], pos_label=1)\n",
    "AUC = metrics.auc(fpr, tpr)\n",
    "\n",
    "print(AUC)"
   ]
  },
  {
   "cell_type": "markdown",
   "metadata": {
    "colab_type": "text",
    "id": "1rbpDN9RsThB"
   },
   "source": [
    "When we look at the mistakes, it kind of seems like some of the more rare characters were being misclassified, despite being fairly obvious to see. These characters were most likely included much less in the dataset."
   ]
  },
  {
   "cell_type": "markdown",
   "metadata": {
    "colab": {},
    "colab_type": "code",
    "id": "W_dMo07xsLM2"
   },
   "source": [
    "### How can we improve this accuracy further?\n",
    "\n",
    "First, let's examine the data distribution. We have several characters under 10 instances, so we want to add more. To do this, we'll make copies of each existing item until we reach 10. The copies will be randomly resized up to -10%, re-positioned in the frame, and/or rotated up to +-10 degrees."
   ]
  },
  {
   "cell_type": "code",
   "execution_count": 14,
   "metadata": {},
   "outputs": [
    {
     "name": "stdout",
     "output_type": "stream",
     "text": [
      "counts: \n",
      "            count\n",
      "character       \n",
      "U+30DA         1\n",
      "U+30B6         1\n",
      "U+30D4         1\n",
      "U+30B0         1\n",
      "U+30E6         1\n",
      "U+30AA         1\n",
      "U+30B8         1\n",
      "U+30A3         1\n",
      "U+30FC         1\n",
      "U+30DD         2\n",
      "U+30C2         2\n",
      "U+30D6         2\n",
      "U+30B4         2\n",
      "U+30D3         3\n",
      "U+30E7         3\n",
      "U+30CC         3\n",
      "U+30DC         4\n",
      "U+30D7         4\n",
      "U+30D1         4\n",
      "U+30ED         5\n",
      "U+30F6         5\n",
      "U+30A1         5\n",
      "U+30AC         5\n",
      "U+30BA         6\n",
      "U+30C7         6\n",
      "U+30D9         7\n",
      "U+30B2         7\n",
      "U+30C0         8\n",
      "U+30D2        10\n",
      "U+30EF        13\n",
      "...          ...\n",
      "U+30EA        90\n",
      "U+30BB        91\n",
      "U+30D8       103\n",
      "U+30DB       114\n",
      "U+30E0       125\n",
      "U+30B7       126\n",
      "U+30C6       129\n",
      "U+30F3       235\n",
      "U+30B3       260\n",
      "U+30CD       292\n",
      "U+30DE       305\n",
      "U+30CE       323\n",
      "U+30E2       334\n",
      "U+30F1       400\n",
      "U+30DF       409\n",
      "U+30CA       424\n",
      "U+30CB       469\n",
      "U+30E8       499\n",
      "U+30F2       511\n",
      "U+30E4       543\n",
      "U+30EC       559\n",
      "U+30B5       591\n",
      "U+30A6       611\n",
      "U+30A4       770\n",
      "U+30C4       833\n",
      "U+30FD       918\n",
      "U+30C8      1033\n",
      "U+30CF      1109\n",
      "U+30FB      2341\n",
      "U+30A2      2566\n",
      "\n",
      "[80 rows x 1 columns]\n"
     ]
    }
   ],
   "source": [
    "char_counts = pd.DataFrame(df_katakana.groupby(['character']).size(), columns=[\"count\"])\n",
    "print(\"counts: \\n\", char_counts.sort_values(by=[\"count\"][:10]))"
   ]
  },
  {
   "cell_type": "code",
   "execution_count": 15,
   "metadata": {},
   "outputs": [
    {
     "data": {
      "image/png": "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\n",
      "text/plain": [
       "<Figure size 72x72 with 1 Axes>"
      ]
     },
     "metadata": {
      "needs_background": "light"
     },
     "output_type": "display_data"
    },
    {
     "data": {
      "image/png": "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\n",
      "text/plain": [
       "<Figure size 72x72 with 1 Axes>"
      ]
     },
     "metadata": {
      "needs_background": "light"
     },
     "output_type": "display_data"
    },
    {
     "data": {
      "image/png": "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\n",
      "text/plain": [
       "<Figure size 72x72 with 1 Axes>"
      ]
     },
     "metadata": {
      "needs_background": "light"
     },
     "output_type": "display_data"
    },
    {
     "data": {
      "image/png": "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\n",
      "text/plain": [
       "<Figure size 72x72 with 1 Axes>"
      ]
     },
     "metadata": {
      "needs_background": "light"
     },
     "output_type": "display_data"
    },
    {
     "data": {
      "image/png": "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\n",
      "text/plain": [
       "<Figure size 72x72 with 1 Axes>"
      ]
     },
     "metadata": {
      "needs_background": "light"
     },
     "output_type": "display_data"
    },
    {
     "data": {
      "image/png": "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\n",
      "text/plain": [
       "<Figure size 72x72 with 1 Axes>"
      ]
     },
     "metadata": {
      "needs_background": "light"
     },
     "output_type": "display_data"
    },
    {
     "data": {
      "image/png": "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\n",
      "text/plain": [
       "<Figure size 72x72 with 1 Axes>"
      ]
     },
     "metadata": {
      "needs_background": "light"
     },
     "output_type": "display_data"
    },
    {
     "data": {
      "image/png": "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\n",
      "text/plain": [
       "<Figure size 72x72 with 1 Axes>"
      ]
     },
     "metadata": {
      "needs_background": "light"
     },
     "output_type": "display_data"
    },
    {
     "data": {
      "image/png": "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\n",
      "text/plain": [
       "<Figure size 72x72 with 1 Axes>"
      ]
     },
     "metadata": {
      "needs_background": "light"
     },
     "output_type": "display_data"
    },
    {
     "data": {
      "image/png": "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\n",
      "text/plain": [
       "<Figure size 72x72 with 1 Axes>"
      ]
     },
     "metadata": {
      "needs_background": "light"
     },
     "output_type": "display_data"
    },
    {
     "data": {
      "image/png": "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\n",
      "text/plain": [
       "<Figure size 72x72 with 1 Axes>"
      ]
     },
     "metadata": {
      "needs_background": "light"
     },
     "output_type": "display_data"
    },
    {
     "data": {
      "image/png": "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\n",
      "text/plain": [
       "<Figure size 72x72 with 1 Axes>"
      ]
     },
     "metadata": {
      "needs_background": "light"
     },
     "output_type": "display_data"
    },
    {
     "data": {
      "image/png": "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\n",
      "text/plain": [
       "<Figure size 72x72 with 1 Axes>"
      ]
     },
     "metadata": {
      "needs_background": "light"
     },
     "output_type": "display_data"
    },
    {
     "data": {
      "image/png": "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\n",
      "text/plain": [
       "<Figure size 72x72 with 1 Axes>"
      ]
     },
     "metadata": {
      "needs_background": "light"
     },
     "output_type": "display_data"
    },
    {
     "data": {
      "image/png": "iVBORw0KGgoAAAANSUhEUgAAAFgAAABmCAYAAABP5VbpAAAABHNCSVQICAgIfAhkiAAAAAlwSFlzAAALEgAACxIB0t1+/AAAADh0RVh0U29mdHdhcmUAbWF0cGxvdGxpYiB2ZXJzaW9uMy4xLjAsIGh0dHA6Ly9tYXRwbG90bGliLm9yZy+17YcXAAAKaElEQVR4nO2cfWxV5RnAf49IVcqtVumdpcAuwiZZSYS1Kd0A0Rh0ThPAFFhNZqebGhMjZNmcDpjyD6lkQ81i0TIU4pYhDJARNSgGa+dakH7ZQh1UUz42BGpiClRpKM/+OOfctrf3q+fe97a3nl9ycs/H+3We++Q57/u8z/uKquJhjiuGugEjHU/AhvEEbBhPwIbxBGwYT8CGSUjAIvITEfmPiLSJyFPJatRIQtz2g0VkFHAEmA+cBD4GSlX1cPKal/5cmUDeIqBNVT8HEJEtwAIgooDHjRungUDAVWVff/01Fy5ccMoJm+bcuXMAnD9/ntzcXFf19KWnpweAUaNGRU3X3t5OR0eHhHuWiIDzgBN9rk8Cs0ITicgjwCMAkyZN4uDBg64qa2lp4cCBAwA89NBDYdO8//77ANTU1LBy5UpX9fTlq6++AuC6666Lmq6wsDDis0QEHO4fG2BvVLUSqLQb4npcvm7dOl577TUAbrjhBgAWLFjQL80dd9zR7zdRqqqqwtYzGBL5yJ0EJva5ngD8L4HyRiaq6urA0v7PgclABtAE5EfLU1BQoG6prq7WrKwszcrK0pycHM3JydG9e/fq3r17XZcZLyUlJVpSUhKxLvu9wr6zaxOhqpdE5HFgDzAKeFVVDyX+l4cnLy+P0aNHA3D27FkAHnzwQQD2798P4OrDJiI89thjALzwwgsAZGRk9Etzyy23AHDvvfeyZcsWAObPnw/AmDFjopafiA1GVd8G3k6kjBFPJNU2cSRiIlRVA4GABgIBxfqYBo/m5mZtbm52XaZTzu7du3X37t0R0z788MPBtEVFRVpUVKS1tbU6bdo01Qjv7A2VTRNJ8iaO4ajBbW1twXKLi4u1uLhYu7u7tbu7e0Da06dPa35+vubn5wfrnjdvno4dO1Y1wjt7GmyYhD5yqeb2228HCA44HNasWQPApk2bgIG9gGhMmTKFuXPnAvD6668DVm8BYM+ePf3S+v1+WlpaALjvvvsA2LlzZ9TyPQ02jGtvmhsKCwvVrS8CYNeuXQAsXLgw7HPH2XPp0iU2b94M9GqhM7x2+rrONUBjYyMAt956KwAXL14E4N133wVg3rx5A+o6c+YMAHV1dTzxxBMcPXo0rLPH02DDpNQG9/T00NnZGfR6LVq0KPjM0aIZM2b0y+OkPXz4MA0NDVHLf/755wHYsGEDJ06cCJumvb0dgLfeeguArKysYJ1vvPEG0OvcWb58OQDvvPMOADfeeGOwHL/fD8Ddd9/NtddeG7lRkboXJo7s7GwtKSnRzMxMzczMHNDdMnlkZGRoRkaGVlRUaEVFRdSuW2lpqZaWlgbzlpeXa3l5ecT00XwRnokwTEpNxE033cS2bduoq6sDYN++fbz88ssAfPbZZ0bqdHzDixcvBuDRRx+NmaeiogKADz74AICmpibX9XsabJghGWgUFBQEfx2XY2trKwBbt24FYOPGjQBcc801ANx///3BrldnZ2fYch3X4YoVK1iyZAkAkydPBmLPq/XFmSKqr6+PO08kPA02TSp7EYk6exzKysq0rKxsQE/B7/er3+9PSh2DwetFDCFp5exxcKbTI92vqqoKO7yF/kPcUCZOtOZwp0+fnoxmAp4NNk5aavAzzzwD9Dp/HBy3Y15eXvC8o6MDgKVLlwJQWVkJwKlTpwaUm5WV1e9ZrAnNeBg2Ao4URdPd3Q3A8ePHg/ciRfY4oVX33HMPR44c6fds9erVSWvrYPBMhGFSqsGXL1+mq6srGJIEVlAfWIMDgLvuugvo9Vw53q9XXnklZvm1tbWu2uX4hrdv3w4kxzQ4eBpsmJRq8BdffMHatWuj2sNPP/00KXU5Q+Unn3wSgJMnTwIEbXNff7GTds6cOUmpuy+eBhsmpRqcmZlJYWEhU6dOBayegc/nAyA7O7t/w660mrZq1SrAcvaE8sADDwC9s8EOgUCAF198Eei15Y6DKZTOzk6+/PJLV+8TDzE1WEQmisg+EWkVkUMissy+f72IvCciR+3f7FhlfSuJ5KRwDiAX+KF97sNal/EDYC3wlH3/KeC5WGWFOnuqq6u1ra1N29raXDlZGhoatKGhQX0+n/p8vqDTZ9asWa7Kc0tCzh5VPaWq9fb5OaAVa/nAAmCznWwzEH4u/VvOoGywiASAmcB+4DuqegqsP0FE/IOtPNGvttOHduIYHJqamiLOUiebxsZGurq6Ij6PW8AiMhbYDixX1U6RsHEW4fL1WwSTTCZMmAD0DhQcH8I333zDzJkzAXj66aeB3vCqVBNXN01ERmMJ92+qusO+fVpEcu3nucCZcHlVtVJVC1W1MCcnJxltTitiarBYqroRaFXVdX0e/RMoA8rt311hshvF8d+GajD0Lie4+eabjdTtLCnz+XxccUVkPY3HRMwGfg40i0ijfe/3WILdKiK/BI4DixNp8EglpoBV9V+EXxMHkJwFaQnifMic0FKA2267DYCysjIjdY4fPx6Aq666KjgoCoc3VDbMsHG4J8JLL70EwI4d1ve3q6uLZcuWGa3T6cEAngYPJSNCg2tqaoD+A44333wTgFmzBqxPTymeBhtmRGiwM8109dVXA9bk57Fjx4aySUE8DTaMJ2DDeAI2jCdgw4yIj5yDM0e3fv364B4PQ42nwYZJ6UpPETkLXAA6UlZpchhH9DZ/V1XDOrtTKmAAETmoqpH3wRqGJNJmz0QYxhOwYYZCwJVDUGeiuG5zym3wtw3PRBjGE7BhUibgdNjMOUqg47Mi8l8RabSPn8ZdZipscLps5mwH0OSqar2I+IA6rJi7JcB5Vf3jYMtMlQYHN3NW1W7A2cx5WBEl0NE1qRJwuM2cE2q4aUICHQEeF5FPROTVwcRCp0rAcW3mPFwIDXQE1gNTgBnAKeBP8ZaVKgGnzWbO4QIdVfW0qvao6mVgA5bJi4tUCfhj4HsiMllEMoCfYQUPDisiBTo6UaQ2i4CW0LyRSInDXVO8mXMCRAp0LBWRGVhmrR2IvfGPjTdUNow3kjOMJ2DDeAI2jCdgw3gCNsywFrCIBEQk7j6niEyzvV0NIjLFZNviZVgL2AULgV2qOlNVY26GKRZGZZAOAr5SRDbbjpZ/iMgYESkQkSoRqRORPSKSa/tolwO/EpF9ACLyaxFpsY/l9r2A7e+tAOqBiSJyp4jUiEi9iGyzfRHJIdIi5uFwAAGs0dNs+/pV4LfAv4Ec+95SrJEhwLPAb+zzAqAZyATGAoewvGMB4DJQbKcbB3wIZNrXvwP+kKx3SIfYtBOq+pF9/lesoet04D17Oe8oLA9XKHOAnap6AUBEdgBzsXwgx1TV2eCnGGv3gI/s8jKAmmQ1Ph0EHDqWPwccUtUfxcgXbTH1hZB076lqqZvGxSIdbPAkEXGEWQrUAjnOPREZLSL5YfJ9CCy0bXYmlhesOky6WmC2iEy1yxsjIt9PVuPTQcCtQJmIfAJcD/wZKAGeE5EmoBH4cWgme+pnE3AAa1biL6o6YJd9VT0L/AL4u11HLTAtWY33vGmGSQcNTms8ARvGE7BhPAEbxhOwYTwBG8YTsGH+D/eMy7Ef+lKKAAAAAElFTkSuQmCC\n",
      "text/plain": [
       "<Figure size 72x72 with 1 Axes>"
      ]
     },
     "metadata": {
      "needs_background": "light"
     },
     "output_type": "display_data"
    },
    {
     "data": {
      "image/png": "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\n",
      "text/plain": [
       "<Figure size 72x72 with 1 Axes>"
      ]
     },
     "metadata": {
      "needs_background": "light"
     },
     "output_type": "display_data"
    },
    {
     "data": {
      "image/png": "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\n",
      "text/plain": [
       "<Figure size 72x72 with 1 Axes>"
      ]
     },
     "metadata": {
      "needs_background": "light"
     },
     "output_type": "display_data"
    },
    {
     "data": {
      "image/png": "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\n",
      "text/plain": [
       "<Figure size 72x72 with 1 Axes>"
      ]
     },
     "metadata": {
      "needs_background": "light"
     },
     "output_type": "display_data"
    },
    {
     "data": {
      "image/png": "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\n",
      "text/plain": [
       "<Figure size 72x72 with 1 Axes>"
      ]
     },
     "metadata": {
      "needs_background": "light"
     },
     "output_type": "display_data"
    },
    {
     "data": {
      "image/png": "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\n",
      "text/plain": [
       "<Figure size 72x72 with 1 Axes>"
      ]
     },
     "metadata": {
      "needs_background": "light"
     },
     "output_type": "display_data"
    },
    {
     "data": {
      "image/png": "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\n",
      "text/plain": [
       "<Figure size 72x72 with 1 Axes>"
      ]
     },
     "metadata": {
      "needs_background": "light"
     },
     "output_type": "display_data"
    },
    {
     "data": {
      "image/png": "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\n",
      "text/plain": [
       "<Figure size 72x72 with 1 Axes>"
      ]
     },
     "metadata": {
      "needs_background": "light"
     },
     "output_type": "display_data"
    },
    {
     "data": {
      "image/png": "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\n",
      "text/plain": [
       "<Figure size 72x72 with 1 Axes>"
      ]
     },
     "metadata": {
      "needs_background": "light"
     },
     "output_type": "display_data"
    },
    {
     "data": {
      "image/png": "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\n",
      "text/plain": [
       "<Figure size 72x72 with 1 Axes>"
      ]
     },
     "metadata": {
      "needs_background": "light"
     },
     "output_type": "display_data"
    },
    {
     "data": {
      "image/png": "iVBORw0KGgoAAAANSUhEUgAAAFgAAABmCAYAAABP5VbpAAAABHNCSVQICAgIfAhkiAAAAAlwSFlzAAALEgAACxIB0t1+/AAAADh0RVh0U29mdHdhcmUAbWF0cGxvdGxpYiB2ZXJzaW9uMy4xLjAsIGh0dHA6Ly9tYXRwbG90bGliLm9yZy+17YcXAAAIqUlEQVR4nO2ce2yUWRmHnx8s9yVNCbeiYAUxyyXhVpSLhASDBQLZAiJCYtagwB8skSBmNxDMEiBgULmYSAJIlkRQFLaBkIWFmE0RWJRLK3dlgQK1DddyLcGUff1jvm+m1mln2pkz7Qzfk0xm5ptzzvf213fOnPOe9xyZGQHuaNHUBmQ6gcCOCQR2TCCwYwKBHRMI7JiEBJY0QdI/JX0u6f1kGZVJqLHjYEktgX8B44Ey4BQwy8wuJc+89OeNBOp+A/jczK4DSPoj8DZQp8CdO3e23NzcBG7ZPCktLeX+/fuK9lkiAn8JuF3jfRnwzdqFJM0D5gH06tWL06dPJ3DL5kleXl6dnyXSB0f7j/1ff2NmW8wsz8zyunTpksDt0pNEBC4DetZ4/2WgPDFzMo9EBD4F9JX0VUmtge8D+5NjVubQ6D7YzKolvQt8ArQEtpvZxaRZliEk8iOHmX0MfJwkWzKShATOdB48eADA6tWrgdAoaOHChQC0bNkyrjaCqbJjXhsPfvnyJQBt2rQBIt45e/bscJmRI0cChL30xo0bAKxfvz5cZufOnQAsWbIEgJkzZ9Z738CDHZORHlxVVcXGjRsBqKioAKC4uBiIeGOPHj0AOHz4cLie/3rt2rUAzJkzB4Ds7GwAKisrwzPRK1euALB3714qKyvrtCXwYMc0OprWGPLy8iyRWMSLFy8AOH78OACnTp0C4Ny5c0DEqx49ekRpaWnUNvr37w/Atm3bAJg6dSp37txpsC1ZWVkAPH78GAAzixrsCTzYMc22D/b7zGPHjgGwe/dubt26BcDt27frrBeLS5dC0dSVK1cCcOjQIUaMGAFERhrx4HtuLJpE4F27dgFw4sQJzpw5AxAWLycnB4CSkhIAXr165cSGo0ePhttfvHgxAGvWrKm3zsCBAykrKwNC3VA8BF2EY1L6Izd06FArKiqiT58+ANy7dy8p7frtDRgwAABJ7Nu3L666hYWFTJ48GYj8cFVVVUUtu2zZMgYPHgzAunXrAJg4cSJbtmyhvLw8+JFrClLaB7do0YKOHTtSVFQEwNKlSzl48GDUsl27dgUi09bi4mL69esHwNixYwEYNWpUuN2az5s3b47bg0tKSigoKABgwYIFQMQ7a7NhwwauX78OwPTp04HQt+XAgQN1th94sGOaZBThe2JhYaGT9uP5XWnfvj0A+fn54WurVq0CCE99fc98+vQpAH379g2PHvxvWCwCD3ZMs51oJMKePXtilvHH236IEqB169YAbN26FSA83fav+wGihhB4sGMy0oMvXLgQs8z48eNjlklGFlJGCfzs2TMAqqurY5YdN26ca3OAoItwTkZ58Pnz5wHqXWHwp7pTpkxJiU2BBzsmozw4HvzAUNu2bVNyv8CDHZNRHrxixYqYZebOnZsCSyLE9GBJPSV9KumypIuSfuJd7yTpiKSr3nO2e3PTj3g8uBr4qZmdldQROCPpCPBD4C9mttbbAPM+8J47U+vmyZMnQGQUEQ0/GN+pU6eU2OQT04PNrMLMznqvnwKXCW0feBvY4RXbARS4MjKdaVAfLCkXGAL8DehmZhUQ+idIii9+l0Tu3r0LwPLlywEoL687wd4f9w4fPty9YTWIW2BJbwJ7gUVm9kSKugQVrd7/bIKJhb8k76eH+l///fsjyfP+KoifcPLw4cOY7U6bNi0ue5NNXMM0Sa0IibvTzD7yLt+RlON9ngPcjVb3dd8EE9ODFXLV3wGXzezXNT7aD7wDrPWeYy6CmRnV1dVhL338+DHz588HIiu5165dA6BVq1ZAxIMbiz81HjRoUELtNJZ4uojRwA+A85JKvGtLCQn7J0k/Am4BM9yYmN7EFNjMjhF9TxzAtxtys5s3bzJv3jyuXr0KRNKiouEn+jUW33M3bdoERFYlUk0wVXZMSqfKWVlZTJo0iRkzGt6btGvXjjFjxgDQrVs3AHr37g1EkqyHDh0KQPfu3ZkwYQIQ2TLQVAQe7JiUenB2djbTp08Pp+Hn5eWFvc4fyw4ZMiRq3fz8/PCII50IPNgxKQ9XSmLYsGFAfBk46U7gwY4JBHZMILBjAoEdEwjsmEBgx6R0E4yke8Bz4H7KbpocOlO/zV8xs6jB7pQKDCDptJnVfQ5WMyQRm4MuwjGBwI5pCoG3NME9E6XRNqe8D37dCLoIxwQCOyZlAqfDYc71JDp+IOnfkkq8x6S420xFH5wuhzl7CTQ5NRMdCeXcfQ94Zma/bGibqfLg8GHOZvYfwD/MuVlRT6Jjo0mVwNEOc07IcNfUSnQEeFfSOUnbG5ILnSqB4zrMublQO9ER2Az0AQYDFcCv4m0rVQKnzWHO0RIdzeyOmb0ysy+ArYS6vLhIlcBpcZhzXYmOfhapx1Qg9l5dj5SsKqfRYc51JTrOkjSYULdWCsSdoBFMlR0TzOQcEwjsmEBgxwQCOyYQ2DHNWmBJuZLiHnNKesuLdhVL6uPStnhp1gI3ggJgn5kNMbNrsQorhFMN0kHgNyTt8AIteyS1lzRMUpGkM5I+kZTjxWgXAT+W9CmApMWSLniPRd61XC/e+1vgLNBT0nckfSbprKQ/e7GI5GBmzfYB5BKaPY323m8HfgacALp412YSmhkCfAAs8V4PA84DHYA3gYuEomO5wBfACK9cZ+Ao0MF7/x7w82T9DelwXsRtMzvuvf49oanrQOCIt523JaEIV22+BRSa2XMASR8BYwjFQG6a2Umv3AigP3Dca6818FmyjE8HgWvP5Z8CF81sZLTCNahvM/XzWuWOmNmsxhgXi3Tog3tJ8sWcBZwEuvjXJLWSNCBKvaNAgddndyAUBftrlHIngdGSvua1117S15NlfDoIfBl4R9I5oBPwG+C7wC8k/QMoAUbVruQt/XwI/J3QqsQ2MyuOUu4eocNF/uDd4yTwVrKMD6JpjkkHD05rAoEdEwjsmEBgxwQCOyYQ2DGBwI75LxlEjrZH1pI8AAAAAElFTkSuQmCC\n",
      "text/plain": [
       "<Figure size 72x72 with 1 Axes>"
      ]
     },
     "metadata": {
      "needs_background": "light"
     },
     "output_type": "display_data"
    },
    {
     "data": {
      "image/png": "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\n",
      "text/plain": [
       "<Figure size 72x72 with 1 Axes>"
      ]
     },
     "metadata": {
      "needs_background": "light"
     },
     "output_type": "display_data"
    },
    {
     "data": {
      "image/png": "iVBORw0KGgoAAAANSUhEUgAAAFgAAABmCAYAAABP5VbpAAAABHNCSVQICAgIfAhkiAAAAAlwSFlzAAALEgAACxIB0t1+/AAAADh0RVh0U29mdHdhcmUAbWF0cGxvdGxpYiB2ZXJzaW9uMy4xLjAsIGh0dHA6Ly9tYXRwbG90bGliLm9yZy+17YcXAAAJrElEQVR4nO2dfYxN6RnAfw+7CFOUUSYd0yna+JiIzUhnfEWEUhtCRan6WKKZRiydqGZXhWx8jigikg6jnVRUlLKyE9nYGFbXx2pZ1O6gZl06y4yxE0Z9xJR6+sc5596ZuWdm7sy97/3Q80tOzj3ved/3PPe5j2fe9znP+xJVxcMcrWItwKuOp2DDeAo2jKdgw3gKNoynYMOEpWAR+ZGI/FNEvhSRdyMl1KuEtHQcLCKtgevAD4HbwDlghqpeiZx4ic9rYbT9AfClqvoAROTPwCSgQQUnJydrenp6GI90p6SkBIBnz54B0KlTJ3r27AlA27ZtQ+7n5cuXAFRUVACQlJQEQMeOHQEQEdd2t27doqqqyvVmOAr+NvBVrevbQFb9SiKSA+QApKWlcf78+TAe6U6/fv0AuHbtGgAjR45ky5YtADg/aKtWTXvDx48fA7B27VoAhg0bBsDYsWMBaNOmjWu7wYMHN9hnOAp2+8WC/I2qFgAFtiBG5uUbN24EYNKkSQAUFRVRVFQEwLx58wAoLCxssv2QIUMAuHPnDgATJ04EoHPnzgAUFBQwdepUoGFrrk84f+RuAz1rXacC5WH090oSjgWfA74nIt8F7gA/BX4WEalqUVlZCVh+tV27dq51JkyYAMDMmTMB2L17t//enj17AFi6dCkA/fv3D2r/4MEDAKZPnw7A/PnzgYDlVldXAzBt2jQ2bdoEwJIlS0L7Aqra4gN4E2skcQNY3lT9zMxMbS5ZWVmalZWlY8aMUZ/Ppz6fTysrK7WyslJramq0pqbGX7e6ulqrq6t13rx5iuWu/EdeXp7m5eW5PqOiokIrKiqC2jR21Mb+Xq7fORwLRlU/BD4Mp49XnbAUHA2GDh0KwJYtW+jVqxcQ+Ke7YcMGAHJycgDLjQC8ePEiqJ+9e/cCkJubC9QdvnXv3h2A4cOHA3Dq1KkG5WlsxOCGN1U2TTg+uLlHS3xwaWmplpaWak5OTpAfzMjI0IyMjKA2ixYtCqqblJSkSUlJWlZWpmVlZa7PKi4u1uLiYk1NTdXU1NSgPrKzs/1+PlQf7FmwYeLeB/fp0weA7du3+/3mtm3bALh79y4AVVVVACQnJwMwatQofx0HZ5a2YsUKAMrLrSF7fn4+vXv3BmD06NEAnDt3DoBx48YBcPPmTQAWLlzo9/Oh4lmwYeLegh1EhNu3b9cpcyz3+vXrAJw8eRKAnTt3NtjPrl276lxnZmb6Jw0rV64EoEePHgCcPn0agJqaGgC6du3abLk9CzZMwlgwwIABAwA4dOhQnfI5c+YAAV/phB1D4eHDh1y54h5hdcKVzrklxL2CDx8+DFiD/xMnTrjWuXHjRsj9LV68GICsrEBkNS0treUCNoHnIgwTUwt+9uwZPp8PgH379gGwf/9+IBA8r40T8B44cCCAf3g1a9asOvXKy8tZtGhRnbKUlBQAVq9eDQTeUpjGs2DDxNSC161b5x/wOziBHMdaR4wYAVhBmvXr1wNw5swZIPDHbMqUKXX6eP78eZAFd+jQAYie5Tp4FmyYmFrwqlWrGrznDJ1qv4FwLNc5N4Qz8ogHPAs2TNyOg93enV2+fDkGkoSHZ8GGiVsLDodHjx4FlfXt2zcGkryiCj548GBQmZvLiQaeizBMQlnw7NmzgUCiiPOGuD7Hjx8PKuvSpYs5wRrBs2DDJJQFO6lNzrk+ju998uSJv8yZcjuJfNHGs2DDJJQFN8WxY8cAnLw5IDB6iNtRhIj0FJGPReSqiJSIyC/t8i4iclRESu3zN82Lm3iEYsEvgF+p6gUR+QbwmYgcBeYCx1Q1z14A8y7wjjlRG+b+/ftA4C1wbZyk6ljRpAWraoWqXrA/PwKuYi0fmAQ478B3AZNNCZnINMsHi0g68AbwN6C7qlaA9SOIyLciLl2IOKFNt2BQdnZ2tMWpQ8gKFpEk4CCQq6r/DnWNQv1FMCbYsWNHUFn79u2B5qebRpqQhmki8jqWcveo6vt2caWIpNj3U4B7bm1VtUBVB6vq4G7dukVC5oSiSQsWy1T/AFxV1c21bhUBbwF59vkDIxI2gvM+7+LFi0H38vPzgdgNzxxCcRHDgNnA5yJyyS77DZZi94vIfKAM+IkZERObJhWsqqdwXxMHMDqy4jSPZcuWAYGVng7jx4/3p1PFGm+qbJiEnCo76aoHDhyoU+5YrbOMNh7wLNgwCWXBT58+BQKZPM61g7MuOVbBdTc8CzZMQlnwmjVrgOBRw6BBg4DYz9rcSBgF5+XlsXnz5jplThrrkSNHgPAy0U3huQjDxL0FO6uCli9f7k9XddYmb926FaDBbQ7iAc+CDRO3FuzkNixYsACwkq3nzp0LBAI59ffhuXfPCuj5fL6Yx4EdPAs2TIv3TWvRw0S+Bp4AVVF7aGRIpnGZv6OqrsHuqCoYQETOq2r8DVgbIRyZPRdhGE/BhomFggti8MxwabHMUffB/294LsIwnoINEzUFJ8Jmzo0kOr4nIndE5JJ9vBlyn9HwwYmymbOdQJNSO9ERK+duGvBYVX/b3D6jZcH+zZxV9T+As5lzXNFIomOLiZaC3TZzDktw09RLdAR4W0Qui0hhc3Kho6XgkDZzjhfqJzoC+UBvYBBQAWwKta9oKThhNnN2S3RU1UpV/a+qvgR2Yrm8kIiWgv2bOYtIG6zNnIui9OyQaSjR0ckitfkx8EWofUYl4K6qL0TkbeAjoDVQqKolTTSLBQ0lOs4QkUFYbu0W8ItQO/SmyobxZnKG8RRsGE/BhvEUbBhPwYaJawWLSLqIhDzmFJG+drTrooj0NilbqMS1glvAZOADVX1DVZvcklUsjOogERT8mojssgMtB0SkvYhkishfReQzEflIRFLsGG0u8HMR+RhARJaIyBf2kWuXpdvx3t8BF4CeIjJWRD4VkQsi8hc7FhEZGvrvCeLhANKxZk/D7OtC4NfAGaCbXTYda2YI8B6w1P6cCXwOdACSgBKs6Fg68BLItuslA58AHezrd4CVkfoOcZubVouvVNVZRv8nrKlrBnDUXs7bGivCVZ/hwCFVfQIgIu8DI7BiIP9S1bN2vWygP3Da7q8N8GmkhE8EBdefyz8CSlS1qX0KGltM/aTWZwGOquqMlgjXFIngg9NExFHmDOAs0M0pE5HXRWSAS7tPgMm2z+6AFQU76VLvLDBMRPrY/bUXke9HSvhEUPBV4C0RuQx0AbYBU4ENIvIP4BIwtH4j+9XPH4G/Y72V+L2qBi1qVtWvsTYX2Ws/4ywQsW0CvWiaYRLBghMaT8GG8RRsGE/BhvEUbBhPwYbxFGyY/wEoUF7T4Hx+qQAAAABJRU5ErkJggg==\n",
      "text/plain": [
       "<Figure size 72x72 with 1 Axes>"
      ]
     },
     "metadata": {
      "needs_background": "light"
     },
     "output_type": "display_data"
    },
    {
     "data": {
      "image/png": "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\n",
      "text/plain": [
       "<Figure size 72x72 with 1 Axes>"
      ]
     },
     "metadata": {
      "needs_background": "light"
     },
     "output_type": "display_data"
    },
    {
     "data": {
      "image/png": "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\n",
      "text/plain": [
       "<Figure size 72x72 with 1 Axes>"
      ]
     },
     "metadata": {
      "needs_background": "light"
     },
     "output_type": "display_data"
    },
    {
     "data": {
      "image/png": "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\n",
      "text/plain": [
       "<Figure size 72x72 with 1 Axes>"
      ]
     },
     "metadata": {
      "needs_background": "light"
     },
     "output_type": "display_data"
    },
    {
     "data": {
      "image/png": "iVBORw0KGgoAAAANSUhEUgAAAFgAAABmCAYAAABP5VbpAAAABHNCSVQICAgIfAhkiAAAAAlwSFlzAAALEgAACxIB0t1+/AAAADh0RVh0U29mdHdhcmUAbWF0cGxvdGxpYiB2ZXJzaW9uMy4xLjAsIGh0dHA6Ly9tYXRwbG90bGliLm9yZy+17YcXAAAJFElEQVR4nO2ca2wU1xXHf/9gLIe3Ay7iZRYoVkRB4pU2ISVGEKrCB6AVpfABtTxEBQIZoVY8JEi+RG4CRSBLLcQlAtRCRalRC4pBfAimCbgNcYCYIrtpRYmpDRiVEEC87NMPM2tjs4vX3r3LrjM/abQ7M3fmnvnPmTNzz9y5MjMC3PHcszagsxMI7JhAYMcEAjsmENgxgcCOiUtgSd+XVCXpc0nrEmVUZ0IdfQ6W1AWoBqYDNcDHwAIz+0fizEt/MuLY9tvA52b2bwBJfwBmA1EF7tevn4VCoTiqTE0uXbpEfX29Iq2LR+BBwBePzdcA32ldSNIyYBlAbm4uZ86ciaPK1GTixIlR18UTgyOdsSfijZm9a2YTzWxiTk5OHNWlJ/EIXAMMeWx+MPDf+MzpfMQj8MfASEnDJGUC84G/JMaszkOHY7CZPZK0EjgGdAHeM7MLCbOskxDPTQ4zex94P0G2dEqClpxjAoEdE1eISGWuXr0KwJgxYwC4fv06AGPHjgXg4MGDAIwYMcKpHYEHOyZlPfjatWsA9OjRA4Bu3bpFLXv//n0Azp07B8C2bds4fPgwALdv325R9uzZswDMmzcPgPLycrp27ZpAy1sSeLBjUs6Dy8rKANixYwfQ7J1Tp05tymNcvny5xTZXrlwBoLq6OuZ6KioqABg/fjwbNmwAYMGCBXFYHpnAgx2TMh5cU1MDwOzZswH48ssvW6w/dOhQ1G2zsrIA2LNnDwBvvfUWI0eOBGDhwoUALFmyBIA7d+602LayspLTp08Dbjw4ZQQePHgw0Czw3r17nyjTs2dPAAYNGgTAsGHDAO8yB5gyZQoAs2bNok+fPgB8+OGHADx48CBivZKYO3duIg4hIkGIcEzKeHCYnTt3As0NggMHDgCQnZ3Nxo0bAXjllVdi3t/u3bsBePjwYcT1K1eu5LXXXuuouW0SeLBrzCxp04QJEyxZlJWVWVlZmWVkZFhGRobhvW1pmlatWmWrVq1KSF3+cUU85sCDHZNyMTgR1NXVMX/+fAAePXrUYt20adMA2L59e1JsCTzYMZ3Kg+/evQvAokWLqK2tbbGub9++AGzevBnwnn+TQeDBjulUHvzGG28AcPTo0aZlYc8NPw+PGzcuqTaltcCVlZVAc74hnOt9nHBO4vXXXwe8x1IIQkSnIS09+ObNm4CXI4bm922RKC8vB+D5558HYPr06QBs3boVgNGjRzuzEwIPdk5aeXD4PVs4t9vac3NzcwEvbblv3z7gyYbG8ePHgWbvP3HiBKNGjXJmc+DBjkl5D75x4wYA+/fvp6CgAIDGxkYAnnvO848ZM2Y0lQEvMb9o0SIAjhw5AjR7+7Fjx4DmfhP5+fnk5eUBMHnyZICm9OXMmTPjtr9ND5Y0RNIHki5KuiCpwF/+gqTjkv7p/2bHbU1nJFqaLTwBA4Dx/v+eeN9ljALeAdb5y9cBb7e1r/akK4uLi624uNhycnIsJyenRapRkkmywsJCKywsbFdqsaqqyqqqqiw7O9uys7OfSGMClpmZaZmZmZafn2/5+flWUlJiJSUlVl9fn/h0pZnVmlmF//8r4CLe5wOzgT1+sT3AnESc8M5Gu2KwpBAwDvgb0N/MasE7CZK+EY8hdXV1QHOfsTVr1gCRX/UUFhYCsHbt2nbXE46358+fB2D58uWcPHkSgFu3bgHNL0jDfTTCv/379296+pg0aRIAK1aseHqFbV3W1hwqegCfAD/052+2Wv+/KNstA84AZ3Jzc5+4vKqrq626utpCoZCFQqGIl2x46khIiIW6ujqrq6uzoqIiKyoqeqoNraddu3bZ0KFDOx4iACR1Bf4E/N7MSvzFVyUN8NcPAK5FOYFf649gYvFcAXuBba2Wb6blTe6dtvbV+iZXUFBgvXr1sl69ekX1kLy8PMvLy7MtW7ZYY2OjNTY2JtyDwzQ0NFhDQ4OVlpZaaWmpDR8+3IYPH/5UD87KyjJJFu2YY4nBrwILgc8khdNVG4BfAgckLQEuAz+K81x3Sjr8KW1HGDhwoC1dupRTp04B3s2jdVM2/JAf7vuwfv16AHr37p00O8OEGyfhXkabNm1qemvSGjOLmP8MmsqOSaoHS3qisu7duwOwePFioPltb7IS4u2hsrKSl156CYB79+61WBd48LOirTt/Iqdk9uxJJkHPnmdIILBjAoEdEwjsmEBgxwQCOyYQ2DGBwI5JdlP5OnAHqE9apYmhH0+3eaiZRUx2J1VgAElnzCz6OFgpSDw2ByHCMYHAjnkWAr/7DOqMlw7bnPQY/HUjCBGOCQR2TNIETofBnJ/S0fFNSVcknfWnmLtdJiUGp8tgzn4HmgFmViGpJ15PpjnAPOC2mW1p7z6T5cFNgzmb2QMgPJhzSmHROzp2mGQJHGkw57gMd02rjo4AKyWdl/Ree/pCJ0vgmAZzThUk9cDri7fazG4BvwFGAGOBWuBXse4rWQKnzWDOkTo6mtlVM2sws0agGC/kxUSyBE6LwZzl9XbZBVw0s62PLR/wWLEfAJWx7jMpH8FY+gzmHK2j4wJJY/HC2iXgZ7HuMGgqOyZoyTkmENgxgcCOCQR2TCCwY1JaYEkhSTE/c0p60c92fSrJ7eDsMZLSAneAOcCfzWycmf2rrcLycKpBOgicIWmPn2g5KKmbpAmSyiR9IumYpAF+jnY1sFTSBwCS1kiq9KfV/rKQn+/9NVABDJH0PUmnJVVI+qOfi0gM0Xpmp8IEhPBaT6/68+8BvwBOATn+sh/jtQwB3gR+7v+fAHwGdMf7SvUCXnYsBDQCL/vl+gEnge7+/FpgU6KOIeXHiwC+MLOP/P+/w2u6jgaO+x/KdMHLcLXmu8AhM7sDIKkEmIyXA/mPmZX75V7GGz3gI39/mcDpRBmfDgK3bst/BVwws7YGEX7aZ0qPjzMu4LiZJX58cdIjBudKCou5ACgHcsLLJHWV9K0I250E5vgxuzteFuyvEcqVA69K+qa/v26S8hJlfDoIfBH4iaTzwAtAETAXeFvSOeAsMKn1Rv6rn93A3/HeSvzWzD6NUO468FNgv19HOfBioowPsmmOSQcPTmsCgR0TCOyYQGDHBAI7JhDYMYHAjvk/FCE2X3c0DJsAAAAASUVORK5CYII=\n",
      "text/plain": [
       "<Figure size 72x72 with 1 Axes>"
      ]
     },
     "metadata": {
      "needs_background": "light"
     },
     "output_type": "display_data"
    },
    {
     "data": {
      "image/png": "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\n",
      "text/plain": [
       "<Figure size 72x72 with 1 Axes>"
      ]
     },
     "metadata": {
      "needs_background": "light"
     },
     "output_type": "display_data"
    },
    {
     "data": {
      "image/png": "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\n",
      "text/plain": [
       "<Figure size 72x72 with 1 Axes>"
      ]
     },
     "metadata": {
      "needs_background": "light"
     },
     "output_type": "display_data"
    },
    {
     "data": {
      "image/png": "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\n",
      "text/plain": [
       "<Figure size 72x72 with 1 Axes>"
      ]
     },
     "metadata": {
      "needs_background": "light"
     },
     "output_type": "display_data"
    },
    {
     "data": {
      "image/png": "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\n",
      "text/plain": [
       "<Figure size 72x72 with 1 Axes>"
      ]
     },
     "metadata": {
      "needs_background": "light"
     },
     "output_type": "display_data"
    },
    {
     "data": {
      "image/png": "iVBORw0KGgoAAAANSUhEUgAAAFgAAABmCAYAAABP5VbpAAAABHNCSVQICAgIfAhkiAAAAAlwSFlzAAALEgAACxIB0t1+/AAAADh0RVh0U29mdHdhcmUAbWF0cGxvdGxpYiB2ZXJzaW9uMy4xLjAsIGh0dHA6Ly9tYXRwbG90bGliLm9yZy+17YcXAAAJrElEQVR4nO2ce2xUeRXHP6elUKCAlEIp0KXlFSE8CpSHkYevCii4kgUUIgnJJiuYVTfR6Ia/NjHRBR9gMDHBuEkJBmOQqBDiQoSFCBW2kKWw0OVRoBTKo0Doorw5/nHn3Dsdpu20M3c6M9xP0kzvnd/93d+c+c6555zf715RVQL8I6urB5DpBAb2mcDAPhMY2GcCA/tMYGCficvAIjJfRD4RkfMi8naiBpVJSGfjYBHJBs4CFUAD8CGwXFVPJ2546U+3OI6dDpxX1ToAEfkz8CrQqoELCgq0pKQkjlOmJpcuXaKpqUmivRePgYcCV8K2G4AZkY1E5A3gDYBXXnmF6urqOE6ZmpSXl7f6Xjw+ONo39oK/UdXNqlququUDBw6M43TpSTwGbgCKw7aHAdfiG07mEY+BPwRGi0ipiHQHvg38IzHDyhw67YNV9amIvAm8D2QD76nqxwkbWYYQz0UOVd0N7E7QWDKSuAycSCwej4zLRaTFa7RjjGfPngGQnZ0dtX1XEKTKPpMyCu4MpuD79+8DcO7cOcCJtwsKCoDoyk8mgYJ9JmUUfPPmTQAuXLgAwODBgwFHjQDdur04VFPw9evXAdi8eTMAkydPZunSpQAMGDDAx1G3T6Bgn0kZBZ88eRKAdevWATBnzhwA1qxZA+D61HDMvz569AiA48ePA3Do0CGys7MBWLZsGQD9+vUDXow8wvsxIiOatiKZ9ggU7DNdruDnz58DkJOTA8CTJ08AOHHiBABNTU0A5Ofnk5WV1eKYSEXZ/osXL3Ls2DEA5s2bB3gKjqZW8+E1NTWA48MBElGc6nIDm9FGjx4NeB9uz549AOzbtw+A3Nxc+vTpA0CvXr1a9HH79m0AunfvDjguo76+HvAunn379gXg3r17AFy5csV9v7KyEnDqugDLly8HYNy4cQBMnz4dgMLCwg67icBF+EyXK9jIz88HYOrUqQDs2rULgPXr1wOwZcsWV4VFRUWAp0pzI42NjW5/lnRs2rQJ8FyPtWloaACgubmZ5uZmwPsFbNiwAfB+Kabo1atXU1zsVGhjVXKgYJ/pcgVbKNSjRw8AysrKAJgyZQoAO3fuBKC+vt5VjYVgkRc9U2lWVpbre+1iN3bsWADGjx8PeL+UoqIi9wJr4d7+/fsBz/9v3boVgJKSElasWAFAXl5eTJ8vULDPdLmCI33ZmDFjAFiwYAEAZ8+eBRxfmZubC3hp89ChQwFPyVVVVe62+c0lS5YAjvoA+vfv3+K8OTk57vGW7Bw4cADwyp/mr6uqqli4cCEQKDhl6HIFG+aLzR/Onj0b8NSanZ3N8OHDAejduzeAq2jzt2vXrgXg2rVrTJo0CfDiaouh7TwPHz4E4PHjx26KvW3bNgAOHz7coq0pvG/fvu74YiVQsM+kjIIjffGIESMAKC0tjfp+OKaqwsJCwFHnkCFDWhx369YtwFE3wPnz593X7du3A3D69Gn3ePDi4mHDhgEwbdq0mH2vkTIGjiTSoOHbFpYZlijcuXMHcC5AZghLOGxF0cGDBwGora0F4OrVq27YZ1+mXTzt1Sp7FRUVrluKlcBF+EzKKthoyzVYGHX58mUAt8AzYcIEV8Hh4Rjgug67cM2cOZOJEycC3uyHpcO2bVW1vLy8oNiTaqS8gtvCfPGDBw8AL2wrLS11VWczIRbizZ8/H3DCM3CUbSGchYSmdlO5EcxopCBpqWBLAMwHWxRh27m5uW7xyFRppU3D1BmuytZWFcVDuwoWkWIR2S8iZ0TkYxH5YWh/vojsFZFzodf+cY8mA4lFwU+BH6nqcRHpAxwTkb3AKuBfqvpu6AaYt4Gf+jfUKAN7+hRwYlnwkom6ujru3r0LtD6vFh5LxzNr3B7tKlhVG1X1eOj/T4EzOLcPvApUhppVAt9M+OgygA75YBEpASYDR4BCVW0E50sQkUEJH10rRBbcbWrHoolDhw6xceNGAObOnQs4sTF42ZqlwSLiqjkyQ7TzxKPsmA0sInnAX4G3VLU51pNG3gSTSMywVjs+deoU4KTFO3bsAGD3bmf5ss1a20yGzZgUFxe7bsTCPJvit6pd2Gfp8BhjCtNEJAfHuH9S1R2h3TdEpCj0fhFwM9qxL/tNMO3eiCjO11YJ3FHVt8L2/xK4HXaRy1fVn7TVV3l5ufpxG1fkUqe6ujp3Pu3o0aMAHDlyBIAbN24AnjsRETeEsxR58eLFAKxcuRKAQYMc72cuI5Ly8nKqq6s7fZ/c54GVwEkR+Si0by3wLvAXEXkdqAeWxtDXS0e7BlbVfxP9njiALyd2OJ0j8lc4cuRIV42LFi0CPP9sy6OsQFRbW+sumbU2Fu5Z4mJKtrpwRwhSZZ9Jy1Q5ksiiDHjrLGwht73OmjUL8G47qK+vd2cyzG/bHJ3NUldUVACBglOSjFBwR+jZsyfgxbwFBQVuEjJjhnMvuy2dtUJRZ5RrBAr2mYxXcCzZlxXYR40aBfDCCkpLqztDxhu4NaIZ3vaZ+0hKPTggPl5aBbdFIuvCgYJ9JjCwzwQG9plOPzetUycTuQX8F2hK2kkTQwFtj3m4qkYtdifVwAAiUq2qrT8HKwWJZ8yBi/CZwMA+0xUG3twF54yXTo856T74ZSNwET4TGNhnkmbgdHiYcxsLHd8Rkasi8lHo72sx95kMH5wuD3MOLaApCl/oiLPmbhlwX1V/1dE+k6Vg92HOqvoYsIc5pxRtLHTsNMkycLSHOcc1cL+JWOgI8KaI1IjIex1ZC50sA8f0MOdUIXKhI/B7YCRQBjQCv461r2QZOG0e5hxtoaOq3lDVZ6r6HPgDjsuLiWQZOC0e5hxa6PhH4Iyq/iZsf1FYs8XAqVj7TMqUURo9zLm1hY7LRaQMx61dAr4ba4dBquwzQSbnM4GBfSYwsM8EBvaZwMA+kxEGFpGloQrYfhEp60i1y28ywsDA68D3VPWLOOlshwwsIr7lA2m3Nk1E/oaTducCvwUGA7OAUhHZDbwG9BSRWcAvgF3AJmACzud9R1X/LiKrgK+H+ukNfMmXAatqWv3h3I8H0BMnZR0AfACUh/avAn4X1v7nwHdC/38Gpy7dO9Suwfrz6y/tFAz8QEQWh/4vBka30/6rwDdE5Meh7VzA7undq6p3fBijS1oZWES+AHwF+Jyq/k9EPsAxWJuHAa+p6icRfc3AWcblK+l2kesH3A0Z97PAzChtPgX6hG2/D3w/VClDRCb7P0yPdDPwP4FuIlID/Az4T5Q2+4FxocnJb4Xa5QA1InIqtJ00gmqaz6SbgtOOwMA+ExjYZwID+0xgYJ8JDOwzgYF95v96EwbyFSnp5AAAAABJRU5ErkJggg==\n",
      "text/plain": [
       "<Figure size 72x72 with 1 Axes>"
      ]
     },
     "metadata": {
      "needs_background": "light"
     },
     "output_type": "display_data"
    },
    {
     "data": {
      "image/png": "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\n",
      "text/plain": [
       "<Figure size 72x72 with 1 Axes>"
      ]
     },
     "metadata": {
      "needs_background": "light"
     },
     "output_type": "display_data"
    },
    {
     "data": {
      "image/png": "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\n",
      "text/plain": [
       "<Figure size 72x72 with 1 Axes>"
      ]
     },
     "metadata": {
      "needs_background": "light"
     },
     "output_type": "display_data"
    },
    {
     "data": {
      "image/png": "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\n",
      "text/plain": [
       "<Figure size 72x72 with 1 Axes>"
      ]
     },
     "metadata": {
      "needs_background": "light"
     },
     "output_type": "display_data"
    },
    {
     "data": {
      "image/png": "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\n",
      "text/plain": [
       "<Figure size 72x72 with 1 Axes>"
      ]
     },
     "metadata": {
      "needs_background": "light"
     },
     "output_type": "display_data"
    }
   ],
   "source": [
    "import cv2 as cv\n",
    "import random\n",
    "from scipy import ndimage\n",
    "\n",
    "MINIMUM_DATA = 25\n",
    "\n",
    "katakana_additions = []\n",
    "under_min = char_counts.loc[char_counts[\"count\"] < MINIMUM_DATA].to_dict()['count']\n",
    "show_sample = 20\n",
    "\n",
    "for char in under_min:\n",
    "    show_this_sample = True\n",
    "    remaining_to_add = MINIMUM_DATA - under_min[char]\n",
    "    char_existing = df_katakana.loc[df_katakana[\"character\"] == char]\n",
    "    char_existing = char_existing.drop(columns=[\"character\"])\n",
    "    while remaining_to_add > 0:\n",
    "        for existing in range(len(char_existing)):\n",
    "            if (remaining_to_add < 1):\n",
    "                break\n",
    "            \n",
    "            image *= 255\n",
    "            image = image.astype('int')\n",
    "            image = np.array(char_existing.iloc[[existing]]).reshape(30,30)\n",
    "            if show_sample > 0 and show_this_sample:\n",
    "                plt.figure(figsize=(1,1))\n",
    "                plt.xlabel(\"before\")\n",
    "                plt.imshow(image, cmap=plt.cm.gray, interpolation='nearest', label=\"before\")\n",
    "            \n",
    "            rotation = random.randint(-20,20)            \n",
    "            resize = random.randint(70,100)\n",
    "            position_updown = random.randint(-10,10)\n",
    "            position_leftright = random.randint(-10,10)\n",
    "            old_size = image.shape[1]\n",
    "            \n",
    "            new_size = int(old_size * (resize/100))\n",
    "            image = np.array(image, dtype='uint8')\n",
    "            image = cv.resize(image,(new_size,new_size))\n",
    "            \n",
    "            pad_total = old_size - image.shape[1]\n",
    "            pad = pad_total/2\n",
    "            padding = [pad,pad,pad,pad]\n",
    "            up_pad_diff = pad * (position_updown/100)\n",
    "            padding[0] = int(padding[0] - up_pad_diff)\n",
    "            padding[1] = int(padding[1] + up_pad_diff)\n",
    "            right_pad_diff = pad * (position_leftright/100)\n",
    "            padding[2] = int(padding[2] - right_pad_diff)\n",
    "            padding[3] = int(padding[3] + right_pad_diff)\n",
    "            if (padding[0] + padding[1]) % 2 == 1 or pad_total == 1 :\n",
    "                padding[0] += 1\n",
    "            if (padding[2] + padding[3]) % 2 == 1 or pad_total == 1 :\n",
    "                padding[2] += 1\n",
    "            image = cv.copyMakeBorder(image, padding[0], padding[1], padding[2], padding[3], cv.BORDER_CONSTANT,value=[255,255,255])\n",
    "\n",
    "            image = ndimage.rotate(image, rotation, reshape=\"true\", mode=\"constant\", cval=255)\n",
    "            image = cv.resize(image,(old_size,old_size))\n",
    "            \n",
    "            if show_sample > 0 and show_this_sample:\n",
    "                plt.figure(figsize=(1,1))            \n",
    "                plt.xlabel(\"after\")\n",
    "                plt.imshow(image, cmap=plt.cm.gray, interpolation='nearest')\n",
    "                plt.show()\n",
    "                show_sample -= 1\n",
    "                show_this_sample = False\n",
    "            \n",
    "            remaining_to_add -= 1\n",
    "            image.reshape(900)\n",
    "            katakana_additions.append(np.append(image,char))\n",
    "    "
   ]
  },
  {
   "cell_type": "code",
   "execution_count": 16,
   "metadata": {},
   "outputs": [
    {
     "name": "stdout",
     "output_type": "stream",
     "text": [
      "4101\n"
     ]
    }
   ],
   "source": [
    "print(\"Adding to data:\", len(katakana_additions))"
   ]
  },
  {
   "cell_type": "code",
   "execution_count": 17,
   "metadata": {},
   "outputs": [
    {
     "name": "stdout",
     "output_type": "stream",
     "text": [
      "     0    1    2    3    4    5    6    7    8    9  ...  891  892  893  894  \\\n",
      "0  255  255  255  255  255  255  255  255  255  255  ...  255  255  255  255   \n",
      "1  255  255  255  255  255  255  255  255  255  255  ...  255  255  255  255   \n",
      "2  255  255  255  255  255  255  255  255  255  255  ...  255  255  255  255   \n",
      "3  255  255  255  255  255  255  255  255  255  255  ...  255  255  255  255   \n",
      "4  255  255  255  255  255  255  255  255  255  255  ...  255  255  255  255   \n",
      "\n",
      "   895  896  897  898  899 character  \n",
      "0  255  255  255  255  255    U+30A1  \n",
      "1  255  255  255  255  255    U+30A1  \n",
      "2  255  255  255  255  255    U+30A1  \n",
      "3  255  255  255  255  255    U+30A1  \n",
      "4  255  255  255  255  255    U+30A1  \n",
      "\n",
      "[5 rows x 901 columns]\n",
      "counts: \n",
      "            count\n",
      "character       \n",
      "U+30A1       100\n",
      "U+30C5       100\n",
      "U+30C7       100\n",
      "U+30C9       100\n",
      "U+30D0       100\n",
      "U+30D1       100\n",
      "U+30D2       100\n",
      "U+30D3       100\n",
      "U+30D4       100\n",
      "U+30D5       100\n"
     ]
    }
   ],
   "source": [
    "df_katakana_additions = pd.DataFrame(columns=df_katakana.columns, data=katakana_additions)\n",
    "print(df_katakana_additions.head())\n",
    "df_katakana_minimum = pd.concat([df_katakana, df_katakana_additions], ignore_index=True)\n",
    "char_counts = pd.DataFrame(df_katakana_minimum.groupby(['character']).size(), columns=[\"count\"])\n",
    "print(\"counts: \\n\", char_counts.sort_values(by=[\"count\"])[:10])"
   ]
  },
  {
   "cell_type": "code",
   "execution_count": 18,
   "metadata": {},
   "outputs": [
    {
     "name": "stdout",
     "output_type": "stream",
     "text": [
      "Train on 11619 samples, validate on 3873 samples\n",
      "Epoch 1/30\n",
      "11619/11619 [==============================] - 2s 214us/step - loss: 2.0819 - accuracy: 0.5513 - val_loss: 1.4133 - val_accuracy: 0.6662\n",
      "Epoch 2/30\n",
      "11619/11619 [==============================] - 2s 207us/step - loss: 1.1654 - accuracy: 0.7230 - val_loss: 1.0682 - val_accuracy: 0.7405\n",
      "Epoch 3/30\n",
      "11619/11619 [==============================] - 2s 196us/step - loss: 0.8932 - accuracy: 0.7855 - val_loss: 0.9173 - val_accuracy: 0.7800\n",
      "Epoch 4/30\n",
      "11619/11619 [==============================] - 2s 196us/step - loss: 0.7538 - accuracy: 0.8158 - val_loss: 0.8108 - val_accuracy: 0.7942\n",
      "Epoch 5/30\n",
      "11619/11619 [==============================] - 2s 201us/step - loss: 0.6566 - accuracy: 0.8377 - val_loss: 0.7308 - val_accuracy: 0.8123\n",
      "Epoch 6/30\n",
      "11619/11619 [==============================] - 2s 210us/step - loss: 0.5998 - accuracy: 0.8500 - val_loss: 0.7125 - val_accuracy: 0.8211\n",
      "Epoch 7/30\n",
      "11619/11619 [==============================] - 3s 218us/step - loss: 0.5470 - accuracy: 0.8597 - val_loss: 0.6734 - val_accuracy: 0.8244\n",
      "Epoch 8/30\n",
      "11619/11619 [==============================] - 2s 214us/step - loss: 0.4932 - accuracy: 0.8743 - val_loss: 0.6356 - val_accuracy: 0.8348\n",
      "Epoch 9/30\n",
      "11619/11619 [==============================] - 3s 219us/step - loss: 0.4504 - accuracy: 0.8852 - val_loss: 0.6349 - val_accuracy: 0.8298\n",
      "Epoch 10/30\n",
      "11619/11619 [==============================] - 2s 207us/step - loss: 0.4200 - accuracy: 0.8905 - val_loss: 0.5968 - val_accuracy: 0.8404\n",
      "Epoch 11/30\n",
      "11619/11619 [==============================] - 2s 208us/step - loss: 0.3837 - accuracy: 0.9012 - val_loss: 0.5723 - val_accuracy: 0.8515\n",
      "Epoch 12/30\n",
      "11619/11619 [==============================] - 3s 217us/step - loss: 0.3590 - accuracy: 0.9082 - val_loss: 0.5950 - val_accuracy: 0.8448\n",
      "Epoch 13/30\n",
      "11619/11619 [==============================] - 2s 200us/step - loss: 0.3231 - accuracy: 0.9220 - val_loss: 0.5451 - val_accuracy: 0.8601\n",
      "Epoch 14/30\n",
      "11619/11619 [==============================] - 2s 197us/step - loss: 0.3004 - accuracy: 0.9250 - val_loss: 0.5200 - val_accuracy: 0.8639\n",
      "Epoch 15/30\n",
      "11619/11619 [==============================] - 3s 254us/step - loss: 0.2778 - accuracy: 0.9299 - val_loss: 0.5270 - val_accuracy: 0.8629\n",
      "Epoch 16/30\n",
      "11619/11619 [==============================] - 3s 229us/step - loss: 0.2523 - accuracy: 0.9393 - val_loss: 0.5057 - val_accuracy: 0.8719\n",
      "Epoch 17/30\n",
      "11619/11619 [==============================] - 3s 243us/step - loss: 0.2287 - accuracy: 0.9452 - val_loss: 0.5006 - val_accuracy: 0.8719\n",
      "Epoch 18/30\n",
      "11619/11619 [==============================] - 3s 245us/step - loss: 0.2090 - accuracy: 0.9500 - val_loss: 0.5058 - val_accuracy: 0.8634\n",
      "Epoch 19/30\n",
      "11619/11619 [==============================] - 3s 222us/step - loss: 0.1958 - accuracy: 0.9534 - val_loss: 0.4886 - val_accuracy: 0.8753\n",
      "Epoch 20/30\n",
      "11619/11619 [==============================] - 3s 222us/step - loss: 0.1745 - accuracy: 0.9598 - val_loss: 0.4759 - val_accuracy: 0.8797\n",
      "Epoch 21/30\n",
      "11619/11619 [==============================] - 3s 222us/step - loss: 0.1630 - accuracy: 0.9639 - val_loss: 0.4844 - val_accuracy: 0.8758\n",
      "Epoch 22/30\n",
      "11619/11619 [==============================] - 3s 244us/step - loss: 0.1554 - accuracy: 0.9621 - val_loss: 0.4714 - val_accuracy: 0.8781\n",
      "Epoch 23/30\n",
      "11619/11619 [==============================] - 3s 229us/step - loss: 0.1372 - accuracy: 0.9700 - val_loss: 0.4626 - val_accuracy: 0.8805\n",
      "Epoch 24/30\n",
      "11619/11619 [==============================] - 3s 253us/step - loss: 0.1245 - accuracy: 0.9715 - val_loss: 0.4789 - val_accuracy: 0.8841\n",
      "Epoch 25/30\n",
      "11619/11619 [==============================] - 3s 235us/step - loss: 0.1177 - accuracy: 0.9738 - val_loss: 0.4583 - val_accuracy: 0.8830\n",
      "Epoch 26/30\n",
      "11619/11619 [==============================] - 2s 214us/step - loss: 0.1028 - accuracy: 0.9793 - val_loss: 0.4644 - val_accuracy: 0.8802\n",
      "Epoch 27/30\n",
      "11619/11619 [==============================] - 2s 205us/step - loss: 0.1003 - accuracy: 0.9792 - val_loss: 0.4556 - val_accuracy: 0.8846\n",
      "Epoch 28/30\n",
      "11619/11619 [==============================] - 2s 207us/step - loss: 0.0868 - accuracy: 0.9836 - val_loss: 0.4390 - val_accuracy: 0.8926\n",
      "Epoch 29/30\n",
      "11619/11619 [==============================] - 3s 236us/step - loss: 0.0826 - accuracy: 0.9840 - val_loss: 0.4521 - val_accuracy: 0.8841\n",
      "Epoch 30/30\n",
      "11619/11619 [==============================] - 3s 237us/step - loss: 0.0689 - accuracy: 0.9881 - val_loss: 0.4336 - val_accuracy: 0.8983\n",
      "6640/6640 [==============================] - 0s 71us/step\n",
      "\n",
      " ACCURACY: [0.42043546106082846, 0.8971385359764099]\n"
     ]
    }
   ],
   "source": [
    "X = df_katakana_minimum.drop(columns=[\"character\"])\n",
    "y = df_katakana_minimum[\"character\"]\n",
    "X = X.astype('float32')\n",
    "X /= 255\n",
    "\n",
    "y = y.map(unicode_to_int)\n",
    "y = np_utils.to_categorical(y, len(unicode_to_int))\n",
    "\n",
    "X_train, X_test, y_train, y_test = train_test_split(X, y, test_size=0.3, random_state=5)\n",
    "\n",
    "model_min = Sequential()\n",
    "model_min.add(Dense(hidden_neurons, input_dim = input_size))\n",
    "model_min.add(Activation('sigmoid'))\n",
    "model_min.add(Dense(out_size, input_dim = hidden_neurons))\n",
    "model_min.add(Activation('softmax'))\n",
    "\n",
    "model_min.compile(loss='categorical_crossentropy',\n",
    "              metrics=['accuracy'],\n",
    "              optimizer='adam')\n",
    "\n",
    "fitted_model = model_min.fit(X_train, y_train, validation_split=0.25, batch_size=64, epochs=30, verbose=1)\n",
    "\n",
    "y_predict = model_min.predict(X_test, verbose=0)\n",
    "score = model_min.evaluate(X_test, y_test, verbose=1)\n",
    "print(\"\\n ACCURACY:\", score)"
   ]
  },
  {
   "cell_type": "code",
   "execution_count": 19,
   "metadata": {},
   "outputs": [
    {
     "name": "stdout",
     "output_type": "stream",
     "text": [
      "predicted:  ['パ'] actual:  ['バ']\n"
     ]
    },
    {
     "data": {
      "image/png": "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\n",
      "text/plain": [
       "<Figure size 72x72 with 1 Axes>"
      ]
     },
     "metadata": {
      "needs_background": "light"
     },
     "output_type": "display_data"
    },
    {
     "name": "stdout",
     "output_type": "stream",
     "text": [
      "predicted:  ['ウ'] actual:  ['テ']\n"
     ]
    },
    {
     "data": {
      "image/png": "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\n",
      "text/plain": [
       "<Figure size 72x72 with 1 Axes>"
      ]
     },
     "metadata": {
      "needs_background": "light"
     },
     "output_type": "display_data"
    },
    {
     "name": "stdout",
     "output_type": "stream",
     "text": [
      "predicted:  ['ル'] actual:  ['ン']\n"
     ]
    },
    {
     "data": {
      "image/png": "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\n",
      "text/plain": [
       "<Figure size 72x72 with 1 Axes>"
      ]
     },
     "metadata": {
      "needs_background": "light"
     },
     "output_type": "display_data"
    },
    {
     "name": "stdout",
     "output_type": "stream",
     "text": [
      "predicted:  ['ミ'] actual:  ['イ']\n"
     ]
    },
    {
     "data": {
      "image/png": "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\n",
      "text/plain": [
       "<Figure size 72x72 with 1 Axes>"
      ]
     },
     "metadata": {
      "needs_background": "light"
     },
     "output_type": "display_data"
    },
    {
     "name": "stdout",
     "output_type": "stream",
     "text": [
      "predicted:  ['ツ'] actual:  ['ウ']\n"
     ]
    },
    {
     "data": {
      "image/png": "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\n",
      "text/plain": [
       "<Figure size 72x72 with 1 Axes>"
      ]
     },
     "metadata": {
      "needs_background": "light"
     },
     "output_type": "display_data"
    },
    {
     "name": "stdout",
     "output_type": "stream",
     "text": [
      "predicted:  ['ゼ'] actual:  ['ビ']\n"
     ]
    },
    {
     "data": {
      "image/png": "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\n",
      "text/plain": [
       "<Figure size 72x72 with 1 Axes>"
      ]
     },
     "metadata": {
      "needs_background": "light"
     },
     "output_type": "display_data"
    },
    {
     "name": "stdout",
     "output_type": "stream",
     "text": [
      "predicted:  ['ケ'] actual:  ['エ']\n"
     ]
    },
    {
     "data": {
      "image/png": "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\n",
      "text/plain": [
       "<Figure size 72x72 with 1 Axes>"
      ]
     },
     "metadata": {
      "needs_background": "light"
     },
     "output_type": "display_data"
    },
    {
     "name": "stdout",
     "output_type": "stream",
     "text": [
      "predicted:  ['ア'] actual:  ['フ']\n"
     ]
    },
    {
     "data": {
      "image/png": "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\n",
      "text/plain": [
       "<Figure size 72x72 with 1 Axes>"
      ]
     },
     "metadata": {
      "needs_background": "light"
     },
     "output_type": "display_data"
    },
    {
     "name": "stdout",
     "output_type": "stream",
     "text": [
      "predicted:  ['セ'] actual:  ['ゼ']\n"
     ]
    },
    {
     "data": {
      "image/png": "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\n",
      "text/plain": [
       "<Figure size 72x72 with 1 Axes>"
      ]
     },
     "metadata": {
      "needs_background": "light"
     },
     "output_type": "display_data"
    },
    {
     "name": "stdout",
     "output_type": "stream",
     "text": [
      "predicted:  ['リ'] actual:  ['サ']\n"
     ]
    },
    {
     "data": {
      "image/png": "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\n",
      "text/plain": [
       "<Figure size 72x72 with 1 Axes>"
      ]
     },
     "metadata": {
      "needs_background": "light"
     },
     "output_type": "display_data"
    },
    {
     "name": "stdout",
     "output_type": "stream",
     "text": [
      "predicted:  ['ヲ'] actual:  ['テ']\n"
     ]
    },
    {
     "data": {
      "image/png": "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\n",
      "text/plain": [
       "<Figure size 72x72 with 1 Axes>"
      ]
     },
     "metadata": {
      "needs_background": "light"
     },
     "output_type": "display_data"
    },
    {
     "name": "stdout",
     "output_type": "stream",
     "text": [
      "predicted:  ['サ'] actual:  ['セ']\n"
     ]
    },
    {
     "data": {
      "image/png": "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\n",
      "text/plain": [
       "<Figure size 72x72 with 1 Axes>"
      ]
     },
     "metadata": {
      "needs_background": "light"
     },
     "output_type": "display_data"
    },
    {
     "name": "stdout",
     "output_type": "stream",
     "text": [
      "predicted:  ['ウ'] actual:  ['ア']\n"
     ]
    },
    {
     "data": {
      "image/png": "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\n",
      "text/plain": [
       "<Figure size 72x72 with 1 Axes>"
      ]
     },
     "metadata": {
      "needs_background": "light"
     },
     "output_type": "display_data"
    },
    {
     "name": "stdout",
     "output_type": "stream",
     "text": [
      "predicted:  ['フ'] actual:  ['ラ']\n"
     ]
    },
    {
     "data": {
      "image/png": "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\n",
      "text/plain": [
       "<Figure size 72x72 with 1 Axes>"
      ]
     },
     "metadata": {
      "needs_background": "light"
     },
     "output_type": "display_data"
    },
    {
     "name": "stdout",
     "output_type": "stream",
     "text": [
      "predicted:  ['ナ'] actual:  ['サ']\n"
     ]
    },
    {
     "data": {
      "image/png": "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\n",
      "text/plain": [
       "<Figure size 72x72 with 1 Axes>"
      ]
     },
     "metadata": {
      "needs_background": "light"
     },
     "output_type": "display_data"
    },
    {
     "name": "stdout",
     "output_type": "stream",
     "text": [
      "predicted:  ['ヽ'] actual:  ['イ']\n"
     ]
    },
    {
     "data": {
      "image/png": "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\n",
      "text/plain": [
       "<Figure size 72x72 with 1 Axes>"
      ]
     },
     "metadata": {
      "needs_background": "light"
     },
     "output_type": "display_data"
    },
    {
     "name": "stdout",
     "output_type": "stream",
     "text": [
      "predicted:  ['サ'] actual:  ['ド']\n"
     ]
    },
    {
     "data": {
      "image/png": "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\n",
      "text/plain": [
       "<Figure size 72x72 with 1 Axes>"
      ]
     },
     "metadata": {
      "needs_background": "light"
     },
     "output_type": "display_data"
    },
    {
     "name": "stdout",
     "output_type": "stream",
     "text": [
      "predicted:  ['ナ'] actual:  ['サ']\n"
     ]
    },
    {
     "data": {
      "image/png": "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\n",
      "text/plain": [
       "<Figure size 72x72 with 1 Axes>"
      ]
     },
     "metadata": {
      "needs_background": "light"
     },
     "output_type": "display_data"
    },
    {
     "name": "stdout",
     "output_type": "stream",
     "text": [
      "predicted:  ['タ'] actual:  ['ョ']\n"
     ]
    },
    {
     "data": {
      "image/png": "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\n",
      "text/plain": [
       "<Figure size 72x72 with 1 Axes>"
      ]
     },
     "metadata": {
      "needs_background": "light"
     },
     "output_type": "display_data"
    },
    {
     "name": "stdout",
     "output_type": "stream",
     "text": [
      "predicted:  ['ク'] actual:  ['ケ']\n"
     ]
    },
    {
     "data": {
      "image/png": "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\n",
      "text/plain": [
       "<Figure size 72x72 with 1 Axes>"
      ]
     },
     "metadata": {
      "needs_background": "light"
     },
     "output_type": "display_data"
    },
    {
     "name": "stdout",
     "output_type": "stream",
     "text": [
      "predicted:  ['ウ'] actual:  ['ノ']\n"
     ]
    },
    {
     "data": {
      "image/png": "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\n",
      "text/plain": [
       "<Figure size 72x72 with 1 Axes>"
      ]
     },
     "metadata": {
      "needs_background": "light"
     },
     "output_type": "display_data"
    }
   ],
   "source": [
    "%matplotlib inline\n",
    "\n",
    "mistakes = []\n",
    "for i in range(len(y_predict)):\n",
    "    max_p = 0\n",
    "    max_a = 0\n",
    "    for j in range(len(unicode_to_int)):\n",
    "        if y_predict[i][max_p] < y_predict[i][j]:\n",
    "            max_p = j\n",
    "        if y_test[i][max_a] < y_test[i][j]:\n",
    "            max_a = j\n",
    "    if max_p != max_a:\n",
    "        mistakes.append((i,max_p,max_a))\n",
    "    if len(mistakes) > 20:\n",
    "        break;\n",
    "\n",
    "for m in mistakes:\n",
    "    (mistake, predicted, actual) = m\n",
    "    print(\"predicted: \", df_unicode_to_char[predicted], \"actual: \", df_unicode_to_char[actual])\n",
    "    image = np.array(X_test.iloc[[mistake]]).reshape(30,30)\n",
    "    plt.figure(figsize=(1,1))\n",
    "    plt.imshow(image, cmap=plt.cm.gray, interpolation='nearest')\n",
    "    plt.show()    \n",
    "    j += 1\n"
   ]
  },
  {
   "cell_type": "markdown",
   "metadata": {},
   "source": [
    "### Improved results\n",
    "In the results above, I can see that instead of not predicting the more rare characters, the mistakes are simple those who are more difficult to predict. The accuracy rate is only an improvement of around 1%, but I feel better about the mistakes that I can see here.\n"
   ]
  },
  {
   "cell_type": "code",
   "execution_count": 20,
   "metadata": {},
   "outputs": [
    {
     "name": "stdout",
     "output_type": "stream",
     "text": [
      "0.9741305425451582\n"
     ]
    }
   ],
   "source": [
    "from sklearn import metrics\n",
    "\n",
    "y_predict_minp = model_min.predict_proba(X_test)\n",
    "fpr_min, tpr_min, thresholds_min = metrics.roc_curve(y_test.argmax(1), y_predict_minp[:,1], pos_label=1)\n",
    "AUC_min = metrics.auc(fpr_min, tpr_min)\n",
    "\n",
    "print(AUC_min)"
   ]
  },
  {
   "cell_type": "code",
   "execution_count": 21,
   "metadata": {},
   "outputs": [
    {
     "data": {
      "image/png": "iVBORw0KGgoAAAANSUhEUgAAAYgAAAGDCAYAAAAxhIflAAAABHNCSVQICAgIfAhkiAAAAAlwSFlzAAALEgAACxIB0t1+/AAAADh0RVh0U29mdHdhcmUAbWF0cGxvdGxpYiB2ZXJzaW9uMy4xLjAsIGh0dHA6Ly9tYXRwbG90bGliLm9yZy+17YcXAAAgAElEQVR4nOzdd3xT9f7H8denZRRkKUsFEURUVkEoCjLKBhmCgAKigveCAqLXgT+3IuIVF6gXFBFF4CqoiIoKyGqZIsK1yFB2BQSl7Fno+Pz+SKihpG060tMkn+fj0UeTkzPeOU36yfd7Tr5HVBVjjDEmvTCnAxhjjCmYrEAYY4zxygqEMcYYr6xAGGOM8coKhDHGGK+sQBhjjPHKCoTJNhHpJyLznc7hNBGpIiInRCQ8H7dZVURURArl1zb9SUQ2ikjLHCxnr8F8IPY9iMAmIvFARSAFOAHMA4ap6gkncwUj974eqKoLHcxQFdgJFFbVZKdyuLMoUENVt/l5O1UpIM851FgLIjh0VdUSQH3geuBJh/PkiJOfioPlE3l22P42WbECEURU9U/ge1yFAgARKSoir4vILhH5S0QmiEgxj8e7iUiciBwTke0i0tE9vbSIfCAi+0TkDxEZda4rRUQGiMhy9+0JIvK6Zw4R+VpEHnHfvlxEvhCRBBHZKSIPesw3QkRmish/ReQYMCD9c3LnmOpe/ncReUZEwjxyrBCR/4jIURH5TUTapFs2s+ewQkTGisghYISIVBeRxSJyUEQOiMjHIlLGPf80oArwjbtb6f/Sd/eISKyIvOhe73ERmS8i5Tzy3O1+DgdF5FkRiReRtt7+liJSTETecM9/VESWe/7dgH7uv+kBEXnaY7kbROQHETnift7jRKSIx+MqIveLyFZgq3vaWyKy2/0aWCsizT3mDxeRp9yvjePux68QkaXuWda590dv9/xd3K+nIyKyUkQiPdYVLyKPi8gvwEkRKeS5D9zZ17hz/CUiY9yLntvWEfe2mni+Bt3L1haRBSJyyL3sU972q8kmVbWfAP4B4oG27tuVgfXAWx6PvwnMBi4BSgLfAC+7H7sBOAq0w/VhoRJwnfuxr4D3gIuACsBq4D73YwOA5e7bLYDd/N1deTFwGrjcvc61wHNAEeAqYAfQwT3vCCAJ6O6et5iX5zcV+NqdvSqwBfinR45k4GGgMNDb/Xwu8fE5JAMPAIWAYsDV7n1RFCiP6x/Tm972tft+VUCBQu77scB24Br3+mKB0e7HauHqAmzm3hevu5972wz+ruPdy1cCwoGb3LnObfN99zbqAWeAmu7lGgKN3c+pKvAr8JDHehVYgOv1UMw97U6grHuZR4E/gQj3Y4/hek1dC4h7e2U91nW1x7obAPuBG92Z+7v3WVGP/RcHXOGx7bR9CvwA3OW+XQJo7G0/e3kNlgT2ubNHuO/f6PR7Mxh+HA9gP7n8A7reYCeA4+430SKgjPsxAU4C1T3mbwLsdN9+DxjrZZ0V3f90inlM6wvEuG97vjkF2AW0cN8fBCx2374R2JVu3U8Ck923RwBLM3lu4e4ctTym3QfEeuTYi7s4uaetBu7y8Tnsymjb7nm6Az+n29dZFYhnPB4fCsxz334OmO7xWHHgLF4KBK5ieRqo5+Wxc9usnO4598ngOTwEfOlxX4HWWTzvw+e2DWwGumUwX/oC8S7wYrp5NgPRHvvvH15ev+cKxFLgBaBcBs85owLR1/PvZD9592P9gMGhu6ouFJFo4BOgHHAE16fg4sBaETk3r+D6xwuuT3JzvKzvSlyfyPd5LBeGq6VwHlVVEZmB6026FLgD+K/Hei4XkSMei4QDyzzuX7BOD+Vwfdr+3WPa77g+VZ/zh7r/S3g8frmPz+G8bYtIBeBtoDmuT6FhuP5ZZsefHrdP4fokjDtT2vZU9ZSIHMxgHeVwfRLent3tiMg1wBggCtffvhCuVpyn9M/7UWCgO6MCpdwZwPUaySyHpyuB/iLygMe0Iu71et12Ov8ERgK/ichO4AVV/daH7WYno8kGOwYRRFR1CfARru4LgAO4PonWVtUy7p/S6jqgDa43a3Uvq9qN69N3OY/lSqlq7Qw2PR3oJSJX4mo1fOGxnp0e6yijqiVVtZNn7Eye0gFc3TBXekyrAvzhcb+SeFQA9+N7fXwO6bf9sntapKqWwtX1IpnMnx37cHUBAq5jDLi6dbw5ACTi/W+TlXeB33CdXVQKeIrznwN4PA/38YbHgduBi1W1DK5uunPLZPQa8WY38FK6v3dxVZ3ubdvpqepWVe2LqzvwFWCmiFyU2TI5yGiywQpE8HkTaCci9VU1FVdf9Vj3p2NEpJKIdHDP+wFwj4i0EZEw92PXqeo+YD7whoiUcj9W3d1CuYCq/gwkAJOA71X1XIthNXDMfWCymPuAZx0RaeTLE1HVFOAz4CURKekuQI/wdwsFXP9MHhSRwiJyG1ATmJPd5+BWEld33RERqYSr/93TX7iOo+TETKCriNzkPmj8Ahf+4wbA/Xf7EBgjroP84e4Ds0V92E5J4BhwQkSuA4b4MH8yrr9fIRF5DlcL4pxJwIsiUkNcIkXkXGFLvz/eBwaLyI3ueS8Skc4iUtKH3IjInSJS3v38z72GUtzZUsl4338LXCoiD4nrpIySInKjL9s0mbMCEWRUNQHXgd1n3ZMeB7YBq8R1ptBCXAccUdXVwD3AWFyfGpfw96f1u3F1D2zC1c0yE7gsk01PB9ri6uI6lyUF6IrrrKqduD4ZTwJKZ+MpPYDrOMoOYLl7/R96PP4jUMO97peAXqp6rusmu8/hBVwHWo8C3wGz0j3+MvCM+wyd4dl4DqjqRvdzmYGrNXEc1wHdMxksMhzXweGfgEO4PlH78n4djqub7ziuf9ifZjH/98BcXAf/f8fVcvHsBhqDq0jPx1V4PsB1cBxcx5CmuPfH7aq6BtcxqHG49vc2vJyZlomOwEYROQG8heu4SqKqnsL1t13h3lZjz4VU9Tiukwu64up62wq0ysZ2TQbsi3ImYInIAFxfXGvmdJbsEpESuD4l11DVnU7nMcYba0EYk09EpKuIFHf3q7+Oq4UQ72wqYzJmBcKY/NMN1wH0vbi6xfqoNeFNAWZdTMYYY7yyFoQxxhiv/FYgRORDEdkvIhsyeFxE5G0R2SYiv4hIA39lMcYYk33+/Cb1R7hOd5uaweM34+qHrYHry1Xvun9nqly5clq1atW8SWiMMSFi7dq1B1S1fHaW8VuBUNWl4hrHPSPdgKnug3SrRKSMiFzm/oJThqpWrcqaNWvyMKkxxgQ/Efk967nO5+RYTJU4/ws5e9zTMi0QJsR17gxzvA0fZUJZZ75lDp2djlEA/QJUwTWCSvY5eZDa2zADXk+pEpF73ePEr0lISPBzLFOgWXEwXlhx8GYXrsEN0o/V6DsnWxB7cI3CeE5lXOeHX0BVJwITAaKiouy8XAN2erbx5P64aS8Ll5MnT1K8+BX8+msstWrVyvF6nGxBzAbudp/N1Bg4mtXxhyx17gwi9hPMPyZLofg2MH+LjY2ldu3anDx5MlfFAfzYghCR6UBLoJyI7AGexzU+P6o6Add1CDrhGtDrFK5B43LHuh9CQ6dOWc8TwkL1bWAvC1iwYAH9+vXjs88+o0SJElkvkAV/nsXUN4vHFbjfTxv3y2qNCST2NggtSUlJPPHEE8yaNYtmzfJm/Eq7opwxQaSzHasNSStWrKBRo0asXr2a8PDwrBfwUXAMtXGu09WYEHeue8m6W0LH559/Ts+ePdm5c2eeFgcIlgLh2elq7wxj+O47pxOY/PDJJ5/w4IMP8v3333Pttdfm+fqDq4vJOl2NMSFk9+7dLFy4kNq1M7pcfO4EV4Ewxo/sS9ymoPjggw+46qqrePzxx/26ncDtYvI82duYfBAoxcF6WYPb+PHjGTlyJFdccUXWM+dS4LYg0r9b7V1h8on1ZBqnvP/++7zxxhssWbKEqlWr+n17gVsgzsnk3WpdAsaYYJGSkkLr1q3p2LFjvrQeIBgKRCasOJi8Zg1Vk99UlZEjR3Lw4EHefvvtfN12UBeIc6xLwBgTiFSVZ555hq+//ppFixbl+/YD9yC1h4wGJzPGmEC2YMECvvvuO2JiYqhYsWK+bz8oWhCZdSVZl4AxJtCoKr/++ivt2rVj5cqVFC9e3JEcQVEgzrGuJGNMoEtNTWXIkCFs27aNhQsXOlYcIAgKhA1OZowJFikpKQwcOJDt27fz3XffIQ73lQd8gbDByYwxwSIhIYHU1FTmzp3LRRdd5HSc4DhIDTY4mTEmcCUlJfHqq69y8cUXM2XKlAJRHCCICoQxxgSiM2fOcPvtt7N06VK0gB1IDegC0ZlvnY5gjDE5lpycTM+ePRERZs2aRUREhNORzhPQxyDm4DpCbccfjDGBRlUpVKgQ/fv3p3v37hQuXNjpSBcI6BbEOXb8wRgTSE6ePEnnzp1Zt24dt912W4EsDhDABcK6l4wxgej48eN07NiRSy+9lDp16jgdJ1MBWyCse8kYE4gGDRpEnTp1mDRpUp5fQzqvSUE7ap6VqKgoXbNmTdpYSwEW3xgTog4fPkyxYsU4fvw45cqVy/cvwYnIWlWNys4ygdmCsK9PG2MCSEJCAq1atWL69OmUL1/e8W9I+yowC4Rd6MEYEyD+/PNPWrVqRZcuXRgwYIDTcbIlMAuEMcYEiFmzZnH77bczatSogGk5nBOQ34OwM5iMMQXdrl272Lp1K0OHDnU6So4FZAvCzmAyxhRkO3fuJDo6mo0bNzodJVcCskCcY1+QM8YUNNu2baNly5YMHz6cBx980Ok4uRKQXUzGGFNQFSlShJdeeok777zT6Si5FtAtCGOMKSg2bNhA//79ueKKK4KiOIAVCGOMybW4uDjatWtHx44dA+5MpcxYF5MxxuTCn3/+SYcOHXjnnXfo2bOn03HylBUIY4zJoRMnTnDppZeybNkyrrnmGqfj5DnrYjLGmBxYvnw5NWvW5PDhw0FZHMBaEMYYk20xMTH07t2bTz75hIsvvtjpOH5jBcIYY7IhJSWFp59+ms8//5zo6Gin4/iVFQhjjPHR8uXLadCgAcuXLycsLPh76IP/GRpjTB746quv6NmzJ9u3bw+J4gBWIIwxJkuff/45gwcPZu7cudStW9fpOPnGupiMMSYL+/btY/78+URGRjodJV9ZgTDGmAxMnjyZihUrBvygezllXUzGGOPFe++9x3PPPUf16tWdjuIYa0EYY0w6U6ZM4eWXXyY2NtYKhDHGGJfk5GTatGlDdHQ0VatWdTqOo6xAGGOM20svvUR8fDzvv/++01EKBCsQxpiQp6qMGDGCzz77jMWLFzsdp8CwAmGMCXnLly9n1qxZxMbGUrFiRafjFBhWIIwxIUtVWb9+Pc2bN2f16tUUK1bM6UgFip3maowJSampqTz44IMMHTqU1NRUKw5eWAvCGBNyUlNTGTx4MBs3bmTOnDkhM7ZSdlmBMMaEnMOHD5OUlMS8efMoWbKk03EKLCubxpiQkZyczMsvv0xERASTJ0+24pAFKxDGmJCQlJRE3759Wbp0qXUp+ci6mIwxQS81NZXbbruN1NRUvvrqK4oWLep0pIBgBcIYE9RUlbCwMO655x5uvvlmihQp4nSkgOHXdpaIdBSRzSKyTUSe8PJ4FRGJEZGfReQXEenkzzzGmNBy6tQpunTpwo8//ki3bt2sOGST3wqEiIQD44GbgVpAXxGplW62Z4DPVPV6oA/wjr/yGGNCy4kTJ+jcuTNly5YlKirK6TgByZ8tiBuAbaq6Q1XPAjOAbunmUaCU+3ZpYK8f8xhjQsiwYcOoXr06kydPJjw83Ok4AcmfxyAqAbs97u8Bbkw3zwhgvog8AFwEtPW2IhG5F7gXoEqVKnke1BgTPI4cOUKhQoUYM2YMZcqUsTOWcsGfe068TNN09/sCH6lqZaATME1ELsikqhNVNUpVo8qXL++HqMaYYHDw4EHatGnD1KlTueSSS6w45JI/994e4AqP+5W5sAvpn8BnAKr6AxABlPNjJmNMkNq/fz+tW7embdu2DBkyxOk4QcGfBeInoIaIVBORIrgOQs9ON88uoA2AiNTEVSAS/JjJGBOk5s2bxy233MLo0aMR8daBYbLLb8cgVDVZRIYB3wPhwIequlFERgJrVHU28Cjwvog8jKv7aYCqpu+GMsaYDP3xxx/ExcVx9913Ox0l6Pi1g05V56jqNapaXVVfck97zl0cUNVNqtpUVeupan1Vne/PPMaY4PL7778THR3Nr7/+6nSUoGRHcIwxAWnnzp20bNmSBx54gOHDhzsdJyjZUBvGmIBUrFgxRo0aRb9+/ZyOErSsBWGMCSi//vorvXv3pkKFClYc/MwKhDEmYKxfv542bdrQpUsX+45DPrAuJmNMQDh06BDt27fnzTffpHfv3k7HCQlWIIwxBd6xY8e45JJLWL58OdWrV3c6TsiwNpoxpkBbuXIlNWvWZP/+/VYc8pm1IIwxBdbSpUvp1asXU6dOpUKFCk7HCTlWIIwxBZKq8vzzzzN9+nTatGnjdJyQZAXCGFPgLFu2jHr16rFo0SI7W8lBtueNMQXKN998Q8+ePdm+fbsVB4fZ3jfGFBizZs1i4MCBfPvtt1x//fVOxwl51sVkjCkwDh06xNy5c2nQoIHTUQxWIIwxBcB///tfIiIiGDhwoNNRjAfrYjLGOOrDDz/kiSeeoFatWk5HMelYC8IY45gZM2YwYsQIFi9ezDXXXON0HJOOFQhjjCOSkpJo3bo1sbGxXHXVVU7HMV5YF5MxJt+99tpr9O/fnwoVKlhxKMCsBWGMyVejRo1i2rRpLFq0yOkoJgtWIIwx+WbNmjXMmDGD2NhYLrvsMqfjmCxYgTDG+J2qEhcXR1RUFGvXrqVo0aJORzI+sGMQxhi/UlUeeeQR7rvvPlJSUqw4BBBrQRhj/CY1NZUHHniANWvWMH/+fMLDw52OZLLBCoQxxm9OnDjBmTNnWLBgAaVKlXI6jskm62IyxuS5lJQURo0ahaoyadIkKw4BygqEMSZPJScnc9ddd7FkyRIKFy7sdByTC9bFZIzJM6rKHXfcwYkTJ/jmm2+IiIhwOpLJBSsQxpg8oaqICAMGDKBNmzZ2tlIQsC4mY0yunT59mi5duhAbG0unTp2sOAQJKxDGmFw5efIkXbt2pXTp0jRr1szpOCYPWYEwxuTKY489RuXKlZk2bRqFClmvdTCxv6YxJkeOHj1KamoqL7/8MiVLliQszD5vBhv7ixpjsu3w4cO0a9eOyZMnU7p0aSsOQcr+qsaYbDlw4ABt2rShWbNmPPzww07HMX5kBcIYky2xsbF06NCBN954AxFxOo7xIzsGYYzxyb59+1i5ciW9evWiV69eTscx+cBaEMaYLO3Zs4eWLVuyZcsWp6OYfGQFwhiTqV27dhEdHc2gQYN48sknnY5j8pF1MRljMlWiRAleeOEF7rzzTqejmHxmLQhjjFdbtmzh1ltvpVSpUlYcQpQVCGPMBTZt2kTr1q255ZZb7NvRIcz+8saY8xw7doz27dszevRoazmEOCsQxpg0R44coUyZMixfvpyqVas6Hcc4zLqYjDEArF69mpo1a/LHH39YcTCAFQhjDLBixQq6dOnC+++/T6VKlZyOYwoI62IyJsSpKqNGjWLatGl06NDB6TimAPGpQIhIEaCKqm7zcx5jTD5avnw5tWrVYs6cOTaukrlAll1MItIZWA8scN+vLyJf+juYMca/5s6dy6233srWrVutOBivfDkGMRK4ETgCoKpxwNX+DGWM8a/Zs2fTv39/Zs+ezY033uh0HFNA+dLFlKSqR9J9wlA/5THG5IPjx4/z3Xff0ahRI6ejmALMlwLxq4jcDoSJSDXgX8Aq/8YyxvjD9OnTSUpK4u6773Y6igkAvnQxDQMaAqnALCARV5EwxgSQKVOm8Oijj9KgQQOno5gA4UsLooOqPg48fm6CiPTAVSyMMQHgyy+/5Omnn2bx4sVcd911TscxAcKXFsQzXqY9nddBjDH+cebMGVq2bMmSJUusOJhsybAFISIdgI5AJREZ4/FQKVzdTcaYAm7s2LEsXbqUL7/8kosvvtjpOCbAZNbFtB/YgOuYw0aP6ceBJ/wZyhiTe6+88gqTJk1i0aJFTkcxASrDAqGqPwM/i8jHqpqYk5WLSEfgLSAcmKSqo73MczswAteps+tU9Y6cbMsY87cNGzYwdepUYmNjbWwlk2O+HKSuJCIvAbWAiHMTVfWazBYSkXBgPNAO2AP8JCKzVXWTxzw1gCeBpqp6WEQq5OA5GGPcVJU1a9bQqFEjfv75Z4oUKeJ0JBPAfDlI/REwGRDgZuAzYIYPy90AbFPVHap61r1Mt3TzDALGq+phAFXd72NuY0w6qsrjjz/Ovffey9mzZ604mFzzpUAUV9XvAVR1u6o+A7TyYblKwG6P+3vc0zxdA1wjIitEZJW7S+oCInKviKwRkTUJCQk+bNqY0KKqPPzwwyxatIiFCxdacTB5wpcCcUZc42xsF5HBItIV8KUryNvoX+mH6CgE1ABaAn2BSSJS5oKFVCeqapSqRpUvX96HTRsTWk6dOkViYiKLFi2ibNmyTscxQcKXAvEwUAJ4EGiKq1voHz4stwe4wuN+ZWCvl3m+VtUkVd0JbMZVMIwxPkhJSWHkyJEkJiYyYcIEypS54POVMTmWZYFQ1R9V9biq7lLVu1T1FuB3H9b9E1BDRKq5ryfRB5idbp6vcHdXiUg5XF1OO7L1DIwJUcnJyQwYMICYmBiKFi3qdBwThDItECLSSES6u/95IyK1RWQqPgzWp6rJuMZx+h74FfhMVTeKyEgRucU92/fAQRHZBMQAj6nqwVw8H2NCgqrSv39//vrrL7777jtKlCjhdCQThETV+8jdIvIy0BNYB1QDvsQ1SN8rwLuqeiq/QnqKiorStWvXAJBBdGOCmqoiIixcuJBmzZoRERGR9UIm5InIWlWNys4ymX0PohtQT1VPi8gluI4f1FPVzbkJaYzJucTERG6//XaGDh1Kx45eT/ozJs9k1sWUqKqnAVT1EPCbFQdjnHP69Gm6detGREQEbdq0cTqOCQGZtSCuEpFzQ3oLUNXjPqraw6/JjDHneeaZZyhfvjwfffQRhQr5MgiCMbmT2ausZ7r74/wZxBjj3fHjx0lMTGTEiBEUL16c8PBwpyOZEJHZYH02BKQxDjt69Cg333wzXbp04amnnnI6jgkxvnxRzhjjgEOHDtG2bVuioqJ48sknnY5jQpAVCGMKqB9++IFWrVrx1ltv4Rrtxpj85fORLhEpqqpn/BnGGAN//fUXixYt4o477qBz585OxzEhLMsWhIjcICLrga3u+/VE5D9+T2ZMCNq7dy8tW7Zk69atTkcxxqcupreBLsBBAFVdh2/DfRtjsuGPP/4gOjqau+++m+eff97pOMb41MUUpqq/p+sDTfFTHmNCVsmSJRkxYgT9+vVzOooxgG8tiN0icgOgIhIuIg8BW/ycy5iQsW3bNjp16kTRokWtOJgCxZcCMQR4BKgC/AU0dk8zxuTS5s2badWqFd27d7chu02B40sXU7Kq9vF7EmNCzKlTp2jfvj0jR47knnvucTqOMRfwpUD8JCKbgU+BWap63M+ZjAl6Bw8epGzZsixfvpwrrrgi6wWMcYAvV5SrDowCGgLrReQrEbEWhTE5tHbtWmrXrs2OHTusOJgCzadvUqvqSlV9EGgAHAM+9msqY4LUjz/+yM0338yECRO46qqrnI5jTKZ8+aJcCRHpJyLfAKuBBOAmvyczJgi9+uqrTJ48me7duzsdxZgs+XIMYgPwDfCqqi7zcx5jgtLy5cu5+uqrmTlzpo2rZAKGL11MV6nqA1YcjMmZBQsW0KNHD7Zv327FwQSUDFsQIvKGqj4KfCEimv5xu6KcMVmbM2cOAwYMYNasWTRt2tTpOMZkS2ZdTJ+6f9uV5IzJocTERGbPnk3jxo2djmJMtmV2RbnV7ps1VfW8IiEiwwC74pwxGZg5cyYHDhxg8ODBTkcxJsd8OQbxDy/T/pnXQYwJFp988gkPPPAATZo0cTqKMbmS2TGI3kAfoJqIzPJ4qCRwxN/BjAlEc+bM4bHHHmPhwoXUrl3b6TjG5EpmxyBW47oGRGVgvMf048DP/gxlTCBKTEykRYsWLFmyhKuvvtrpOMbkWmbHIHYCO4GF+RfHmMA0fvx4vvnmG+bNm2fFwQSNzLqYlqhqtIgcBjxPcxVAVfUSv6czJgCMGTOGcePGsXjxYqejGJOnMutiOndZ0XL5EcSYQLR161YmTZrEkiVLbOA9E3QyPItJVVPdN68AwlU1BWgC3AdclA/ZjCmwVJWVK1dSo0YN1q1bZ8XBBCVfTnP9CtflRqsDU4GawCd+TWVMAaaqPP3009x3330kJiZSuHBhpyMZ4xe+FIhUVU0CegBvquoDQCX/xjKmYFJVhg8fzpw5c1i8eDERERFORzLGb3y65KiI3AbcBZwbo9g+MpmQdObMGc6cOcPixYu55BI7T8MEN1+/Sd0K13DfO0SkGjDdv7GMKVhSU1MZMWIEhw8fZty4cVYcTEjw5ZKjG4AHgTUich2wW1Vf8nsyYwqIlJQU/vnPf7Jo0SJKlCjhdBxj8k2WXUwi0hyYBvyB6zsQl4rIXaq6wt/hjCkIBg0axK5du5g3bx4XXWQn8JnQ4csxiLFAJ1XdBCAiNXEVjCh/BjPGaampqYSFhTFgwAAaNWpEsWLFnI5kTL7y5RhEkXPFAUBVfwWK+C+SMc47c+YMPXv2ZNasWbRo0cKKgwlJvrQg/ici7+FqNQD0wwbrM0EsMTGRXr16UaRIEbp06eJ0HGMc40sLYjCwHfg/4HFgB65vUxsTlEaNGkWJEiX49NNPKVLEGssmdInqBZeb/vtBkbpAdWCjqm7Nt1SZiIqK0rVr1wCQSXRjsu3kyZMcPXqUMmXKUKRIEQoV8qWBbUxgEJG1qpqtY8cZtiBE5Clcw2z0AxaIiLcryxkTFI4dO0bHjh2ZMGECxYsXt+JgDJkfg+gHRKrqSREpD8wBPsyfWMbknyNHjnDzzTdTv359RowY4XQcYwqMzP2R9LQAACAASURBVI5BnFHVkwCqmpDFvMYErP/973/cdNNNvPPOO4SF2cvcmHMya0Fc5XEtagGqe16bWlV7+DWZMX6WkJDAN998wz/+8Q9at27tdBxjCpzMCkTPdPfH+TOIMfnpzz//pG3btnTr1s3pKMYUWJldk3pRfgYxJr/8+eeftGzZkjvuuIPnnnvO6TjGFFh2qoYJOaVLl+a5557jjjvucDqKMQWaHZEzIWPnzp20a9cOVbXiYIwPfC4QIlLUn0GM8aetW7cSHR1N9+7dKV68uNNxjAkIWRYIEblBRNYDW93364nIf/yezJg8cubMGTp27Mizzz7L/fff73QcYwKGL8cg3ga64PpWNaq6TkRa+TWVMXkkISGB8uXLs3TpUipVskupG5MdvnQxhanq7+mmpfgjjDF5ad26dURGRvLrr79acTAmB3wpELtF5AZARSRcRB4Ctvg5lzG5smbNGjp06MC4ceOoWbOm03GMCUi+dDENwdXNVAX4C1jonmZMgfXmm28yceJEbrnlFqejGBOwsiwQqrof6JOTlYtIR+AtIByYpKqjM5ivF/A50EhV1+RkW8YArFy5ksqVKzNt2jRExOk4xgS0LAuEiLwPXHDlBVW9N4vlwoHxQDtgD/CTiMz2vHype76SwIPAj9nIbcwFFi9eTO/evfn888+pUqWK03GMCXi+HINYCCxy/6wAKgBnfFjuBmCbqu5Q1bPADMDbwDcvAq8CiT4lNsaL+fPn06dPH2bOnEnLli2djmNMUPCli+lTz/siMg1Y4MO6KwG7Pe7vAW5Mt67rgStU9VsRGe7DOo3xKiUlhS+//JKmTZs6HcWYoJGTsZiqAVf6MJ+3DuC0rioRCQPGAgOyXJHIvcC9gHUdmPN89dVX7Nixg0ceecTpKMYEHV++SX1YRA65f47gaj085cO69wBXeNyvDOz1uF8SqAPEikg80BiYLSIXXDNVVSeqapSqRpUvX96HTZtQ8NlnnzF48GDrUjLGTzJtQYjrNJB6wB/uSamqesEB6wz8BNQQkWru5fsAaSOkqepRoJzHtmKB4XYWk/HFwoULeeihh5g/fz6RkZFOxzEmKGXagnAXgy9VNcX942txQFWTgWHA98CvwGequlFERoqInZxucuz06dM0bdqUpUuXWnEwxo98OYtptYg0yMnKVXWOql6jqtVV9SX3tOdUdbaXeVta68Fk5b333qNjx45ERERw9dVXOx3HmKCWYReTiBRytwKaAYNEZDtwEtfBZ1XVHBUNY3LqP//5D2+88QaLFi2yL8EZkw8yOwaxGmgAdM+nLMZkaNeuXUyYMIElS5Zw5ZW+nERnjMmtzAqEAKjq9nzKYoxXS5cupUWLFqxbt45Chewqucbkl8zebeVFJMOTy1V1jB/yGJNGVRkxYgSfffYZP/30EyVKlHA6kjEhJbMCEQ6UwPsX3ozxK1Xlqaee4ttvvyU2NtaKgzEOyKxA7FPVkfmWxBgPycnJJCYmEhMTQ7ly5bJewBiT5zI7zdVaDibfpaamMmLECPbu3cvYsWOtOBjjoMwKRJt8S2EMruIwePBgFixYQJkyZZyOY0zIy7CLSVUP5WcQY+6//342b97MvHnzKFmypNNxjAl5ds6gcVxKSgphYWH079+funXrctFFFzkdyRiDb0NtGOM3SUlJ9OnTh48//pjGjRtbcTCmALEWhHHMmTNn6N27N6mpqdx2221OxzHGpGMtCOOY119/nfDwcGbOnEnRokWdjmOMScdaECbfnTp1igMHDjB8+HDCwsIoXLiw05GMMV5YC8LkqxMnTtC5c2fGjRtH0aJFrTgYU4BZgTD55tixY3Ts2JHq1avz8ssvOx3HGJMFKxAm32zcuJFGjRoxceJEwsPDnY5jjMmCHYMwfnfw4EE+/fRThgwZQpMmTZyOY4zxkbUgjF/t37+f1q1b8/vvvzsdxRiTTVYgjN8kJCTQqlUrunXrxujRo+0yocYEGOtiMn5TunRpnn32Wfr06eN0FGNMDlgLwuS5Xbt20apVK06fPm3FwZgAZgXC5KkdO3YQHR1Nt27dKF26tNNxjDG5YF1MJs8kJyfTuXNn/u///o8hQ4Y4HccYk0tWIEye+Ouvv6hQoQIxMTFceumlTscxxuQB62IyubZhwwauv/564uLirDgYE0SsQJhc+fnnn2nXrh1jx47l+uuvdzqOMSYPWReTyZV3332X8ePH06NHD6ejGGPymBUIkyOrVq2ibNmyTJw40ekoxhg/sS4mk21Lly7llltuIT4+3ukoxhg/sgJhsmXx4sX06tWL6dOn065dO6fjGGP8yLqYTLaEhYUxc+ZMWrRo4XQUY4yfWYEwPvnmm29Yt24dzzzzjNNRjDH5xLqYTJZmzZrFwIED6dChg9NRjDH5yFoQJlPLli1j6NChzJs3z77nYEyIsQJhMnTy5EkaN27M8uXLufrqq52OY4zJZ9bFZLz64IMPaN26NYUKFbLiYEyIshaEucC7777Lyy+/zMKFC+0qcMaEMCsQ5jx//vkn48ePJyYmhurVqzsdxxjjIOtiMmliYmKoWLEi69ats+JgjLECYVxGjRrF4MGDOXr0KOHh4U7HMcYUANbFFOJUleeff54vvviCJUuWUKZMGacjGWMKCCsQIS41NZWzZ88SExNDhQoVnI5jjClArIspRKkqI0aMYMeOHYwePdqKgzHmAlYgQlBqairDhg1j7ty5lC9f3uk4xpgCyrqYQtAjjzxCXFwcCxYsoFSpUk7HMcYUUNaCCCEpKSmoKnfddRfff/+9FQdjTKasQISI5ORk7rrrLiZOnEjDhg0pUaKE05GMMQWcdTGFgLNnz3LHHXdw8uRJ7r77bqfjGGMChBWIEDB+/HiSkpL46quvKFq0qNNxjDEBQlTV6QzZEhUVpWvXrgEgwKLnu9OnT7N3716qVKmCqlKkSBGnIxljHCIia1U1KjvL2DGIIHXy5Em6du3Km2++SeHCha04GGOyzQpEEDp+/DidOnWiUqVKvPnmm07HMcYEKCsQQWjbtm3Ur1+fyZMn28B7xpgcswIRRA4fPsyYMWOoX78+b731FmFh9uc1xuSc/QcJEgcOHKBNmzbs2bPH6SjGmCDh1wIhIh1FZLOIbBORJ7w8/oiIbBKRX0RkkYhc6c88werQoUO0bt2aDh068MYbb9hlQo0xecJv34MQkXBgPNAO2AP8JCKzVXWTx2w/A1GqekpEhgCvAr39lSkYqSqlSpXi2WefpVevXlYcjDF5xp8tiBuAbaq6Q1XPAjOAbp4zqGqMqp5y310FVPZjnqCzZ88eWrRowdGjR7ntttusOBhj8pQ/C0QlYLfH/T3uaRn5JzDX2wMicq+IrBGRNQkJCXkYMXD9/vvvREdH0717d8qWLet0HGNMEPJngfD2cdbrd59F5E4gCnjN2+OqOlFVo1Q1yq5f4Lqewy233MJDDz3Eo48+6nQcY0yQ8udYTHuAKzzuVwb2pp9JRNoCTwPRqnrGj3mCwr59+7j00ktZuHChXezHGONX/mxB/ATUEJFqIlIE6APM9pxBRK4H3gNuUdX9fswSFDZt2kRUVBSrVq2y4mCM8Tu/FQhVTQaGAd8DvwKfqepGERkpIre4Z3sNKAF8LiJxIjI7g9WFvF9++YW2bdvyyiuv0KRJE6fjGGNCgI3mGiAeeughmjRpQu/edhawMSb7cjKaq10PooBbvXo1xYsXt0H3jDH5zobaKMBWrFhBly5d2LVrl9NRjDEhyApEAbVkyRK6d+/OtGnT6NSpk9NxjDEhyLqYCqhixYrx6aef0rp1a6ejGGNClBWIAmbu3LksW7aMf//7305HMcaEOOtiKkBmz55N//796dq1q9NRjDHGWhAFxY8//sigQYP47rvvaNSokdNxjDHGCkRBcPz4caKioli5ciXVq1d3Oo4xxgDWxeS4KVOm0Lx5c0TEioMxpkCxFoSDJk2axIgRI1i4cKFdP9oYU+BYgXDIwYMH+c9//kNMTAw1atRwOo4xxlzAPrY6YMGCBVx88cX8/PPPVhyMMQWWFYh89sorrzBkyBAOHTpk3UrGmALNupjy0YsvvsjHH3/MkiVLKFeunNNxjDEmU1Yg8omqkpycTGxsLJdeeqnTcYwxJkvWx+FnqsoLL7zAxo0beeGFF6w4GGMChhUIP1JVHn74YWbPns1ll13mdBxjjMkW62LyoyeffJJVq1axaNEiypQp43QcY4zJFmtB+EFKSgqpqan069eP+fPnW3EwxgQka0HkseTkZO655x4aNGjAww8/7HQcY4zJMSsQeSgpKYm77rqLQ4cOcd999zkdxxhjcsUKRB764IMPOH78OLNnzyYiIsLpOEEhKSmJPXv2kJiY6HQUYwJCREQElStXpnDhwrlel6hqHkTKP1FRUbp27RoACkr0xMRE4uPjqVGjBikpKRQpUsTpSEFj586dlCxZkrJlyyIiTscxpkBTVQ4ePMjx48epVq3aeY+JyFpVjcrO+uwgdS6dPn2abt26MWbMGMLDw6045LHExEQrDsb4SEQoW7ZsnrW4rUDkwsmTJ+nSpQvlypXjnXfecTpO0LLiYIzv8vL9YgUiF37//Xfq1KnD1KlTKVTIDucEqz179tCtWzdq1KhB9erV+de//sXZs2e9zrt371569eqV5To7derEkSNHcpRnxIgRvP76616nV6pUifr161OjRg169OjBpk2bslzfRx99xN69e3OUxQQ3KxA5cPToUUaPHs11113HW2+9RXh4uNORjJ+oKj169KB79+5s3bqVLVu2cOLECZ5++ukL5k1OTubyyy9n5syZWa53zpw5fvl+zMMPP0xcXBxbt26ld+/etG7dmoSEhEyXsQJhMmIFIpsOHTpE27Zt2bt3r3V9hIDFixcTERHBPffcA0B4eDhjx47lww8/5NSpU3z00UfcdtttdO3alfbt2xMfH0+dOnUAOHXqFLfffjuRkZH07t2bG2+8kTVrXCdYVK1alQMHDhAfH0/NmjUZNGgQtWvXpn379pw+fRqA999/n0aNGlGvXj169uzJqVOnspW9d+/etG/fnk8++QSAkSNH0qhRI+rUqcO9996LqjJz5kzWrFlDv379qF+/PqdPn/Y6nwlNViCy4ejRo7Rp04bo6GjeeustKxD5TcQ/P5nYuHEjDRs2PG9aqVKlqFKlCtu2bQPghx9+YMqUKSxevPi8+d555x0uvvhifvnlF5599lnWrl3rdRtbt27l/vvvZ+PGjZQpU4YvvvgCgB49evDTTz+xbt06atasyQcffJDtXdagQQN+++03AIYNG8ZPP/3Ehg0bOH36NN9++y29evUiKiqKjz/+mLi4OIoVK+Z1PhOarED4SFUpWbIkzz77LK+99poVhxChql7/1p7T27VrxyWXXHLBPMuXL6dPnz4A1KlTh8jISK/bqFatGvXr1wegYcOGxMfHA7BhwwaaN29O3bp1+fjjj9m4cWOO8p8TExPDjTfeSN26dVm8eHGG6/N1PhP8rED4YO/evTRr1oz9+/fTo0cPKw5OUfXPTyZq166d1i10zrFjx9i9ezfVq1cH4KKLLsogrm9dM0WLFk27HR4eTnJyMgADBgxg3LhxrF+/nueffz5Hpy7+/PPP1KxZk8TERIYOHcrMmTNZv349gwYN8ro+X+czocEKRBZ2795NdHQ0Xbp0sWs5hKA2bdpw6tQppk6dCrgGYnz00UcZMGAAxYsXz3TZZs2a8dlnnwGwadMm1q9fn61tHz9+nMsuu4ykpCQ+/vjjbGf/4osvmD9/Pn379k37J1+uXDlOnDhx3oH0kiVLcvz4cYBM5zOhx87NzISq0qtXL4YMGcIjjzzidBzjABHhyy+/ZOjQobz44oukpqbSqVMn/v3vf2e57NChQ+nfvz+RkZFcf/31REZGUrp0aZ+3/eKLL3LjjTdy5ZVXUrdu3bR/4pkZO3Ys//3vfzl58iR16tRh8eLFlC9fHoBBgwZRt25dqlatSqNGjdKWGTBgAIMHD6ZYsWL88MMPGc5nQo8NtZGBvXv3UrFiRY4cOULZsmX9tyGTqV9//ZWaNWs6HSNHUlJSSEpKIiIigu3bt9OmTRu2bNli37Y3fuftfZOToTasBeHFb7/9Rrt27Zg2bRotW7Z0Oo4JUKdOnaJVq1YkJSWhqrz77rtWHExAsQKRzoYNG2jfvj3//ve/rTiYXClZsuQFB7iNCSRWINL55JNPeO211+jXr5/TUYwxxlFWINzWrl1LamqqTwcfjTEmFNhprsCqVau4+eabbTwaY4zxEPItiBUrVnDrrbcyefJkOnfu7HQcY4wpMEK+BVGyZEk+/vhjKw4mQ+Hh4dSvX5/atWtTr149xowZQ2pqaqbLxMfHpw2Sl5fODRN+5MiR865BEhsbS5cuXbJc/twX/Dy/U/Gvf/0LEeHAgQMA3HTTTVmuZ+DAgT4NJe4P1apVY/PmzedNe+ihh3j11VczXMZzEEV/6tatG02aNMl0nhIlSnidPmDAgGx9MTE/nlPIFogFCxbw0EMPERkZSbt27ZyOYwqwYsWKERcXx8aNG1mwYAFz5szhhRdeyHQZfxWIc8OEpy8Q2XH11Vfz9ddfA5CamkpMTAyVKlVKe3zlypVZrmPSpEnUqlUrR9vPrT59+jBjxoy0+6mpqcycOZPevXs7kuecI0eO8L///Y8jR46wc+dOR7PklZAsEHPmzKFfv34+XdjFGE8VKlRg4sSJjBs3DlUlPj6e5s2b06BBAxo0aJD2z/WJJ55g2bJl1K9fn7Fjx2Y4n6dXX32Vt99+G3Bd16F169YALFq0iDvvvBP4e5jwJ554gu3bt1O/fn0ee+wxAE6cOEGvXr247rrr6NevX4ZjQfXt25dPP/0UcLU8mjZtet4Fr859wo2NjaVly5Ze19myZcu0U3hLlCjB448/TsOGDWnbti2rV6+mZcuWXHXVVcyePRtwXXNi2LBhadvo0qULsbGxPi+fPr9ngVi6dClVq1blyiuv9Gk/Z5Zl/vz5NGnShAYNGnDbbbdx4sQJwPX3rFWrFpGRkQwfPtzrfv3iiy/o2rXrBQVs586dNGnShEaNGvHss8+mTVdVhg0bRq1atejcuTP79+9Pe2zt2rVER0fTsGFDOnTowL59+9Km16tXjyZNmjB+/HivOfKUqgbUT8OGDdNGWcuJuLg4rVChgq5atSpnKzD5atOmTWm3/TVaX1YuuuiiC6aVKVNG//zzTz158qSePn1aVVW3bNmiDRs2VFXVmJgY7dy5c9r8Gc3n6YcfftBevXqpqmqzZs20UaNGevbsWR0xYoROmDBBVVWvvPJKTUhI0J07d2rt2rXTlo2JidFSpUrp7t27NSUlRRs3bqzLli27YBv9+/fXzz//XG+88UY9dOiQDhw4UGNjY9PW6/l8M1tndHS0/vTTT+6/CzpnzhxVVe3evbu2a9dOz549q3FxcVqvXj1VVZ08ebLef//9aTk6d+6sMTExPi+fXq1atTQuLk5VVe+77z4dN25cpvvZc39llCUhIUGbN2+uJ06cUFXV0aNH6wsvvKAHDx7Ua665RlNTU1VV9fDhw14ztWnTRpcuXaqbN2/WunXrpk3v2rWrTpkyRVVVx40bl7Z/v/jiC23btq0mJyfrH3/8oaVLl9bPP/9cz549q02aNNH9+/erquqMGTP0nnvuUVXVunXramxsrKqqDh8+/LzXgCfP9805wBrN5v/bkDpIffToUerWrcuqVauoVq2a03FMAFP3J+mkpCSGDRtGXFwc4eHhbNmyxev8vszXsGFD1q5dy/HjxylatCgNGjRgzZo1LFu2LK1lkZkbbriBypUrA1C/fn3i4+Np1qyZ13l79OjBjBkz+PHHH3nvvfdytc4iRYrQsWNHAOrWrUvRokUpXLgwdevWTRu6PDM5Wf5cK6J27dp8/fXXjBw5EvD97+HNqlWr2LRpE02bNgXg7NmzNGnShFKlShEREcHAgQPp3Lmz12M9f/31F9u2baNZs2aICIUKFWLDhg3UqVOHFStWpF3j46677uLxxx8HXC2fvn37Eh4ezuWXX57WYty8eTMbNmxI6/pOSUnhsssu4+jRoxw5coTo6Oi0dc2dO9fn55cTIVMgPvnkE1588UXWr19vxSFAFZRhw3bs2EF4eDgVKlTghRdeoGLFiqxbt47U1FQiIiK8LjN27Ngs5ytcuDBVq1Zl8uTJ3HTTTURGRhITE8P27dt9Go8qo2HDvenTpw8NGjSgf//+hIVl3NPsyzoLFy6cNgR+WFhY2jJhYWFp8xcqVOi8A/ueQ4j7snx6ffv2pX379kRHRxMZGUmFChUA3/ZzRllUlXbt2jF9+vQLllm9ejWLFi1ixowZjBs37oKLQ3366accPnw47X/LsWPHmDFjBqNGjQLI8BIBGV1rpHbt2vzwww/nTT9y5Ei+X2ogJI5BTJkyhccee4yZM2ee19dqTHYlJCQwePBghg0bhohw9OhRLrvsMsLCwpg2bRopKSnA+UNoAxnOl16LFi14/fXXadGiBc2bN2fChAnUr1//gn8M6defXVWqVOGll15i6NChOV5HdlStWpW4uDhSU1PZvXs3q1evztX6qlevTtmyZXniiSfo27dv2nRf9nNGWRo3bsyKFSvSrhR46tSptGuQHz16lE6dOvHmm28SFxd3wTqnT5/OvHnziI+PJz4+nrVr16Ydh2jatGnabc9h21u0aMGMGTNISUlh3759xMTEAHDttdeSkJCQViCSkpLSrjZYunRpli9ffsG6/CXoC8SxY8d4++23Wbx4MbVr13Y6jglAp0+fTjvNtW3btrRv357nn38ecA3pPWXKFBo3bsyWLVvSLh4UGRlJoUKFqFevHmPHjs1wvvSaN2/Ovn37aNKkCRUrViQiIoLmzZtfMF/ZsmVp2rQpderUSTtInV333Xdf2kWP/K1p06ZUq1aNunXrMnz4cBo0aJDrdfbt25fffvuNW2+9NW2aL/s5oyzly5fno48+om/fvkRGRtK4cWN+++03jh8/TpcuXYiMjCQ6OpqxY8eet774+Hh27dpF48aN06ZVq1aNUqVK8eOPP/LWW28xfvx4GjVqxNGjR9PmufXWW6lRowZ169ZlyJAhaV1HRYoUYebMmTz++OPUq1eP+vXrpx1snzx5Mvfffz9NmjShWLFiud6HWQnq4b6///572rZtS1hYmF0FLkAF8nDfxjglr4b7DtoWxJgxYxgyZAgJCQlWHIwxJgeCskN+9OjRfPDBByxZssQuE2qMMTkUdAVCVUlNTSU2Nva8b4caY4zJnqApEKrKiy++SKdOnXjqqaecjmPykKpaN6ExPsrL48pBcQxCVXnssceYNWsWV155pdNxTB6KiIjg4MGDefqiNyZYqSoHDx7M8Ps42RUULYjnn3+e2NhYFi9ezCWXXOJ0HJOHKleuzJ49e0hISHA6ijEBISIiIu3b77nl19NcRaQj8BYQDkxS1dHpHi8KTAUaAgeB3qoan9k6PU9zTUlJJTU1le3bt1OxYkXKlCnjh2dhjDGBr0Cd5ioi4cB44GagFtBXRNKPD/xP4LCqXg2MBV7xfQspDBw4kFdffZVrr73WioMxxuQxfx6DuAHYpqo7VPUsMAPolm6ebsAU9+2ZQBvx6WhkMtCf+Ph4/vWvf+VdYmOMMWn8WSAqAbs97u9xT/M6j6omA0eBslmv+hMggW+//TbDIQuMMcbkjj8PUntrCaQ/4OHLPIjIvcC97rsnoP9moNxFF110IHcRg0I5wPaD7QdPti9cbD+4nNsP2T7F058FYg9whcf9ysDeDObZIyKFgNLAofQrUtWJwETPaSKyJrsHXIKR7QcX2w9/s33hYvvBJTf7wZ9dTD8BNUSkmogUAfoA6a8fOBvo777dC1isdsK7McYUCH5rQahqsogMA77HdZrrh6q6UURG4rr03WzgA2CaiGzD1XLo4688xhhjssevX5RT1TnAnHTTnvO4nQjclsPVT8x6lpBg+8HF9sPfbF+42H5wyfF+CLjrQRhjjMkfQTEWkzHGmLxXoAuEiHQUkc0isk1EnvDyeFER+dT9+I8iUjX/U+YPH/bFIyKySUR+EZFFIhKUoxZmtR885uslIioiQXkWiy/7QURud78mNorIJ/mdMb/48N6oIiIxIvKz+/3RyYmc/iQiH4rIfhHZkMHjIiJvu/fRLyLi2zVfVbVA/uA6sL0duAooAqwDaqWbZygwwX27D/Cp07kd3BetgOLu20OCcV/4sh/c85UElgKrgCinczv0eqgB/Axc7L5fwencDu6LicAQ9+1aQLzTuf2wH1oADYANGTzeCZiL67tnjYEffVlvQW5B+HGojoCT5b5Q1RhVPeW+uwrX906CjS+vCYAXgVeBxPwMl4982Q+DgPGqehhAVffnc8b84su+UKCU+3ZpLvw+VsBT1aV4+Q6Zh27AVHVZBZQRkcuyWm9BLhB+HKoj4PiyLzz9E9enhWCT5X4QkeuBK1T12/wMls98eT1cA1wjIitEZJV7ZOVg5Mu+GAHcKSJ7cJ1V+UD+RCtQsvs/BCjY14PIs6E6goDPz1NE7gSigGi/JnJGpvtBRMJwjQo8IL8COcSX10MhXN1MLXG1JpeJSB1VPeLnbPnNl33RF/hIVd8QkSa4vntVR1VT/R+vwMjR/8qC3ILIzlAdZDZURxDwZV8gIm2Bp4FbVPVMPmXLT1nth5JAHSBWROJx9bXODsID1b6+N75W1SRV3QlsxlUwgo0v++KfwGcAqvoDEIFrfKJQ4tP/kPQKcoGwoTr+luW+cHetvIerOARrf3Om+0FVj6pqOVWtqqpVcR2LuUVV1zgT1298eW98hevEBUSkHK4upx35mjJ/+LIvdgFtAESkJq4CEWqXKJwN3O0+m6kxcFRV92W1UIHtYlIbqiONj/viNaAE8Ln7OP0uVb3FsdB+4ON+/KqDGgAABGFJREFUCHo+7ofvgfYisglIAR5T1YPOpfYPH/fFo8D7IvIwrm6VAcH2QVJEpuPqTiznPtbyPFAYQFUn4Dr20gnYBpwC7vFpvUG2n4wxxuSRgtzFZIwxxkFWIIwxxnhlBcIYY4xXViCMMcZ4ZQXCGGOMV1YgTIEjIikiEufxUzWTeatmNIJlNrcZ6x4RdJ17eIprc7COwSJyt/v2ABG53OOxSSJSK49z/iQi9X1Y5iERKZ7bbZvQYwXCFESnVbW+x098Pm23n6rWwzUA5GvZXVhVJ6jqVPfdAcDlHo8NVNVNeZLy75zv4FvOhwArECbbrECYgOBuKSwTkf+5f27yMk9tEVntbnX8IiI13NPv9Jj+noiEZ7G5pcDV7mXbuK8jsN495n5R9/TR8vf1N153TxshIsNFpBeu8bA+dm+zmPuTf5SIDBGRVz0yDxCR/+Qw5w94DLgmIu+KyBpxXf/hBfe0B3EVqhgRiXFPay8iP7j34+ciUiKL7ZgQZQXCFETFPLqXvnRP2w+0U9UGQG/gbS/LDQbeUtX6uP5B73EPrdAbaOqengL0y2L7XYH1IhIBfAT0VtW6uEYeGCIilwC3ArVVNRIY5bmwqs4E1uD6pF9fVU97PDwT6OFxvzfwaQ5zdsQ1pMY5T6tqFBAJRItIpKr+f3v371JVHMZx/P0ZCipIaCiCoB8EtTVEITRZLdESEVaEtERLLYVL1B/Q0hIWEhE6VEhgEP2gJMJBsh9DWYkkWFuEg0SIQdTT8Hwv2PWE926Jn9fmuddzvveA5/E85/J5LpOZO20R0VZiNy4Ae8u5fA2cnec4tkj9t1EbtqjNlIvkbEuArtJz/0VmC9V7DpyXtA7oj4hxSXuA7cCrEkGyjCw2VW5KmgE+k5HQW4BPEfGxvN4LnAK6yFkT1yU9ABqOFo+ISUkTJQ9nvBxjqOy3mXWuIKMlZk8Ga5d0kvy7XksOxxmp+93Wsn2oHGcped7M5nCBsIXiDPAV2Ebe+c4ZBhQRtyS9APYDjyWdIGOOeyPiXAPHODY72E9S5WyRkv+zkwyAOwKcBnY38Vn6gHZgDLgbEaG8Wje8TnJy2kXgCnBQ0kagE9gREVOSeshQunoCBiLiaBPrtUXKLSZbKFqALyXDv4P87/kvkjYBE6Wtco9stTwFDklaXd6zSo3P6x4DNkjaXH7uAAZLz74lIh6SD4Crvkn0nYwfr9IPHCDnFPSVbU2tMyJ+kq2i1tKeWglMA98krQH2/WMtw8Cu2meStFxS1d2YmQuELRhXgeOShsn20nTFew4D7yW9AbaSIxZHyQvpE0kjwADZfplXRPwgUy/vSHoH/Aa6yYvt/bK/QfLupl4P0F17SF233ylgFFgfES/LtqbXWZ5tXAI6I+ItOYP6A3CDbFvVXAMeSXoWEZPkN6xul+MMk+fKbA6nuZqZWSXfQZiZWSUXCDMzq+QCYWZmlVwgzMyskguEmZlVcoEwM7NKLhBmZlbJBcLMzCr9AajKonQ5bLaLAAAAAElFTkSuQmCC\n",
      "text/plain": [
       "<Figure size 432x432 with 1 Axes>"
      ]
     },
     "metadata": {
      "needs_background": "light"
     },
     "output_type": "display_data"
    }
   ],
   "source": [
    "plt.figure(figsize=(6,6))\n",
    "plt.plot(fpr, tpr, color='red', lw=2, label='Original Data')\n",
    "plt.plot(fpr_min, tpr_min, color='blue', lw=2, label='Data with Minimum Values Added')\n",
    "plt.plot([0, 1], [0, 1], color='black', lw=1, linestyle='--')\n",
    "\n",
    "plt.xlim([-0.005, 1.005])\n",
    "plt.ylim([0.0, 1.01])\n",
    "\n",
    "plt.xlabel('False Positive Rate')\n",
    "plt.ylabel('True Positive Rate')\n",
    "plt.title('Receiver operating characteristic')\n",
    "plt.legend(loc=\"lower right\")\n",
    "\n",
    "plt.show()"
   ]
  },
  {
   "cell_type": "code",
   "execution_count": null,
   "metadata": {},
   "outputs": [],
   "source": []
  }
 ],
 "metadata": {
  "colab": {
   "collapsed_sections": [],
   "name": "katakana_nn.ipynb",
   "provenance": []
  },
  "kernelspec": {
   "display_name": "Python 3",
   "language": "python",
   "name": "python3"
  },
  "language_info": {
   "codemirror_mode": {
    "name": "ipython",
    "version": 3
   },
   "file_extension": ".py",
   "mimetype": "text/x-python",
   "name": "python",
   "nbconvert_exporter": "python",
   "pygments_lexer": "ipython3",
   "version": "3.7.3"
  }
 },
 "nbformat": 4,
 "nbformat_minor": 1
}
