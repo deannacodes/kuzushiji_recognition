{
 "cells": [
  {
   "cell_type": "code",
   "execution_count": 1,
   "metadata": {},
   "outputs": [
    {
     "name": "stderr",
     "output_type": "stream",
     "text": [
      "Using TensorFlow backend.\n"
     ]
    }
   ],
   "source": [
    "from __future__ import absolute_import, division, print_function, unicode_literals\n",
    "from keras.models import Sequential\n",
    "from keras.layers import Dense, Dropout, Activation, Flatten\n",
    "from keras.utils import np_utils\n",
    "import functools\n",
    "import tensorflow as tf\n",
    "import numpy as np\n",
    "import pandas as pd\n",
    "from datetime import datetime\n",
    "import math"
   ]
  },
  {
   "cell_type": "code",
   "execution_count": 2,
   "metadata": {
    "scrolled": true
   },
   "outputs": [
    {
     "name": "stderr",
     "output_type": "stream",
     "text": [
      "b'Skipping line 2243: expected 901 fields, saw 1601\\n'\n",
      "C:\\Users\\Deanna\\Anaconda3\\lib\\site-packages\\IPython\\core\\interactiveshell.py:3057: DtypeWarning: Columns (503,752) have mixed types. Specify dtype option on import or set low_memory=False.\n",
      "  interactivity=interactivity, compiler=compiler, result=result)\n"
     ]
    },
    {
     "name": "stdout",
     "output_type": "stream",
     "text": [
      "(430992, 901)\n"
     ]
    }
   ],
   "source": [
    "df_hiragana = pd.read_csv(\"all_hiragana.csv\",error_bad_lines=False)\n",
    "print(df_hiragana.shape)"
   ]
  },
  {
   "cell_type": "code",
   "execution_count": 3,
   "metadata": {},
   "outputs": [],
   "source": [
    "df_unicode_to_char = pd.read_csv(\"https://raw.githubusercontent.com/deannacodes/kuzushiji_recognition/master/unicode_translation.csv\",error_bad_lines=False)\n",
    "df_unicode_to_char = df_unicode_to_char.set_index('Unicode').T.to_dict('list')"
   ]
  },
  {
   "cell_type": "code",
   "execution_count": 4,
   "metadata": {},
   "outputs": [],
   "source": [
    "X = df_hiragana.drop(columns=[\"character\"])\n",
    "y = df_hiragana[\"character\"]"
   ]
  },
  {
   "cell_type": "code",
   "execution_count": 5,
   "metadata": {},
   "outputs": [],
   "source": [
    "import math\n",
    "\n",
    "df_hiragana_only = pd.read_csv(\"hiragana.csv\")\n",
    "unicode_to_int = {}\n",
    "unicode_to_char = {}\n",
    "count = 0\n",
    "for unicode in df_hiragana_only[\"unicode\"]:\n",
    "    unicode_to_int[unicode] = count\n",
    "    if unicode in df_unicode_to_char:\n",
    "        unicode_to_char[count] = df_unicode_to_char[unicode][0]\n",
    "    count += 1\n",
    "    \n",
    "y = y.map(unicode_to_int)  \n",
    "\n",
    "# Some values in the dataframe were showing as nan, so we have to get rid of them manually.\n",
    "drops = []\n",
    "for i in range(0,len(y)):\n",
    "    if math.isnan(y[i]):\n",
    "        drops.append(i)\n",
    "\n",
    "y = y.drop(drops)\n",
    "X = X.drop(drops)\n",
    "df_hiragana = df_hiragana.drop(drops)\n",
    "\n",
    "y = list(y)\n",
    "X = X.to_numpy().astype('int')"
   ]
  },
  {
   "cell_type": "code",
   "execution_count": 6,
   "metadata": {},
   "outputs": [
    {
     "name": "stdout",
     "output_type": "stream",
     "text": [
      "{0: '〱', 1: '〲', 2: 'あ', 3: 'い', 4: 'う', 5: 'え', 6: 'お', 7: 'か', 8: 'が', 9: 'き', 10: 'ぎ', 11: 'く', 12: 'ぐ', 13: 'け', 14: 'げ', 15: 'こ', 16: 'ご', 17: 'さ', 18: 'ざ', 19: 'し', 20: 'じ', 21: 'す', 22: 'ず', 23: 'せ', 24: 'ぜ', 25: 'そ', 26: 'ぞ', 27: 'た', 28: 'だ', 29: 'ち', 30: 'ぢ', 31: 'っ', 32: 'つ', 33: 'づ', 34: 'て', 35: 'で', 36: 'と', 37: 'ど', 38: 'な', 39: 'に', 40: 'ぬ', 41: 'ね', 42: 'の', 43: 'は', 44: 'ば', 45: 'ぱ', 46: 'ひ', 47: 'び', 48: 'ぴ', 49: 'ふ', 50: 'ぶ', 51: 'ぷ', 52: 'へ', 53: 'べ', 54: 'ぺ', 55: 'ほ', 56: 'ぼ', 57: 'ぽ', 58: 'ま', 59: 'み', 60: 'む', 61: 'め', 62: 'も', 63: 'ゃ', 64: 'や', 65: 'ゅ', 66: 'ゆ', 67: 'ょ', 68: 'よ', 69: 'ら', 70: 'り', 71: 'る', 72: 'れ', 73: 'ろ', 74: 'わ', 75: 'ゐ', 76: 'ゑ', 77: 'を', 78: 'ん', 79: 'ゝ', 80: 'ゞ', 81: 'ゟ'}\n"
     ]
    }
   ],
   "source": [
    "print(unicode_to_char)"
   ]
  },
  {
   "cell_type": "code",
   "execution_count": 7,
   "metadata": {},
   "outputs": [
    {
     "name": "stdout",
     "output_type": "stream",
     "text": [
      "predicted:  は\n"
     ]
    },
    {
     "data": {
      "image/png": "[encoded data removed]",
      "text/plain": [
       "<Figure size 72x72 with 1 Axes>"
      ]
     },
     "metadata": {
      "needs_background": "light"
     },
     "output_type": "display_data"
    },
    {
     "name": "stdout",
     "output_type": "stream",
     "text": [
      "predicted:  が\n"
     ]
    },
    {
     "data": {
      "image/png": "[encoded data removed]",
      "text/plain": [
       "<Figure size 72x72 with 1 Axes>"
      ]
     },
     "metadata": {
      "needs_background": "light"
     },
     "output_type": "display_data"
    },
    {
     "name": "stdout",
     "output_type": "stream",
     "text": [
      "predicted:  い\n"
     ]
    },
    {
     "data": {
      "image/png": "[encoded data removed]",
      "text/plain": [
       "<Figure size 72x72 with 1 Axes>"
      ]
     },
     "metadata": {
      "needs_background": "light"
     },
     "output_type": "display_data"
    },
    {
     "name": "stdout",
     "output_type": "stream",
     "text": [
      "predicted:  け\n"
     ]
    },
    {
     "data": {
      "image/png": "[encoded data removed]",
      "text/plain": [
       "<Figure size 72x72 with 1 Axes>"
      ]
     },
     "metadata": {
      "needs_background": "light"
     },
     "output_type": "display_data"
    },
    {
     "name": "stdout",
     "output_type": "stream",
     "text": [
      "predicted:  に\n"
     ]
    },
    {
     "data": {
      "image/png": "[encoded data removed]",
      "text/plain": [
       "<Figure size 72x72 with 1 Axes>"
      ]
     },
     "metadata": {
      "needs_background": "light"
     },
     "output_type": "display_data"
    },
    {
     "name": "stdout",
     "output_type": "stream",
     "text": [
      "predicted:  に\n"
     ]
    },
    {
     "data": {
      "image/png": "[encoded data removed]",
      "text/plain": [
       "<Figure size 72x72 with 1 Axes>"
      ]
     },
     "metadata": {
      "needs_background": "light"
     },
     "output_type": "display_data"
    },
    {
     "name": "stdout",
     "output_type": "stream",
     "text": [
      "predicted:  の\n"
     ]
    },
    {
     "data": {
      "image/png": "[encoded data removed]",
      "text/plain": [
       "<Figure size 72x72 with 1 Axes>"
      ]
     },
     "metadata": {
      "needs_background": "light"
     },
     "output_type": "display_data"
    },
    {
     "name": "stdout",
     "output_type": "stream",
     "text": [
      "predicted:  こ\n"
     ]
    },
    {
     "data": {
      "image/png": "[encoded data removed]",
      "text/plain": [
       "<Figure size 72x72 with 1 Axes>"
      ]
     },
     "metadata": {
      "needs_background": "light"
     },
     "output_type": "display_data"
    },
    {
     "name": "stdout",
     "output_type": "stream",
     "text": [
      "predicted:  の\n"
     ]
    },
    {
     "data": {
      "image/png": "[encoded data removed]",
      "text/plain": [
       "<Figure size 72x72 with 1 Axes>"
      ]
     },
     "metadata": {
      "needs_background": "light"
     },
     "output_type": "display_data"
    },
    {
     "name": "stdout",
     "output_type": "stream",
     "text": [
      "predicted:  や\n"
     ]
    },
    {
     "data": {
      "image/png": "[encoded data removed]",
      "text/plain": [
       "<Figure size 72x72 with 1 Axes>"
      ]
     },
     "metadata": {
      "needs_background": "light"
     },
     "output_type": "display_data"
    }
   ],
   "source": [
    "import matplotlib.image as mpimg\n",
    "import matplotlib.pyplot as plt\n",
    "\n",
    "%matplotlib inline\n",
    "\n",
    "for i in range(10):\n",
    "    image = X[i].reshape(30,30)\n",
    "    plt.figure(figsize=(1,1))\n",
    "    plt.imshow(image, cmap=plt.cm.gray, interpolation='nearest')\n",
    "    print(\"predicted: \", unicode_to_char[y[i]])\n",
    "    plt.show()\n"
   ]
  },
  {
   "cell_type": "code",
   "execution_count": 8,
   "metadata": {},
   "outputs": [],
   "source": [
    "from sklearn.model_selection import train_test_split\n",
    "\n",
    "X = X.astype('float32')\n",
    "X /= 255\n",
    "y = np_utils.to_categorical(y, 82)\n",
    "\n",
    "X_train, X_test, y_train, y_test = train_test_split(X, y, test_size=0.1, random_state=3)"
   ]
  },
  {
   "cell_type": "code",
   "execution_count": 9,
   "metadata": {},
   "outputs": [],
   "source": [
    "model = Sequential()\n",
    "input_size = 900\n",
    "hidden_neurons = 630\n",
    "out_size = len(unicode_to_int)\n",
    "\n",
    "model.add(Dense(hidden_neurons, input_dim = input_size))\n",
    "model.add(Activation('sigmoid')) \n",
    "model.add(Dense(out_size, input_dim = hidden_neurons))\n",
    "model.add(Activation('softmax'))"
   ]
  },
  {
   "cell_type": "code",
   "execution_count": 10,
   "metadata": {},
   "outputs": [
    {
     "name": "stdout",
     "output_type": "stream",
     "text": [
      "Train on 259886 samples, validate on 128005 samples\n",
      "Epoch 1/30\n",
      "259886/259886 [==============================] - 100s 384us/step - loss: 1.1065 - accuracy: 0.7235 - val_loss: 0.7413 - val_accuracy: 0.8082\n",
      "Epoch 2/30\n",
      "259886/259886 [==============================] - 103s 397us/step - loss: 0.6553 - accuracy: 0.8299 - val_loss: 0.6205 - val_accuracy: 0.8394\n",
      "Epoch 3/30\n",
      "259886/259886 [==============================] - 98s 379us/step - loss: 0.5679 - accuracy: 0.8509 - val_loss: 0.5822 - val_accuracy: 0.8468\n",
      "Epoch 4/30\n",
      "259886/259886 [==============================] - 104s 402us/step - loss: 0.5276 - accuracy: 0.8601 - val_loss: 0.5732 - val_accuracy: 0.8493\n",
      "Epoch 5/30\n",
      "259886/259886 [==============================] - 105s 403us/step - loss: 0.5000 - accuracy: 0.8660 - val_loss: 0.5527 - val_accuracy: 0.8549\n",
      "Epoch 6/30\n",
      "259886/259886 [==============================] - 98s 378us/step - loss: 0.4825 - accuracy: 0.8696 - val_loss: 0.5445 - val_accuracy: 0.8572\n",
      "Epoch 7/30\n",
      "259886/259886 [==============================] - 96s 369us/step - loss: 0.4717 - accuracy: 0.8721 - val_loss: 0.5389 - val_accuracy: 0.8585\n",
      "Epoch 8/30\n",
      "259886/259886 [==============================] - 96s 368us/step - loss: 0.4621 - accuracy: 0.8747 - val_loss: 0.5710 - val_accuracy: 0.8502\n",
      "Epoch 9/30\n",
      "259886/259886 [==============================] - 96s 371us/step - loss: 0.4519 - accuracy: 0.8765 - val_loss: 0.5581 - val_accuracy: 0.8549\n",
      "Epoch 10/30\n",
      "259886/259886 [==============================] - 96s 368us/step - loss: 0.4438 - accuracy: 0.8786 - val_loss: 0.5548 - val_accuracy: 0.8571\n",
      "Epoch 11/30\n",
      "259886/259886 [==============================] - 96s 370us/step - loss: 0.4349 - accuracy: 0.8810 - val_loss: 0.5460 - val_accuracy: 0.8584\n",
      "Epoch 12/30\n",
      "259886/259886 [==============================] - 96s 368us/step - loss: 0.4266 - accuracy: 0.8832 - val_loss: 0.5415 - val_accuracy: 0.8623\n",
      "Epoch 13/30\n",
      "259886/259886 [==============================] - 96s 368us/step - loss: 0.4202 - accuracy: 0.8842 - val_loss: 0.5483 - val_accuracy: 0.8607\n",
      "Epoch 14/30\n",
      "259886/259886 [==============================] - 96s 369us/step - loss: 0.4110 - accuracy: 0.8867 - val_loss: 0.5348 - val_accuracy: 0.8640\n",
      "Epoch 15/30\n",
      "259886/259886 [==============================] - 96s 369us/step - loss: 0.4066 - accuracy: 0.8880 - val_loss: 0.5502 - val_accuracy: 0.8616\n",
      "Epoch 16/30\n",
      "259886/259886 [==============================] - 96s 369us/step - loss: 0.4029 - accuracy: 0.8882 - val_loss: 0.5535 - val_accuracy: 0.8611\n",
      "Epoch 17/30\n",
      "259886/259886 [==============================] - 96s 371us/step - loss: 0.3986 - accuracy: 0.8890 - val_loss: 0.5382 - val_accuracy: 0.8636\n",
      "Epoch 18/30\n",
      "259886/259886 [==============================] - 96s 368us/step - loss: 0.3942 - accuracy: 0.8900 - val_loss: 0.5366 - val_accuracy: 0.8656\n",
      "Epoch 19/30\n",
      "259886/259886 [==============================] - 96s 369us/step - loss: 0.3905 - accuracy: 0.8919 - val_loss: 0.5398 - val_accuracy: 0.8664\n",
      "Epoch 20/30\n",
      "259886/259886 [==============================] - 96s 369us/step - loss: 0.3829 - accuracy: 0.8938 - val_loss: 0.5445 - val_accuracy: 0.8650\n",
      "Epoch 21/30\n",
      "259886/259886 [==============================] - 96s 370us/step - loss: 0.3812 - accuracy: 0.8939 - val_loss: 0.5754 - val_accuracy: 0.8566\n",
      "Epoch 22/30\n",
      "259886/259886 [==============================] - 96s 370us/step - loss: 0.3756 - accuracy: 0.8951 - val_loss: 0.5658 - val_accuracy: 0.8610\n",
      "Epoch 23/30\n",
      "259886/259886 [==============================] - 96s 369us/step - loss: 0.3726 - accuracy: 0.8961 - val_loss: 0.5326 - val_accuracy: 0.8682\n",
      "Epoch 24/30\n",
      "259886/259886 [==============================] - 96s 369us/step - loss: 0.3650 - accuracy: 0.8981 - val_loss: 0.5569 - val_accuracy: 0.8644\n",
      "Epoch 25/30\n",
      "259886/259886 [==============================] - 96s 370us/step - loss: 0.3611 - accuracy: 0.8990 - val_loss: 0.5479 - val_accuracy: 0.8681\n",
      "Epoch 26/30\n",
      "259886/259886 [==============================] - 96s 369us/step - loss: 0.3564 - accuracy: 0.8998 - val_loss: 0.5512 - val_accuracy: 0.8652\n",
      "Epoch 27/30\n",
      "259886/259886 [==============================] - 96s 370us/step - loss: 0.3526 - accuracy: 0.9005 - val_loss: 0.5649 - val_accuracy: 0.8650\n",
      "Epoch 28/30\n",
      "259886/259886 [==============================] - 96s 369us/step - loss: 0.3500 - accuracy: 0.9014 - val_loss: 0.5597 - val_accuracy: 0.8648\n",
      "Epoch 29/30\n",
      "259886/259886 [==============================] - 96s 370us/step - loss: 0.3435 - accuracy: 0.9031 - val_loss: 0.5595 - val_accuracy: 0.8661\n",
      "Epoch 30/30\n",
      "259886/259886 [==============================] - 96s 371us/step - loss: 0.3390 - accuracy: 0.9041 - val_loss: 0.5598 - val_accuracy: 0.8666\n"
     ]
    }
   ],
   "source": [
    "model.compile(loss='categorical_crossentropy',\n",
    "              metrics=['accuracy'],\n",
    "              optimizer='adam')\n",
    "\n",
    "fitted_model = model.fit(X_train, y_train, validation_split=0.33, batch_size=32, epochs=30, verbose=1)"
   ]
  },
  {
   "cell_type": "code",
   "execution_count": 11,
   "metadata": {},
   "outputs": [
    {
     "name": "stdout",
     "output_type": "stream",
     "text": [
      "43099/43099 [==============================] - 3s 60us/step\n",
      "[0.5674677671803994, 0.8671430945396423]\n"
     ]
    }
   ],
   "source": [
    "y_predict = model.predict(X_test, verbose=0)\n",
    "score = model.evaluate(X_test, y_test, verbose=1)\n",
    "print(score)"
   ]
  },
  {
   "cell_type": "code",
   "execution_count": 12,
   "metadata": {},
   "outputs": [
    {
     "name": "stdout",
     "output_type": "stream",
     "text": [
      "(23, 62, 43)\n",
      "predicted:  も actual:  は\n"
     ]
    },
    {
     "data": {
      "image/png": "[encoded data removed]",
      "text/plain": [
       "<Figure size 72x72 with 1 Axes>"
      ]
     },
     "metadata": {
      "needs_background": "light"
     },
     "output_type": "display_data"
    },
    {
     "name": "stdout",
     "output_type": "stream",
     "text": [
      "(24, 20, 69)\n",
      "predicted:  じ actual:  ら\n"
     ]
    },
    {
     "data": {
      "image/png": "[encoded data removed]",
      "text/plain": [
       "<Figure size 72x72 with 1 Axes>"
      ]
     },
     "metadata": {
      "needs_background": "light"
     },
     "output_type": "display_data"
    },
    {
     "name": "stdout",
     "output_type": "stream",
     "text": [
      "(45, 68, 58)\n",
      "predicted:  よ actual:  ま\n"
     ]
    },
    {
     "data": {
      "image/png": "[encoded data removed]",
      "text/plain": [
       "<Figure size 72x72 with 1 Axes>"
      ]
     },
     "metadata": {
      "needs_background": "light"
     },
     "output_type": "display_data"
    },
    {
     "name": "stdout",
     "output_type": "stream",
     "text": [
      "(53, 43, 32)\n",
      "predicted:  は actual:  つ\n"
     ]
    },
    {
     "data": {
      "image/png": "[encoded data removed]",
      "text/plain": [
       "<Figure size 72x72 with 1 Axes>"
      ]
     },
     "metadata": {
      "needs_background": "light"
     },
     "output_type": "display_data"
    },
    {
     "name": "stdout",
     "output_type": "stream",
     "text": [
      "(59, 62, 36)\n",
      "predicted:  も actual:  と\n"
     ]
    },
    {
     "data": {
      "image/png": "[encoded data removed]",
      "text/plain": [
       "<Figure size 72x72 with 1 Axes>"
      ]
     },
     "metadata": {
      "needs_background": "light"
     },
     "output_type": "display_data"
    },
    {
     "name": "stdout",
     "output_type": "stream",
     "text": [
      "(65, 6, 37)\n",
      "predicted:  お actual:  ど\n"
     ]
    },
    {
     "data": {
      "image/png": "[encoded data removed]",
      "text/plain": [
       "<Figure size 72x72 with 1 Axes>"
      ]
     },
     "metadata": {
      "needs_background": "light"
     },
     "output_type": "display_data"
    },
    {
     "name": "stdout",
     "output_type": "stream",
     "text": [
      "(68, 16, 37)\n",
      "predicted:  ご actual:  ど\n"
     ]
    },
    {
     "data": {
      "image/png": "[encoded data removed]",
      "text/plain": [
       "<Figure size 72x72 with 1 Axes>"
      ]
     },
     "metadata": {
      "needs_background": "light"
     },
     "output_type": "display_data"
    },
    {
     "name": "stdout",
     "output_type": "stream",
     "text": [
      "(70, 12, 50)\n",
      "predicted:  ぐ actual:  ぶ\n"
     ]
    },
    {
     "data": {
      "image/png": "[encoded data removed]",
      "text/plain": [
       "<Figure size 72x72 with 1 Axes>"
      ]
     },
     "metadata": {
      "needs_background": "light"
     },
     "output_type": "display_data"
    },
    {
     "name": "stdout",
     "output_type": "stream",
     "text": [
      "(82, 9, 17)\n",
      "predicted:  き actual:  さ\n"
     ]
    },
    {
     "data": {
      "image/png": "[encoded data removed]",
      "text/plain": [
       "<Figure size 72x72 with 1 Axes>"
      ]
     },
     "metadata": {
      "needs_background": "light"
     },
     "output_type": "display_data"
    },
    {
     "name": "stdout",
     "output_type": "stream",
     "text": [
      "(88, 62, 7)\n",
      "predicted:  も actual:  か\n"
     ]
    },
    {
     "data": {
      "image/png": "[encoded data removed]",
      "text/plain": [
       "<Figure size 72x72 with 1 Axes>"
      ]
     },
     "metadata": {
      "needs_background": "light"
     },
     "output_type": "display_data"
    },
    {
     "name": "stdout",
     "output_type": "stream",
     "text": [
      "(96, 7, 71)\n",
      "predicted:  か actual:  る\n"
     ]
    },
    {
     "data": {
      "image/png": "[encoded data removed]",
      "text/plain": [
       "<Figure size 72x72 with 1 Axes>"
      ]
     },
     "metadata": {
      "needs_background": "light"
     },
     "output_type": "display_data"
    },
    {
     "name": "stdout",
     "output_type": "stream",
     "text": [
      "(103, 17, 45)\n",
      "predicted:  さ actual:  ぱ\n"
     ]
    },
    {
     "data": {
      "image/png": "[encoded data removed]",
      "text/plain": [
       "<Figure size 72x72 with 1 Axes>"
      ]
     },
     "metadata": {
      "needs_background": "light"
     },
     "output_type": "display_data"
    },
    {
     "name": "stdout",
     "output_type": "stream",
     "text": [
      "(110, 58, 68)\n",
      "predicted:  ま actual:  よ\n"
     ]
    },
    {
     "data": {
      "image/png": "[encoded data removed]",
      "text/plain": [
       "<Figure size 72x72 with 1 Axes>"
      ]
     },
     "metadata": {
      "needs_background": "light"
     },
     "output_type": "display_data"
    },
    {
     "name": "stdout",
     "output_type": "stream",
     "text": [
      "(116, 55, 71)\n",
      "predicted:  ほ actual:  る\n"
     ]
    },
    {
     "data": {
      "image/png": "[encoded data removed]",
      "text/plain": [
       "<Figure size 72x72 with 1 Axes>"
      ]
     },
     "metadata": {
      "needs_background": "light"
     },
     "output_type": "display_data"
    },
    {
     "name": "stdout",
     "output_type": "stream",
     "text": [
      "(119, 42, 32)\n",
      "predicted:  の actual:  つ\n"
     ]
    },
    {
     "data": {
      "image/png": "[encoded data removed]",
      "text/plain": [
       "<Figure size 72x72 with 1 Axes>"
      ]
     },
     "metadata": {
      "needs_background": "light"
     },
     "output_type": "display_data"
    },
    {
     "name": "stdout",
     "output_type": "stream",
     "text": [
      "(134, 7, 4)\n",
      "predicted:  か actual:  う\n"
     ]
    },
    {
     "data": {
      "image/png": "[encoded data removed]",
      "text/plain": [
       "<Figure size 72x72 with 1 Axes>"
      ]
     },
     "metadata": {
      "needs_background": "light"
     },
     "output_type": "display_data"
    },
    {
     "name": "stdout",
     "output_type": "stream",
     "text": [
      "(157, 70, 13)\n",
      "predicted:  り actual:  け\n"
     ]
    },
    {
     "data": {
      "image/png": "[encoded data removed]",
      "text/plain": [
       "<Figure size 72x72 with 1 Axes>"
      ]
     },
     "metadata": {
      "needs_background": "light"
     },
     "output_type": "display_data"
    },
    {
     "name": "stdout",
     "output_type": "stream",
     "text": [
      "(170, 62, 77)\n",
      "predicted:  も actual:  を\n"
     ]
    },
    {
     "data": {
      "image/png": "[encoded data removed]",
      "text/plain": [
       "<Figure size 72x72 with 1 Axes>"
      ]
     },
     "metadata": {
      "needs_background": "light"
     },
     "output_type": "display_data"
    },
    {
     "name": "stdout",
     "output_type": "stream",
     "text": [
      "(173, 49, 64)\n",
      "predicted:  ふ actual:  や\n"
     ]
    },
    {
     "data": {
      "image/png": "[encoded data removed]",
      "text/plain": [
       "<Figure size 72x72 with 1 Axes>"
      ]
     },
     "metadata": {
      "needs_background": "light"
     },
     "output_type": "display_data"
    },
    {
     "name": "stdout",
     "output_type": "stream",
     "text": [
      "(182, 42, 41)\n",
      "predicted:  の actual:  ね\n"
     ]
    },
    {
     "data": {
      "image/png": "[encoded data removed]",
      "text/plain": [
       "<Figure size 72x72 with 1 Axes>"
      ]
     },
     "metadata": {
      "needs_background": "light"
     },
     "output_type": "display_data"
    },
    {
     "name": "stdout",
     "output_type": "stream",
     "text": [
      "(191, 66, 49)\n",
      "predicted:  ゆ actual:  ふ\n"
     ]
    },
    {
     "data": {
      "image/png": "[encoded data removed]",
      "text/plain": [
       "<Figure size 72x72 with 1 Axes>"
      ]
     },
     "metadata": {
      "needs_background": "light"
     },
     "output_type": "display_data"
    }
   ],
   "source": [
    "%matplotlib inline\n",
    "\n",
    "mistakes = []\n",
    "for i in range(len(y_predict)):\n",
    "    max_p = 0\n",
    "    max_a = 0\n",
    "    for j in range(len(unicode_to_int)):\n",
    "        if y_predict[i][max_p] < y_predict[i][j]:\n",
    "            max_p = j\n",
    "        if y_test[i][max_a] < y_test[i][j]:\n",
    "            max_a = j\n",
    "    if max_p != max_a:\n",
    "        mistakes.append((i,max_p,max_a))\n",
    "    if len(mistakes) > 20:\n",
    "        break;\n",
    "\n",
    "for m in mistakes:\n",
    "    (mistake, predicted, actual) = m\n",
    "    print(m)\n",
    "    print(\"predicted: \", unicode_to_char[predicted], \"actual: \", unicode_to_char[actual])\n",
    "    image = X_test[mistake].reshape(30,30)\n",
    "    plt.figure(figsize=(1,1))\n",
    "    plt.imshow(image, cmap=plt.cm.gray, interpolation='nearest')\n",
    "    plt.show()    \n",
    "    j += 1\n"
   ]
  },
  {
   "cell_type": "code",
   "execution_count": 13,
   "metadata": {},
   "outputs": [
    {
     "name": "stdout",
     "output_type": "stream",
     "text": [
      "0.9986911891828554\n"
     ]
    }
   ],
   "source": [
    "from sklearn import metrics\n",
    "\n",
    "y_predict_p = model.predict_proba(X_test)\n",
    "fpr, tpr, thresholds = metrics.roc_curve(y_test.argmax(1), y_predict_p[:,1], pos_label=1)\n",
    "AUC = metrics.auc(fpr, tpr)\n",
    "\n",
    "print(AUC)"
   ]
  },
  {
   "cell_type": "markdown",
   "metadata": {},
   "source": [
    "### Increasing accuracy by duplicating sparce data"
   ]
  },
  {
   "cell_type": "code",
   "execution_count": 24,
   "metadata": {},
   "outputs": [
    {
     "name": "stdout",
     "output_type": "stream",
     "text": [
      "counts: \n",
      "            count\n",
      "character       \n",
      "U+3087         3\n",
      "U+3083         4\n",
      "U+3085         5\n",
      "U+3077        14\n",
      "U+309F        31\n",
      "U+307A        31\n",
      "U+3074        33\n",
      "U+3063        39\n",
      "U+307D        45\n",
      "U+3071       119\n",
      "U+3032       187\n",
      "U+3062       344\n",
      "U+305C       395\n",
      "U+3091       396\n",
      "U+3090       428\n",
      "U+309E       564\n",
      "U+3048       625\n",
      "U+3050       632\n",
      "U+307C       697\n",
      "U+304E       747\n",
      "U+3052       859\n",
      "U+305E       871\n",
      "U+3076       931\n",
      "U+3065      1077\n",
      "U+3073      1127\n",
      "U+3056      1357\n",
      "U+3054      1385\n",
      "U+3080      1509\n",
      "U+3086      1604\n",
      "U+306C      1810\n",
      "...          ...\n",
      "U+304A      5953\n",
      "U+3084      6141\n",
      "U+3042      6185\n",
      "U+3059      6592\n",
      "U+3046      6725\n",
      "U+304C      6740\n",
      "U+3093      6994\n",
      "U+3064      7052\n",
      "U+3075      7076\n",
      "U+3055      7089\n",
      "U+308C      7144\n",
      "U+304D      7686\n",
      "U+307E      8075\n",
      "U+3078      8168\n",
      "U+304F      9167\n",
      "U+305F      9973\n",
      "U+3089     10089\n",
      "U+308B     11617\n",
      "U+3044     11903\n",
      "U+3082     12325\n",
      "U+306A     13750\n",
      "U+308A     14184\n",
      "U+304B     14342\n",
      "U+306F     14758\n",
      "U+3092     15743\n",
      "U+3068     16588\n",
      "U+3066     20569\n",
      "U+3057     22207\n",
      "U+306E     24136\n",
      "U+306B     24685\n",
      "\n",
      "[82 rows x 1 columns]\n"
     ]
    }
   ],
   "source": [
    "char_counts = pd.DataFrame(df_hiragana.groupby(['character']).size(), columns=[\"count\"])\n",
    "print(\"counts: \\n\", char_counts.sort_values(by=[\"count\"][:10]))"
   ]
  },
  {
   "cell_type": "code",
   "execution_count": 25,
   "metadata": {},
   "outputs": [
    {
     "data": {
      "image/png": "[encoded data removed]",
      "text/plain": [
       "<Figure size 72x72 with 1 Axes>"
      ]
     },
     "metadata": {
      "needs_background": "light"
     },
     "output_type": "display_data"
    },
    {
     "data": {
      "image/png": "[encoded data removed]",
      "text/plain": [
       "<Figure size 72x72 with 1 Axes>"
      ]
     },
     "metadata": {
      "needs_background": "light"
     },
     "output_type": "display_data"
    },
    {
     "data": {
      "image/png": "[encoded data removed]",
      "text/plain": [
       "<Figure size 72x72 with 1 Axes>"
      ]
     },
     "metadata": {
      "needs_background": "light"
     },
     "output_type": "display_data"
    },
    {
     "data": {
      "image/png": "[encoded data removed]",
      "text/plain": [
       "<Figure size 72x72 with 1 Axes>"
      ]
     },
     "metadata": {
      "needs_background": "light"
     },
     "output_type": "display_data"
    },
    {
     "data": {
      "image/png": "[encoded data removed]",
      "text/plain": [
       "<Figure size 72x72 with 1 Axes>"
      ]
     },
     "metadata": {
      "needs_background": "light"
     },
     "output_type": "display_data"
    },
    {
     "data": {
      "image/png": "[encoded data removed]",
      "text/plain": [
       "<Figure size 72x72 with 1 Axes>"
      ]
     },
     "metadata": {
      "needs_background": "light"
     },
     "output_type": "display_data"
    },
    {
     "data": {
      "image/png": "[encoded data removed]",
      "text/plain": [
       "<Figure size 72x72 with 1 Axes>"
      ]
     },
     "metadata": {
      "needs_background": "light"
     },
     "output_type": "display_data"
    },
    {
     "data": {
      "image/png": "[encoded data removed]",
      "text/plain": [
       "<Figure size 72x72 with 1 Axes>"
      ]
     },
     "metadata": {
      "needs_background": "light"
     },
     "output_type": "display_data"
    },
    {
     "data": {
      "image/png": "[encoded data removed]",
      "text/plain": [
       "<Figure size 72x72 with 1 Axes>"
      ]
     },
     "metadata": {
      "needs_background": "light"
     },
     "output_type": "display_data"
    },
    {
     "data": {
      "image/png": "[encoded data removed]",
      "text/plain": [
       "<Figure size 72x72 with 1 Axes>"
      ]
     },
     "metadata": {
      "needs_background": "light"
     },
     "output_type": "display_data"
    },
    {
     "data": {
      "image/png": "[encoded data removed]",
      "text/plain": [
       "<Figure size 72x72 with 1 Axes>"
      ]
     },
     "metadata": {
      "needs_background": "light"
     },
     "output_type": "display_data"
    }
   ],
   "source": [
    "import cv2 as cv\n",
    "import random\n",
    "from scipy import ndimage\n",
    "\n",
    "MINIMUM_DATA = 200\n",
    "\n",
    "hiragana_additions = []\n",
    "under_min = char_counts.loc[char_counts[\"count\"] < MINIMUM_DATA].to_dict()['count']\n",
    "show_sample = 20\n",
    "\n",
    "for char in under_min:\n",
    "    show_this_sample = True\n",
    "    remaining_to_add = MINIMUM_DATA - under_min[char]\n",
    "    char_existing = df_hiragana.loc[df_hiragana[\"character\"] == char]\n",
    "    char_existing = char_existing.drop(columns=[\"character\"])\n",
    "    while remaining_to_add > 0:\n",
    "        for existing in range(len(char_existing)):\n",
    "            if (remaining_to_add < 1):\n",
    "                break\n",
    "            \n",
    "            image *= 255\n",
    "            image = image.astype('int')\n",
    "            image = np.array(char_existing.iloc[[existing]]).reshape(30,30)\n",
    "#             if show_sample > 0 and show_this_sample:\n",
    "#                 plt.figure(figsize=(1,1))\n",
    "#                 plt.xlabel(\"before\")\n",
    "#                 plt.imshow(image, cmap=plt.cm.gray, interpolation='nearest', label=\"before\")\n",
    "            \n",
    "            rotation = random.randint(-20,20)            \n",
    "            resize = random.randint(70,100)\n",
    "            position_updown = random.randint(-10,10)\n",
    "            position_leftright = random.randint(-10,10)\n",
    "            old_size = image.shape[1]\n",
    "            \n",
    "            new_size = int(old_size * (resize/100))\n",
    "            image = np.array(image, dtype='uint8')\n",
    "            image = cv.resize(image,(new_size,new_size))\n",
    "            \n",
    "            pad_total = old_size - image.shape[1]\n",
    "            pad = pad_total/2\n",
    "            padding = [pad,pad,pad,pad]\n",
    "            up_pad_diff = pad * (position_updown/100)\n",
    "            padding[0] = int(padding[0] - up_pad_diff)\n",
    "            padding[1] = int(padding[1] + up_pad_diff)\n",
    "            right_pad_diff = pad * (position_leftright/100)\n",
    "            padding[2] = int(padding[2] - right_pad_diff)\n",
    "            padding[3] = int(padding[3] + right_pad_diff)\n",
    "            if (padding[0] + padding[1]) % 2 == 1 or pad_total == 1 :\n",
    "                padding[0] += 1\n",
    "            if (padding[2] + padding[3]) % 2 == 1 or pad_total == 1 :\n",
    "                padding[2] += 1\n",
    "            image = cv.copyMakeBorder(image, padding[0], padding[1], padding[2], padding[3], cv.BORDER_CONSTANT,value=[255,255,255])\n",
    "\n",
    "            image = ndimage.rotate(image, rotation, reshape=\"true\", mode=\"constant\", cval=255)\n",
    "            image = cv.resize(image,(old_size,old_size))\n",
    "            #image = cv.adaptiveThreshold(image,255,cv.ADAPTIVE_THRESH_GAUSSIAN_C,cv.THRESH_BINARY,21,15)\n",
    "            #r, image = cv.threshold(image,150,255,cv.THRESH_BINARY)\n",
    "            if show_sample > 0 and show_this_sample:\n",
    "                plt.figure(figsize=(1,1))            \n",
    "                plt.xlabel(\"after\")\n",
    "                plt.imshow(image, cmap=plt.cm.gray, interpolation='nearest')\n",
    "                plt.show()\n",
    "                show_sample -= 1\n",
    "                show_this_sample = False\n",
    "            \n",
    "            remaining_to_add -= 1\n",
    "            image.reshape(900)\n",
    "            hiragana_additions.append(np.append(image,char))\n",
    "    "
   ]
  },
  {
   "cell_type": "code",
   "execution_count": 26,
   "metadata": {},
   "outputs": [
    {
     "name": "stdout",
     "output_type": "stream",
     "text": [
      "Adding to data: 1689\n"
     ]
    }
   ],
   "source": [
    "print(\"Adding to data:\", len(hiragana_additions))"
   ]
  },
  {
   "cell_type": "code",
   "execution_count": 27,
   "metadata": {},
   "outputs": [
    {
     "name": "stdout",
     "output_type": "stream",
     "text": [
      "     0    1    2    3    4    5    6    7    8    9  ...  891  892  893  894  \\\n",
      "0  255  255  255  255  255  255  255  255  255  255  ...  255  255  255  255   \n",
      "1  255  255  255  255  255  255  255  255  255  255  ...  255  255  255  255   \n",
      "2  255  255  255  255  255  255  255  255  255  255  ...  255  255  255  255   \n",
      "3  255  255  255  255  255  255  255  255  255  255  ...  255  255  255  255   \n",
      "4  255  255  255  255  255  255  255  255  255  255  ...  255  255  255  255   \n",
      "\n",
      "   895  896  897  898  899 character  \n",
      "0  255  255  255  255  255    U+3032  \n",
      "1  255  255  255  255  255    U+3032  \n",
      "2  255  255  255  255  255    U+3032  \n",
      "3  255  255  255  255  255    U+3032  \n",
      "4  255  255  255  255  255    U+3032  \n",
      "\n",
      "[5 rows x 901 columns]\n",
      "counts: \n",
      "            count\n",
      "character       \n",
      "U+309F       200\n",
      "U+3032       200\n",
      "U+3071       200\n",
      "U+3074       200\n",
      "U+3087       200\n",
      "U+3077       200\n",
      "U+307A       200\n",
      "U+3085       200\n",
      "U+3083       200\n",
      "U+3063       200\n"
     ]
    }
   ],
   "source": [
    "df_hiragana_additions = pd.DataFrame(columns=df_hiragana.columns, data=hiragana_additions)\n",
    "print(df_hiragana_additions.head())\n",
    "df_hiragana_minimum = pd.concat([df_hiragana, df_hiragana_additions], ignore_index=True)\n",
    "char_counts = pd.DataFrame(df_hiragana_minimum.groupby(['character']).size(), columns=[\"count\"])\n",
    "print(\"counts: \\n\", char_counts.sort_values(by=[\"count\"])[:10])"
   ]
  },
  {
   "cell_type": "code",
   "execution_count": 28,
   "metadata": {},
   "outputs": [],
   "source": [
    "X = df_hiragana_minimum.drop(columns=[\"character\"])\n",
    "y = df_hiragana_minimum[\"character\"]\n",
    "\n",
    "y = y.map(unicode_to_int)  \n",
    "\n",
    "# Some values in the dataframe were showing as nan, so we have to get rid of them manually.\n",
    "drops = []\n",
    "for i in range(0,len(y)):\n",
    "    if math.isnan(y[i]):\n",
    "        drops.append(i)\n",
    "\n",
    "y = y.drop(drops)\n",
    "X = X.drop(drops)\n",
    "\n",
    "y = list(y)\n",
    "X = X.to_numpy().astype('int')\n",
    "X = X.astype('float32')\n",
    "X /= 255\n",
    "y = np_utils.to_categorical(y, 82)\n",
    "\n",
    "X_train, X_test, y_train, y_test = train_test_split(X, y, test_size=0.1, random_state=3)"
   ]
  },
  {
   "cell_type": "code",
   "execution_count": 29,
   "metadata": {},
   "outputs": [
    {
     "name": "stdout",
     "output_type": "stream",
     "text": [
      "Train on 260905 samples, validate on 128506 samples\n",
      "Epoch 1/30\n",
      "260905/260905 [==============================] - 99s 378us/step - loss: 1.1101 - accuracy: 0.7228 - val_loss: 0.7327 - val_accuracy: 0.8124\n",
      "Epoch 2/30\n",
      "260905/260905 [==============================] - 99s 380us/step - loss: 0.6620 - accuracy: 0.8289 - val_loss: 0.6516 - val_accuracy: 0.8284\n",
      "Epoch 3/30\n",
      "260905/260905 [==============================] - 100s 382us/step - loss: 0.5755 - accuracy: 0.8488 - val_loss: 0.6041 - val_accuracy: 0.8423\n",
      "Epoch 4/30\n",
      "260905/260905 [==============================] - 99s 378us/step - loss: 0.5310 - accuracy: 0.8586 - val_loss: 0.5704 - val_accuracy: 0.8502\n",
      "Epoch 5/30\n",
      "260905/260905 [==============================] - 99s 379us/step - loss: 0.5018 - accuracy: 0.8652 - val_loss: 0.5701 - val_accuracy: 0.8499\n",
      "Epoch 6/30\n",
      "260905/260905 [==============================] - 99s 380us/step - loss: 0.4817 - accuracy: 0.8693 - val_loss: 0.5608 - val_accuracy: 0.8522\n",
      "Epoch 7/30\n",
      "260905/260905 [==============================] - 99s 378us/step - loss: 0.4684 - accuracy: 0.8730 - val_loss: 0.5549 - val_accuracy: 0.8552\n",
      "Epoch 8/30\n",
      "260905/260905 [==============================] - 99s 379us/step - loss: 0.4567 - accuracy: 0.8758 - val_loss: 0.5170 - val_accuracy: 0.8647\n",
      "Epoch 9/30\n",
      "260905/260905 [==============================] - 99s 379us/step - loss: 0.4446 - accuracy: 0.8789 - val_loss: 0.5256 - val_accuracy: 0.8635\n",
      "Epoch 10/30\n",
      "260905/260905 [==============================] - 100s 384us/step - loss: 0.4375 - accuracy: 0.8790 - val_loss: 0.5151 - val_accuracy: 0.8675\n",
      "Epoch 11/30\n",
      "260905/260905 [==============================] - 108s 414us/step - loss: 0.4295 - accuracy: 0.8819 - val_loss: 0.5584 - val_accuracy: 0.8554\n",
      "Epoch 12/30\n",
      "260905/260905 [==============================] - 101s 388us/step - loss: 0.4255 - accuracy: 0.8835 - val_loss: 0.5606 - val_accuracy: 0.8564\n",
      "Epoch 13/30\n",
      "260905/260905 [==============================] - 99s 379us/step - loss: 0.4178 - accuracy: 0.8849 - val_loss: 0.5567 - val_accuracy: 0.8560\n",
      "Epoch 14/30\n",
      "260905/260905 [==============================] - 98s 377us/step - loss: 0.4112 - accuracy: 0.8862 - val_loss: 0.5475 - val_accuracy: 0.8594\n",
      "Epoch 15/30\n",
      "260905/260905 [==============================] - 110s 420us/step - loss: 0.4060 - accuracy: 0.8875 - val_loss: 0.5322 - val_accuracy: 0.8629\n",
      "Epoch 16/30\n",
      "260905/260905 [==============================] - 112s 429us/step - loss: 0.3986 - accuracy: 0.8891 - val_loss: 0.5378 - val_accuracy: 0.8644\n",
      "Epoch 17/30\n",
      "260905/260905 [==============================] - 124s 474us/step - loss: 0.3968 - accuracy: 0.8895 - val_loss: 0.5686 - val_accuracy: 0.8576\n",
      "Epoch 18/30\n",
      "260905/260905 [==============================] - 102s 391us/step - loss: 0.3918 - accuracy: 0.8909 - val_loss: 0.5505 - val_accuracy: 0.8625\n",
      "Epoch 19/30\n",
      "260905/260905 [==============================] - 100s 385us/step - loss: 0.3853 - accuracy: 0.8924 - val_loss: 0.5667 - val_accuracy: 0.8589\n",
      "Epoch 20/30\n",
      "260905/260905 [==============================] - 105s 404us/step - loss: 0.3828 - accuracy: 0.8928 - val_loss: 0.5397 - val_accuracy: 0.8659\n",
      "Epoch 21/30\n",
      "260905/260905 [==============================] - 100s 382us/step - loss: 0.3795 - accuracy: 0.8936 - val_loss: 0.5698 - val_accuracy: 0.8583\n",
      "Epoch 22/30\n",
      "260905/260905 [==============================] - 101s 388us/step - loss: 0.3766 - accuracy: 0.8946 - val_loss: 0.5614 - val_accuracy: 0.8618\n",
      "Epoch 23/30\n",
      "260905/260905 [==============================] - 111s 424us/step - loss: 0.3713 - accuracy: 0.8954 - val_loss: 0.5698 - val_accuracy: 0.8597\n",
      "Epoch 24/30\n",
      "260905/260905 [==============================] - 107s 409us/step - loss: 0.3682 - accuracy: 0.8968 - val_loss: 0.5592 - val_accuracy: 0.8631\n",
      "Epoch 25/30\n",
      "260905/260905 [==============================] - 102s 391us/step - loss: 0.3663 - accuracy: 0.8964 - val_loss: 0.5957 - val_accuracy: 0.8562\n",
      "Epoch 26/30\n",
      "260905/260905 [==============================] - 101s 385us/step - loss: 0.3672 - accuracy: 0.8962 - val_loss: 0.5500 - val_accuracy: 0.8658\n",
      "Epoch 27/30\n",
      "260905/260905 [==============================] - 98s 377us/step - loss: 0.3626 - accuracy: 0.8977 - val_loss: 0.5820 - val_accuracy: 0.8578\n",
      "Epoch 28/30\n",
      "260905/260905 [==============================] - 99s 379us/step - loss: 0.3612 - accuracy: 0.8981 - val_loss: 0.5757 - val_accuracy: 0.8604\n",
      "Epoch 29/30\n",
      "260905/260905 [==============================] - 99s 381us/step - loss: 0.3538 - accuracy: 0.9000 - val_loss: 0.5708 - val_accuracy: 0.8617\n",
      "Epoch 30/30\n",
      "260905/260905 [==============================] - 100s 382us/step - loss: 0.3505 - accuracy: 0.9011 - val_loss: 0.5920 - val_accuracy: 0.8533\n"
     ]
    }
   ],
   "source": [
    "model_min = Sequential()\n",
    "model_min.add(Dense(hidden_neurons, input_dim = input_size))\n",
    "model_min.add(Activation('sigmoid'))\n",
    "model_min.add(Dense(out_size, input_dim = hidden_neurons))\n",
    "model_min.add(Activation('softmax'))\n",
    "\n",
    "model_min.compile(loss='categorical_crossentropy',\n",
    "              metrics=['accuracy'],\n",
    "              optimizer='adam')\n",
    "\n",
    "fitted_model = model_min.fit(X_train, y_train, validation_split=0.33, batch_size=32, epochs=30, verbose=1)\n"
   ]
  },
  {
   "cell_type": "code",
   "execution_count": 30,
   "metadata": {},
   "outputs": [
    {
     "name": "stdout",
     "output_type": "stream",
     "text": [
      "43268/43268 [==============================] - 3s 63us/step\n",
      "\n",
      " ACCURACY: [0.5832847983479842, 0.8567532300949097]\n"
     ]
    }
   ],
   "source": [
    "y_predict = model_min.predict(X_test, verbose=0)\n",
    "score = model_min.evaluate(X_test, y_test, verbose=1)\n",
    "print(\"\\n ACCURACY:\", score)"
   ]
  },
  {
   "cell_type": "code",
   "execution_count": 31,
   "metadata": {},
   "outputs": [
    {
     "name": "stdout",
     "output_type": "stream",
     "text": [
      "(1, 45, 21)\n",
      "predicted:  ぱ actual:  す\n"
     ]
    },
    {
     "data": {
      "image/png": "[encoded data removed]",
      "text/plain": [
       "<Figure size 72x72 with 1 Axes>"
      ]
     },
     "metadata": {
      "needs_background": "light"
     },
     "output_type": "display_data"
    },
    {
     "name": "stdout",
     "output_type": "stream",
     "text": [
      "(11, 3, 7)\n",
      "predicted:  い actual:  か\n"
     ]
    },
    {
     "data": {
      "image/png": "[encoded data removed]",
      "text/plain": [
       "<Figure size 72x72 with 1 Axes>"
      ]
     },
     "metadata": {
      "needs_background": "light"
     },
     "output_type": "display_data"
    },
    {
     "name": "stdout",
     "output_type": "stream",
     "text": [
      "(12, 29, 30)\n",
      "predicted:  ち actual:  ぢ\n"
     ]
    },
    {
     "data": {
      "image/png": "[encoded data removed]",
      "text/plain": [
       "<Figure size 72x72 with 1 Axes>"
      ]
     },
     "metadata": {
      "needs_background": "light"
     },
     "output_type": "display_data"
    },
    {
     "name": "stdout",
     "output_type": "stream",
     "text": [
      "(16, 77, 23)\n",
      "predicted:  を actual:  せ\n"
     ]
    },
    {
     "data": {
      "image/png": "[encoded data removed]",
      "text/plain": [
       "<Figure size 72x72 with 1 Axes>"
      ]
     },
     "metadata": {
      "needs_background": "light"
     },
     "output_type": "display_data"
    },
    {
     "name": "stdout",
     "output_type": "stream",
     "text": [
      "(24, 42, 61)\n",
      "predicted:  の actual:  め\n"
     ]
    },
    {
     "data": {
      "image/png": "[encoded data removed]",
      "text/plain": [
       "<Figure size 72x72 with 1 Axes>"
      ]
     },
     "metadata": {
      "needs_background": "light"
     },
     "output_type": "display_data"
    },
    {
     "name": "stdout",
     "output_type": "stream",
     "text": [
      "(25, 74, 39)\n",
      "predicted:  わ actual:  に\n"
     ]
    },
    {
     "data": {
      "image/png": "[encoded data removed]",
      "text/plain": [
       "<Figure size 72x72 with 1 Axes>"
      ]
     },
     "metadata": {
      "needs_background": "light"
     },
     "output_type": "display_data"
    },
    {
     "name": "stdout",
     "output_type": "stream",
     "text": [
      "(29, 39, 73)\n",
      "predicted:  に actual:  ろ\n"
     ]
    },
    {
     "data": {
      "image/png": "[encoded data removed]",
      "text/plain": [
       "<Figure size 72x72 with 1 Axes>"
      ]
     },
     "metadata": {
      "needs_background": "light"
     },
     "output_type": "display_data"
    },
    {
     "name": "stdout",
     "output_type": "stream",
     "text": [
      "(33, 49, 43)\n",
      "predicted:  ふ actual:  は\n"
     ]
    },
    {
     "data": {
      "image/png": "[encoded data removed]",
      "text/plain": [
       "<Figure size 72x72 with 1 Axes>"
      ]
     },
     "metadata": {
      "needs_background": "light"
     },
     "output_type": "display_data"
    },
    {
     "name": "stdout",
     "output_type": "stream",
     "text": [
      "(43, 9, 17)\n",
      "predicted:  き actual:  さ\n"
     ]
    },
    {
     "data": {
      "image/png": "[encoded data removed]",
      "text/plain": [
       "<Figure size 72x72 with 1 Axes>"
      ]
     },
     "metadata": {
      "needs_background": "light"
     },
     "output_type": "display_data"
    },
    {
     "name": "stdout",
     "output_type": "stream",
     "text": [
      "(58, 70, 40)\n",
      "predicted:  り actual:  ぬ\n"
     ]
    },
    {
     "data": {
      "image/png": "[encoded data removed]",
      "text/plain": [
       "<Figure size 72x72 with 1 Axes>"
      ]
     },
     "metadata": {
      "needs_background": "light"
     },
     "output_type": "display_data"
    },
    {
     "name": "stdout",
     "output_type": "stream",
     "text": [
      "(60, 39, 68)\n",
      "predicted:  に actual:  よ\n"
     ]
    },
    {
     "data": {
      "image/png": "[encoded data removed]",
      "text/plain": [
       "<Figure size 72x72 with 1 Axes>"
      ]
     },
     "metadata": {
      "needs_background": "light"
     },
     "output_type": "display_data"
    },
    {
     "name": "stdout",
     "output_type": "stream",
     "text": [
      "(66, 19, 20)\n",
      "predicted:  し actual:  じ\n"
     ]
    },
    {
     "data": {
      "image/png": "[encoded data removed]",
      "text/plain": [
       "<Figure size 72x72 with 1 Axes>"
      ]
     },
     "metadata": {
      "needs_background": "light"
     },
     "output_type": "display_data"
    },
    {
     "name": "stdout",
     "output_type": "stream",
     "text": [
      "(74, 9, 27)\n",
      "predicted:  き actual:  た\n"
     ]
    },
    {
     "data": {
      "image/png": "[encoded data removed]",
      "text/plain": [
       "<Figure size 72x72 with 1 Axes>"
      ]
     },
     "metadata": {
      "needs_background": "light"
     },
     "output_type": "display_data"
    },
    {
     "name": "stdout",
     "output_type": "stream",
     "text": [
      "(89, 32, 77)\n",
      "predicted:  つ actual:  を\n"
     ]
    },
    {
     "data": {
      "image/png": "[encoded data removed]",
      "text/plain": [
       "<Figure size 72x72 with 1 Axes>"
      ]
     },
     "metadata": {
      "needs_background": "light"
     },
     "output_type": "display_data"
    },
    {
     "name": "stdout",
     "output_type": "stream",
     "text": [
      "(92, 64, 66)\n",
      "predicted:  や actual:  ゆ\n"
     ]
    },
    {
     "data": {
      "image/png": "[encoded data removed]",
      "text/plain": [
       "<Figure size 72x72 with 1 Axes>"
      ]
     },
     "metadata": {
      "needs_background": "light"
     },
     "output_type": "display_data"
    },
    {
     "name": "stdout",
     "output_type": "stream",
     "text": [
      "(98, 10, 28)\n",
      "predicted:  ぎ actual:  だ\n"
     ]
    },
    {
     "data": {
      "image/png": "[encoded data removed]",
      "text/plain": [
       "<Figure size 72x72 with 1 Axes>"
      ]
     },
     "metadata": {
      "needs_background": "light"
     },
     "output_type": "display_data"
    },
    {
     "name": "stdout",
     "output_type": "stream",
     "text": [
      "(100, 74, 38)\n",
      "predicted:  わ actual:  な\n"
     ]
    },
    {
     "data": {
      "image/png": "[encoded data removed]",
      "text/plain": [
       "<Figure size 72x72 with 1 Axes>"
      ]
     },
     "metadata": {
      "needs_background": "light"
     },
     "output_type": "display_data"
    },
    {
     "name": "stdout",
     "output_type": "stream",
     "text": [
      "(112, 37, 36)\n",
      "predicted:  ど actual:  と\n"
     ]
    },
    {
     "data": {
      "image/png": "[encoded data removed]",
      "text/plain": [
       "<Figure size 72x72 with 1 Axes>"
      ]
     },
     "metadata": {
      "needs_background": "light"
     },
     "output_type": "display_data"
    },
    {
     "name": "stdout",
     "output_type": "stream",
     "text": [
      "(114, 3, 32)\n",
      "predicted:  い actual:  つ\n"
     ]
    },
    {
     "data": {
      "image/png": "[encoded data removed]",
      "text/plain": [
       "<Figure size 72x72 with 1 Axes>"
      ]
     },
     "metadata": {
      "needs_background": "light"
     },
     "output_type": "display_data"
    },
    {
     "name": "stdout",
     "output_type": "stream",
     "text": [
      "(125, 49, 19)\n",
      "predicted:  ふ actual:  し\n"
     ]
    },
    {
     "data": {
      "image/png": "[encoded data removed]",
      "text/plain": [
       "<Figure size 72x72 with 1 Axes>"
      ]
     },
     "metadata": {
      "needs_background": "light"
     },
     "output_type": "display_data"
    },
    {
     "name": "stdout",
     "output_type": "stream",
     "text": [
      "(126, 55, 46)\n",
      "predicted:  ほ actual:  ひ\n"
     ]
    },
    {
     "data": {
      "image/png": "[encoded data removed]",
      "text/plain": [
       "<Figure size 72x72 with 1 Axes>"
      ]
     },
     "metadata": {
      "needs_background": "light"
     },
     "output_type": "display_data"
    }
   ],
   "source": [
    "mistakes = []\n",
    "for i in range(len(y_predict)):\n",
    "    max_p = 0\n",
    "    max_a = 0\n",
    "    for j in range(len(unicode_to_int)):\n",
    "        if y_predict[i][max_p] < y_predict[i][j]:\n",
    "            max_p = j\n",
    "        if y_test[i][max_a] < y_test[i][j]:\n",
    "            max_a = j\n",
    "    if max_p != max_a:\n",
    "        mistakes.append((i,max_p,max_a))\n",
    "    if len(mistakes) > 20:\n",
    "        break;\n",
    "\n",
    "for m in mistakes:\n",
    "    (mistake, predicted, actual) = m\n",
    "    print(m)\n",
    "    print(\"predicted: \", unicode_to_char[predicted], \"actual: \", unicode_to_char[actual])\n",
    "    image = X_test[mistake].reshape(30,30)\n",
    "    plt.figure(figsize=(1,1))\n",
    "    plt.imshow(image, cmap=plt.cm.gray, interpolation='nearest')\n",
    "    plt.show()    \n",
    "    j += 1\n"
   ]
  },
  {
   "cell_type": "code",
   "execution_count": 32,
   "metadata": {},
   "outputs": [
    {
     "name": "stdout",
     "output_type": "stream",
     "text": [
      "0.9958037276463988\n"
     ]
    }
   ],
   "source": [
    "from sklearn import metrics\n",
    "\n",
    "y_predict_minp = model_min.predict_proba(X_test)\n",
    "fpr_min, tpr_min, thresholds_min = metrics.roc_curve(y_test.argmax(1), y_predict_minp[:,1], pos_label=1)\n",
    "AUC_min = metrics.auc(fpr_min, tpr_min)\n",
    "\n",
    "print(AUC_min)"
   ]
  },
  {
   "cell_type": "code",
   "execution_count": 33,
   "metadata": {},
   "outputs": [
    {
     "data": {
      "image/png": "[encoded data removed]",
      "text/plain": [
       "<Figure size 432x432 with 1 Axes>"
      ]
     },
     "metadata": {
      "needs_background": "light"
     },
     "output_type": "display_data"
    }
   ],
   "source": [
    "plt.figure(figsize=(6,6))\n",
    "plt.plot(fpr, tpr, color='red', lw=2, label='Original Data')\n",
    "plt.plot(fpr_min, tpr_min, color='blue', lw=2, label='Data with Minimum Values Added')\n",
    "plt.plot([0, 1], [0, 1], color='black', lw=1, linestyle='--')\n",
    "\n",
    "plt.xlim([-0.005, 1.005])\n",
    "plt.ylim([0.0, 1.01])\n",
    "\n",
    "plt.xlabel('False Positive Rate')\n",
    "plt.ylabel('True Positive Rate')\n",
    "plt.title('Receiver operating characteristic')\n",
    "plt.legend(loc=\"lower right\")\n",
    "\n",
    "plt.show()"
   ]
  },
  {
   "cell_type": "code",
   "execution_count": null,
   "metadata": {},
   "outputs": [],
   "source": []
  },
  {
   "cell_type": "code",
   "execution_count": null,
   "metadata": {},
   "outputs": [],
   "source": []
  }
 ],
 "metadata": {
  "kernelspec": {
   "display_name": "Python 3",
   "language": "python",
   "name": "python3"
  },
  "language_info": {
   "codemirror_mode": {
    "name": "ipython",
    "version": 3
   },
   "file_extension": ".py",
   "mimetype": "text/x-python",
   "name": "python",
   "nbconvert_exporter": "python",
   "pygments_lexer": "ipython3",
   "version": "3.7.3"
  }
 },
 "nbformat": 4,
 "nbformat_minor": 2
}
